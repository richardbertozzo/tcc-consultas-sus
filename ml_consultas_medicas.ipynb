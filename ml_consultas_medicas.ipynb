{
  "nbformat": 4,
  "nbformat_minor": 0,
  "metadata": {
    "colab": {
      "name": "Dataset consultas medicas",
      "provenance": [],
      "collapsed_sections": [
        "P6QQqBhJJ27T",
        "syZxJqz1-PiF"
      ],
      "toc_visible": true
    },
    "kernelspec": {
      "name": "python3",
      "display_name": "Python 3"
    }
  },
  "cells": [
    {
      "cell_type": "markdown",
      "metadata": {
        "id": "rdESuBS0VilC",
        "colab_type": "text"
      },
      "source": [
        "# 1. Carregando dados\n",
        "- Carregando dataset\n",
        "- Carregando bibliotecas\n",
        "- Mostrando os primeiros registros"
      ]
    },
    {
      "cell_type": "code",
      "metadata": {
        "id": "PALJ8DqRMtsX",
        "colab_type": "code",
        "outputId": "66b90a0d-b787-4411-a950-c4b3784e2d86",
        "colab": {
          "base_uri": "https://localhost:8080/",
          "height": 122
        }
      },
      "source": [
        "# Run this cell to mount your Google Drive.\n",
        "from google.colab import drive\n",
        "drive.mount('/content/drive')"
      ],
      "execution_count": 0,
      "outputs": [
        {
          "output_type": "stream",
          "text": [
            "Go to this URL in a browser: https://accounts.google.com/o/oauth2/auth?client_id=947318989803-6bn6qk8qdgf4n4g3pfee6491hc0brc4i.apps.googleusercontent.com&redirect_uri=urn%3Aietf%3Awg%3Aoauth%3A2.0%3Aoob&scope=email%20https%3A%2F%2Fwww.googleapis.com%2Fauth%2Fdocs.test%20https%3A%2F%2Fwww.googleapis.com%2Fauth%2Fdrive%20https%3A%2F%2Fwww.googleapis.com%2Fauth%2Fdrive.photos.readonly%20https%3A%2F%2Fwww.googleapis.com%2Fauth%2Fpeopleapi.readonly&response_type=code\n",
            "\n",
            "Enter your authorization code:\n",
            "··········\n",
            "Mounted at /content/drive\n"
          ],
          "name": "stdout"
        }
      ]
    },
    {
      "cell_type": "markdown",
      "metadata": {
        "id": "L7rsbipno5rt",
        "colab_type": "text"
      },
      "source": [
        "Install specif version of sklearn"
      ]
    },
    {
      "cell_type": "code",
      "metadata": {
        "id": "00zoMLMmlIs5",
        "colab_type": "code",
        "outputId": "ab0cb308-6fc8-4701-d935-a99b65316209",
        "colab": {
          "base_uri": "https://localhost:8080/",
          "height": 238
        }
      },
      "source": [
        "# !pip install -U scikit-learn # install latest version of sklearn if necessary\n",
        "!pip install --pre -f https://sklearn-nightly.scdn8.secure.raxcdn.com scikit-learn==0.22.dev0\n",
        "\n",
        "import sklearn \n",
        "print('The scikit-learn version is {}.'.format(sklearn.__version__))"
      ],
      "execution_count": 0,
      "outputs": [
        {
          "output_type": "stream",
          "text": [
            "Looking in links: https://sklearn-nightly.scdn8.secure.raxcdn.com\n",
            "Collecting scikit-learn==0.22.dev0\n",
            "\u001b[?25l  Downloading https://sklearn-nightly.scdn8.secure.raxcdn.com/scikit_learn-0.22.dev0%2B20191025225630-cp36-cp36m-manylinux1_x86_64.whl (6.9MB)\n",
            "\u001b[K     |████████████████████████████████| 6.9MB 3.7MB/s \n",
            "\u001b[?25hRequirement already satisfied: scipy>=0.17.0 in /usr/local/lib/python3.6/dist-packages (from scikit-learn==0.22.dev0) (1.3.1)\n",
            "Requirement already satisfied: joblib>=0.11 in /usr/local/lib/python3.6/dist-packages (from scikit-learn==0.22.dev0) (0.14.0)\n",
            "Requirement already satisfied: numpy>=1.11.0 in /usr/local/lib/python3.6/dist-packages (from scikit-learn==0.22.dev0) (1.17.3)\n",
            "Installing collected packages: scikit-learn\n",
            "  Found existing installation: scikit-learn 0.21.3\n",
            "    Uninstalling scikit-learn-0.21.3:\n",
            "      Successfully uninstalled scikit-learn-0.21.3\n",
            "Successfully installed scikit-learn-0.22.dev0\n",
            "The scikit-learn version is 0.22.dev0.\n"
          ],
          "name": "stdout"
        }
      ]
    },
    {
      "cell_type": "code",
      "metadata": {
        "id": "HczFJ6HGfPFl",
        "colab_type": "code",
        "cellView": "code",
        "outputId": "bfe85ddf-1cd3-4a10-b5d8-0f677768fa14",
        "colab": {
          "base_uri": "https://localhost:8080/",
          "height": 306
        }
      },
      "source": [
        "import pandas as pd\n",
        "import numpy as np\n",
        "import matplotlib.pyplot as plt\n",
        "import seaborn as sns\n",
        "sns.set_style(\"whitegrid\")\n",
        "\n",
        "low_memory = False\n",
        "\n",
        "df = pd.read_csv('drive/My Drive/TCC/dataset/dataset.csv', sep=',') # , index_col=1\n",
        "\n",
        "df.head()"
      ],
      "execution_count": 0,
      "outputs": [
        {
          "output_type": "execute_result",
          "data": {
            "text/html": [
              "<div>\n",
              "<style scoped>\n",
              "    .dataframe tbody tr th:only-of-type {\n",
              "        vertical-align: middle;\n",
              "    }\n",
              "\n",
              "    .dataframe tbody tr th {\n",
              "        vertical-align: top;\n",
              "    }\n",
              "\n",
              "    .dataframe thead th {\n",
              "        text-align: right;\n",
              "    }\n",
              "</style>\n",
              "<table border=\"1\" class=\"dataframe\">\n",
              "  <thead>\n",
              "    <tr style=\"text-align: right;\">\n",
              "      <th></th>\n",
              "      <th>PatientId</th>\n",
              "      <th>AppointmentID</th>\n",
              "      <th>Gender</th>\n",
              "      <th>ScheduledDay</th>\n",
              "      <th>AppointmentDay</th>\n",
              "      <th>Age</th>\n",
              "      <th>Neighbourhood</th>\n",
              "      <th>Scholarship</th>\n",
              "      <th>Hipertension</th>\n",
              "      <th>Diabetes</th>\n",
              "      <th>Alcoholism</th>\n",
              "      <th>Handcap</th>\n",
              "      <th>SMS_received</th>\n",
              "      <th>No-show</th>\n",
              "    </tr>\n",
              "  </thead>\n",
              "  <tbody>\n",
              "    <tr>\n",
              "      <th>0</th>\n",
              "      <td>2.987250e+13</td>\n",
              "      <td>5642903</td>\n",
              "      <td>F</td>\n",
              "      <td>2016-04-29T18:38:08Z</td>\n",
              "      <td>2016-04-29T00:00:00Z</td>\n",
              "      <td>62</td>\n",
              "      <td>JARDIM DA PENHA</td>\n",
              "      <td>0</td>\n",
              "      <td>1</td>\n",
              "      <td>0</td>\n",
              "      <td>0</td>\n",
              "      <td>0</td>\n",
              "      <td>0</td>\n",
              "      <td>No</td>\n",
              "    </tr>\n",
              "    <tr>\n",
              "      <th>1</th>\n",
              "      <td>5.589978e+14</td>\n",
              "      <td>5642503</td>\n",
              "      <td>M</td>\n",
              "      <td>2016-04-29T16:08:27Z</td>\n",
              "      <td>2016-04-29T00:00:00Z</td>\n",
              "      <td>56</td>\n",
              "      <td>JARDIM DA PENHA</td>\n",
              "      <td>0</td>\n",
              "      <td>0</td>\n",
              "      <td>0</td>\n",
              "      <td>0</td>\n",
              "      <td>0</td>\n",
              "      <td>0</td>\n",
              "      <td>No</td>\n",
              "    </tr>\n",
              "    <tr>\n",
              "      <th>2</th>\n",
              "      <td>4.262962e+12</td>\n",
              "      <td>5642549</td>\n",
              "      <td>F</td>\n",
              "      <td>2016-04-29T16:19:04Z</td>\n",
              "      <td>2016-04-29T00:00:00Z</td>\n",
              "      <td>62</td>\n",
              "      <td>MATA DA PRAIA</td>\n",
              "      <td>0</td>\n",
              "      <td>0</td>\n",
              "      <td>0</td>\n",
              "      <td>0</td>\n",
              "      <td>0</td>\n",
              "      <td>0</td>\n",
              "      <td>No</td>\n",
              "    </tr>\n",
              "    <tr>\n",
              "      <th>3</th>\n",
              "      <td>8.679512e+11</td>\n",
              "      <td>5642828</td>\n",
              "      <td>F</td>\n",
              "      <td>2016-04-29T17:29:31Z</td>\n",
              "      <td>2016-04-29T00:00:00Z</td>\n",
              "      <td>8</td>\n",
              "      <td>PONTAL DE CAMBURI</td>\n",
              "      <td>0</td>\n",
              "      <td>0</td>\n",
              "      <td>0</td>\n",
              "      <td>0</td>\n",
              "      <td>0</td>\n",
              "      <td>0</td>\n",
              "      <td>No</td>\n",
              "    </tr>\n",
              "    <tr>\n",
              "      <th>4</th>\n",
              "      <td>8.841186e+12</td>\n",
              "      <td>5642494</td>\n",
              "      <td>F</td>\n",
              "      <td>2016-04-29T16:07:23Z</td>\n",
              "      <td>2016-04-29T00:00:00Z</td>\n",
              "      <td>56</td>\n",
              "      <td>JARDIM DA PENHA</td>\n",
              "      <td>0</td>\n",
              "      <td>1</td>\n",
              "      <td>1</td>\n",
              "      <td>0</td>\n",
              "      <td>0</td>\n",
              "      <td>0</td>\n",
              "      <td>No</td>\n",
              "    </tr>\n",
              "  </tbody>\n",
              "</table>\n",
              "</div>"
            ],
            "text/plain": [
              "      PatientId  AppointmentID Gender  ... Handcap SMS_received  No-show\n",
              "0  2.987250e+13        5642903      F  ...       0            0       No\n",
              "1  5.589978e+14        5642503      M  ...       0            0       No\n",
              "2  4.262962e+12        5642549      F  ...       0            0       No\n",
              "3  8.679512e+11        5642828      F  ...       0            0       No\n",
              "4  8.841186e+12        5642494      F  ...       0            0       No\n",
              "\n",
              "[5 rows x 14 columns]"
            ]
          },
          "metadata": {
            "tags": []
          },
          "execution_count": 3
        }
      ]
    },
    {
      "cell_type": "markdown",
      "metadata": {
        "id": "bUNBue-vJezA",
        "colab_type": "text"
      },
      "source": [
        "# Pré processamento e limpeza dos dados"
      ]
    },
    {
      "cell_type": "markdown",
      "metadata": {
        "id": "H-OOeEXgVtNr",
        "colab_type": "text"
      },
      "source": [
        "## 1.1 Renomeação das variavéis"
      ]
    },
    {
      "cell_type": "code",
      "metadata": {
        "id": "MxAmA5lNV0Ku",
        "colab_type": "code",
        "outputId": "4058652e-f08b-47a7-b302-e0ca8d610988",
        "colab": {
          "base_uri": "https://localhost:8080/",
          "height": 102
        }
      },
      "source": [
        "df.rename(columns = {'ScheduledDay': 'AppointmentRegistration',\n",
        "                      'AppointmentDay': 'AppointmentData',\n",
        "                      'Hipertension': 'Hypertension',\n",
        "                      'Alcoholism': 'Alchoholism',\n",
        "                      'Handcap': 'Handicap'}, inplace = True)\n",
        "\n",
        "print(df.columns)"
      ],
      "execution_count": 0,
      "outputs": [
        {
          "output_type": "stream",
          "text": [
            "Index(['PatientId', 'AppointmentID', 'Gender', 'AppointmentRegistration',\n",
            "       'AppointmentData', 'Age', 'Neighbourhood', 'Scholarship',\n",
            "       'Hypertension', 'Diabetes', 'Alchoholism', 'Handicap', 'SMS_received',\n",
            "       'No-show'],\n",
            "      dtype='object')\n"
          ],
          "name": "stdout"
        }
      ]
    },
    {
      "cell_type": "markdown",
      "metadata": {
        "id": "aK2rsYIkCnO_",
        "colab_type": "text"
      },
      "source": [
        "## 1.2 Convertenda variaveis para data"
      ]
    },
    {
      "cell_type": "code",
      "metadata": {
        "id": "bwwVqsVOCtM7",
        "colab_type": "code",
        "outputId": "43287957-a355-4056-d868-7f3d9ad03aec",
        "colab": {
          "base_uri": "https://localhost:8080/",
          "height": 221
        }
      },
      "source": [
        "df.AppointmentRegistration = df.AppointmentRegistration.apply(np.datetime64)\n",
        "df.AppointmentData = df.AppointmentData.apply(np.datetime64)\n",
        "\n",
        "print(df.AppointmentRegistration.head())\n",
        "print(df.AppointmentData.head())"
      ],
      "execution_count": 0,
      "outputs": [
        {
          "output_type": "stream",
          "text": [
            "0   2016-04-29 18:38:08\n",
            "1   2016-04-29 16:08:27\n",
            "2   2016-04-29 16:19:04\n",
            "3   2016-04-29 17:29:31\n",
            "4   2016-04-29 16:07:23\n",
            "Name: AppointmentRegistration, dtype: datetime64[ns]\n",
            "0   2016-04-29\n",
            "1   2016-04-29\n",
            "2   2016-04-29\n",
            "3   2016-04-29\n",
            "4   2016-04-29\n",
            "Name: AppointmentData, dtype: datetime64[ns]\n"
          ],
          "name": "stdout"
        }
      ]
    },
    {
      "cell_type": "markdown",
      "metadata": {
        "id": "6iC_31vbvTJG",
        "colab_type": "text"
      },
      "source": [
        "## 1.3 Convertendo Id do Paciente para INT"
      ]
    },
    {
      "cell_type": "code",
      "metadata": {
        "id": "KyQ-tAIKu9U3",
        "colab_type": "code",
        "colab": {}
      },
      "source": [
        "df['PatientId'] = df['PatientId'].astype(np.int64)"
      ],
      "execution_count": 0,
      "outputs": []
    },
    {
      "cell_type": "markdown",
      "metadata": {
        "id": "HfdPLxog885c",
        "colab_type": "text"
      },
      "source": [
        "**1.4 Nova coluna: Dias de espera até a consulta (data da consulta - data do agendamento)**"
      ]
    },
    {
      "cell_type": "code",
      "metadata": {
        "id": "ccaMFHkJ9Pd4",
        "colab_type": "code",
        "outputId": "a67dc7f4-f2cf-4409-bc81-e9522508d422",
        "colab": {
          "base_uri": "https://localhost:8080/",
          "height": 326
        }
      },
      "source": [
        "def absolute_and_round(number):\n",
        "  number = abs(number)\n",
        "  return int(np.ceil(number))\n",
        "  \n",
        "daysToAppointment = df.AppointmentData - df.AppointmentRegistration\n",
        "daysToAppointment = daysToAppointment.apply(lambda x: x.total_seconds() / (3600 * 24))\n",
        "df['AwaitingTime'] = daysToAppointment.apply(absolute_and_round)\n",
        "\n",
        "df.head()"
      ],
      "execution_count": 0,
      "outputs": [
        {
          "output_type": "execute_result",
          "data": {
            "text/html": [
              "<div>\n",
              "<style scoped>\n",
              "    .dataframe tbody tr th:only-of-type {\n",
              "        vertical-align: middle;\n",
              "    }\n",
              "\n",
              "    .dataframe tbody tr th {\n",
              "        vertical-align: top;\n",
              "    }\n",
              "\n",
              "    .dataframe thead th {\n",
              "        text-align: right;\n",
              "    }\n",
              "</style>\n",
              "<table border=\"1\" class=\"dataframe\">\n",
              "  <thead>\n",
              "    <tr style=\"text-align: right;\">\n",
              "      <th></th>\n",
              "      <th>PatientId</th>\n",
              "      <th>AppointmentID</th>\n",
              "      <th>Gender</th>\n",
              "      <th>AppointmentRegistration</th>\n",
              "      <th>AppointmentData</th>\n",
              "      <th>Age</th>\n",
              "      <th>Neighbourhood</th>\n",
              "      <th>Scholarship</th>\n",
              "      <th>Hypertension</th>\n",
              "      <th>Diabetes</th>\n",
              "      <th>Alchoholism</th>\n",
              "      <th>Handicap</th>\n",
              "      <th>SMS_received</th>\n",
              "      <th>No-show</th>\n",
              "      <th>AwaitingTime</th>\n",
              "    </tr>\n",
              "  </thead>\n",
              "  <tbody>\n",
              "    <tr>\n",
              "      <th>0</th>\n",
              "      <td>29872499824296</td>\n",
              "      <td>5642903</td>\n",
              "      <td>F</td>\n",
              "      <td>2016-04-29 18:38:08</td>\n",
              "      <td>2016-04-29</td>\n",
              "      <td>62</td>\n",
              "      <td>JARDIM DA PENHA</td>\n",
              "      <td>0</td>\n",
              "      <td>1</td>\n",
              "      <td>0</td>\n",
              "      <td>0</td>\n",
              "      <td>0</td>\n",
              "      <td>0</td>\n",
              "      <td>No</td>\n",
              "      <td>1</td>\n",
              "    </tr>\n",
              "    <tr>\n",
              "      <th>1</th>\n",
              "      <td>558997776694438</td>\n",
              "      <td>5642503</td>\n",
              "      <td>M</td>\n",
              "      <td>2016-04-29 16:08:27</td>\n",
              "      <td>2016-04-29</td>\n",
              "      <td>56</td>\n",
              "      <td>JARDIM DA PENHA</td>\n",
              "      <td>0</td>\n",
              "      <td>0</td>\n",
              "      <td>0</td>\n",
              "      <td>0</td>\n",
              "      <td>0</td>\n",
              "      <td>0</td>\n",
              "      <td>No</td>\n",
              "      <td>1</td>\n",
              "    </tr>\n",
              "    <tr>\n",
              "      <th>2</th>\n",
              "      <td>4262962299951</td>\n",
              "      <td>5642549</td>\n",
              "      <td>F</td>\n",
              "      <td>2016-04-29 16:19:04</td>\n",
              "      <td>2016-04-29</td>\n",
              "      <td>62</td>\n",
              "      <td>MATA DA PRAIA</td>\n",
              "      <td>0</td>\n",
              "      <td>0</td>\n",
              "      <td>0</td>\n",
              "      <td>0</td>\n",
              "      <td>0</td>\n",
              "      <td>0</td>\n",
              "      <td>No</td>\n",
              "      <td>1</td>\n",
              "    </tr>\n",
              "    <tr>\n",
              "      <th>3</th>\n",
              "      <td>867951213174</td>\n",
              "      <td>5642828</td>\n",
              "      <td>F</td>\n",
              "      <td>2016-04-29 17:29:31</td>\n",
              "      <td>2016-04-29</td>\n",
              "      <td>8</td>\n",
              "      <td>PONTAL DE CAMBURI</td>\n",
              "      <td>0</td>\n",
              "      <td>0</td>\n",
              "      <td>0</td>\n",
              "      <td>0</td>\n",
              "      <td>0</td>\n",
              "      <td>0</td>\n",
              "      <td>No</td>\n",
              "      <td>1</td>\n",
              "    </tr>\n",
              "    <tr>\n",
              "      <th>4</th>\n",
              "      <td>8841186448183</td>\n",
              "      <td>5642494</td>\n",
              "      <td>F</td>\n",
              "      <td>2016-04-29 16:07:23</td>\n",
              "      <td>2016-04-29</td>\n",
              "      <td>56</td>\n",
              "      <td>JARDIM DA PENHA</td>\n",
              "      <td>0</td>\n",
              "      <td>1</td>\n",
              "      <td>1</td>\n",
              "      <td>0</td>\n",
              "      <td>0</td>\n",
              "      <td>0</td>\n",
              "      <td>No</td>\n",
              "      <td>1</td>\n",
              "    </tr>\n",
              "  </tbody>\n",
              "</table>\n",
              "</div>"
            ],
            "text/plain": [
              "         PatientId  AppointmentID Gender  ... SMS_received No-show  AwaitingTime\n",
              "0   29872499824296        5642903      F  ...            0      No             1\n",
              "1  558997776694438        5642503      M  ...            0      No             1\n",
              "2    4262962299951        5642549      F  ...            0      No             1\n",
              "3     867951213174        5642828      F  ...            0      No             1\n",
              "4    8841186448183        5642494      F  ...            0      No             1\n",
              "\n",
              "[5 rows x 15 columns]"
            ]
          },
          "metadata": {
            "tags": []
          },
          "execution_count": 7
        }
      ]
    },
    {
      "cell_type": "markdown",
      "metadata": {
        "id": "fvg2wD18JO3q",
        "colab_type": "text"
      },
      "source": [
        "## 1.5 Nova coluna: Paciente é masculino"
      ]
    },
    {
      "cell_type": "code",
      "metadata": {
        "id": "nyOKZ7k-Janm",
        "colab_type": "code",
        "colab": {}
      },
      "source": [
        "def is_male(gender):\n",
        "  if gender == 'M':\n",
        "    return 1\n",
        "  else:\n",
        "    return 0\n",
        "  \n",
        "df['IsMale'] = df['Gender'].apply(is_male)"
      ],
      "execution_count": 0,
      "outputs": []
    },
    {
      "cell_type": "markdown",
      "metadata": {
        "id": "F-AW2PrzQY3u",
        "colab_type": "text"
      },
      "source": [
        "## 1.6 Nova coluna: No show em formato boolean"
      ]
    },
    {
      "cell_type": "code",
      "metadata": {
        "id": "oczhIK21QX8E",
        "colab_type": "code",
        "colab": {}
      },
      "source": [
        "def converter_no_show(no_show):\n",
        "  if no_show == 'Yes':\n",
        "    return 1\n",
        "  else:\n",
        "    return 0\n",
        "  \n",
        "df['No-show-boolean'] = df['No-show'].apply(converter_no_show)"
      ],
      "execution_count": 0,
      "outputs": []
    },
    {
      "cell_type": "code",
      "metadata": {
        "id": "hd0K0pFC4q19",
        "colab_type": "code",
        "outputId": "fd8581c2-b445-4fdd-bf39-b65a008ec4cc",
        "colab": {
          "base_uri": "https://localhost:8080/",
          "height": 102
        }
      },
      "source": [
        "df.columns"
      ],
      "execution_count": 0,
      "outputs": [
        {
          "output_type": "execute_result",
          "data": {
            "text/plain": [
              "Index(['PatientId', 'AppointmentID', 'Gender', 'AppointmentRegistration',\n",
              "       'AppointmentData', 'Age', 'Neighbourhood', 'Scholarship',\n",
              "       'Hypertension', 'Diabetes', 'Alchoholism', 'Handicap', 'SMS_received',\n",
              "       'No-show', 'AwaitingTime', 'IsMale', 'No-show-boolean'],\n",
              "      dtype='object')"
            ]
          },
          "metadata": {
            "tags": []
          },
          "execution_count": 10
        }
      ]
    },
    {
      "cell_type": "markdown",
      "metadata": {
        "id": "DTA2OnmTiVAX",
        "colab_type": "text"
      },
      "source": [
        "### **Analisando os dados nas colunas**\n",
        "\n",
        "Se são unicos e tem alguma coisa fora do padrão"
      ]
    },
    {
      "cell_type": "code",
      "metadata": {
        "id": "Nx4jnJzq4nAv",
        "colab_type": "code",
        "outputId": "eca476fc-dc4a-42d7-92c1-fdb9248bb9f5",
        "colab": {
          "base_uri": "https://localhost:8080/",
          "height": 207
        }
      },
      "source": [
        "print('Age:',sorted(df.Age.unique()))\n",
        "print('Gender:',df.Gender.unique())\n",
        "print('Diabetes:',df.Diabetes.unique())\n",
        "print('Alchoholism:',df.Alchoholism.unique())\n",
        "print('Hypertension:',df.Hypertension.unique())\n",
        "print('Handicap:',df.Handicap.unique())\n",
        "print('Scholarship:',df.Scholarship.unique())\n",
        "print('SMS_received:',df.SMS_received.unique())\n",
        "print('No-show:', df['No-show'].unique())\n",
        "print('AwaitingTime:', sorted(df.AwaitingTime.unique()))"
      ],
      "execution_count": 0,
      "outputs": [
        {
          "output_type": "stream",
          "text": [
            "Age: [-1, 0, 1, 2, 3, 4, 5, 6, 7, 8, 9, 10, 11, 12, 13, 14, 15, 16, 17, 18, 19, 20, 21, 22, 23, 24, 25, 26, 27, 28, 29, 30, 31, 32, 33, 34, 35, 36, 37, 38, 39, 40, 41, 42, 43, 44, 45, 46, 47, 48, 49, 50, 51, 52, 53, 54, 55, 56, 57, 58, 59, 60, 61, 62, 63, 64, 65, 66, 67, 68, 69, 70, 71, 72, 73, 74, 75, 76, 77, 78, 79, 80, 81, 82, 83, 84, 85, 86, 87, 88, 89, 90, 91, 92, 93, 94, 95, 96, 97, 98, 99, 100, 102, 115]\n",
            "Gender: ['F' 'M']\n",
            "Diabetes: [0 1]\n",
            "Alchoholism: [0 1]\n",
            "Hypertension: [1 0]\n",
            "Handicap: [0 1 2 3 4]\n",
            "Scholarship: [0 1]\n",
            "SMS_received: [0 1]\n",
            "No-show: ['No' 'Yes']\n",
            "AwaitingTime: [1, 2, 3, 4, 5, 6, 7, 8, 9, 10, 11, 12, 13, 14, 15, 16, 17, 18, 19, 20, 21, 22, 23, 24, 25, 26, 27, 28, 29, 30, 31, 32, 33, 34, 35, 36, 37, 38, 39, 40, 41, 42, 43, 44, 45, 46, 47, 48, 49, 50, 51, 52, 53, 54, 55, 56, 57, 58, 59, 60, 61, 62, 63, 64, 65, 66, 67, 68, 69, 70, 71, 72, 73, 74, 75, 76, 77, 78, 79, 80, 81, 82, 83, 84, 85, 86, 87, 88, 89, 90, 91, 92, 93, 94, 95, 96, 97, 98, 101, 102, 103, 104, 105, 107, 108, 109, 110, 111, 112, 115, 117, 119, 122, 123, 125, 126, 127, 132, 133, 139, 142, 146, 151, 155, 162, 169, 176, 179]\n"
          ],
          "name": "stdout"
        }
      ]
    },
    {
      "cell_type": "markdown",
      "metadata": {
        "id": "R6J6aTkk8PKu",
        "colab_type": "text"
      },
      "source": [
        "## 1.7 Removendo as idades fora do range correto"
      ]
    },
    {
      "cell_type": "code",
      "metadata": {
        "id": "x3FHKs5E773Y",
        "colab_type": "code",
        "colab": {}
      },
      "source": [
        "df = df[(df.Age >= 0) & (df.Age <= 95)]"
      ],
      "execution_count": 0,
      "outputs": []
    },
    {
      "cell_type": "markdown",
      "metadata": {
        "id": "jWTRtlwuGZgG",
        "colab_type": "text"
      },
      "source": [
        "## 1.8 Nova coluna: Faixa de idades (criança, adolescente, adulto, idoso)"
      ]
    },
    {
      "cell_type": "code",
      "metadata": {
        "id": "Tt79FU1IGuvP",
        "colab_type": "code",
        "colab": {}
      },
      "source": [
        "def zone_age(age):\n",
        "  if age <= 5:\n",
        "    return 1\n",
        "  elif age > 5 and age <= 12:\n",
        "    return 2\n",
        "  elif age > 12 and age <= 18:\n",
        "    return 3\n",
        "  elif age > 18 and age < 30:\n",
        "    return 4\n",
        "  elif age >= 30 and age < 60:\n",
        "    return 5\n",
        "  else: \n",
        "    return 6\n",
        "\n",
        "\n",
        "def zone_age_label(age):\n",
        "  if age <= 5:\n",
        "    return 'criança até 5 anos'\n",
        "  elif age > 5 and age <= 12:\n",
        "    return 'criança (6 até 12)'\n",
        "  elif age > 12 and age <= 18:\n",
        "    return 'adolescente (13 até 18)'\n",
        "  elif age > 18 and age < 30:\n",
        "    return 'jovem (18 até 29)'\n",
        "  elif age >= 30 and age < 60:\n",
        "    return 'adulto (30 até 59)'\n",
        "  else: \n",
        "    return 'idoso (mais de 60)' \n",
        "\n",
        "\n",
        "df['ZoneAge'] = df.Age.apply(zone_age)\n",
        "df['ZoneAgeLabel'] = df.Age.apply(zone_age_label)"
      ],
      "execution_count": 0,
      "outputs": []
    },
    {
      "cell_type": "markdown",
      "metadata": {
        "id": "aBQ3QE_0Mo0L",
        "colab_type": "text"
      },
      "source": [
        "## 1.9 Nova coluna: Faixa de tempo de espera (rápido, normal, demorado, muito demorado)"
      ]
    },
    {
      "cell_type": "code",
      "metadata": {
        "id": "NJbuBNBzRfZS",
        "colab_type": "code",
        "outputId": "3ab8b19e-dceb-408c-8b7b-4fbef6e1df0a",
        "colab": {
          "base_uri": "https://localhost:8080/",
          "height": 296
        }
      },
      "source": [
        "sns.distplot(df.AwaitingTime, bins=50)"
      ],
      "execution_count": 0,
      "outputs": [
        {
          "output_type": "execute_result",
          "data": {
            "text/plain": [
              "<matplotlib.axes._subplots.AxesSubplot at 0x7f2ec2b4f048>"
            ]
          },
          "metadata": {
            "tags": []
          },
          "execution_count": 13
        },
        {
          "output_type": "display_data",
          "data": {
            "image/png": "[encoded data removed]",
            "text/plain": [
              "<Figure size 432x288 with 1 Axes>"
            ]
          },
          "metadata": {
            "tags": []
          }
        }
      ]
    },
    {
      "cell_type": "code",
      "metadata": {
        "id": "yEjxpoQHMnwj",
        "colab_type": "code",
        "colab": {}
      },
      "source": [
        "def zone_awaiting(days):\n",
        "  if days <= 5:\n",
        "    return 1\n",
        "  elif days > 5 and days <= 15:\n",
        "    return 2\n",
        "  elif days > 15 and days <= 60:\n",
        "    return 3\n",
        "  else: \n",
        "    return 4\n",
        "\n",
        "def zone_awaiting_label(days):\n",
        "  if days <= 5:\n",
        "    return 'rapido'\n",
        "  elif days > 5 and days <= 15:\n",
        "    return 'normal'\n",
        "  elif days > 15 and days <= 60:\n",
        "    return 'demorado'\n",
        "  else: \n",
        "    return 'muito demorado'\n",
        "\n",
        "df['ZoneAwaitingTime'] = df.AwaitingTime.apply(zone_awaiting)\n",
        "df['ZoneAwaitingTimeLabel'] = df.AwaitingTime.apply(zone_awaiting_label)"
      ],
      "execution_count": 0,
      "outputs": []
    },
    {
      "cell_type": "markdown",
      "metadata": {
        "id": "v4oCSYfF5hUR",
        "colab_type": "text"
      },
      "source": [
        "## 1.10 Nova coluna: Bairros formato numerico (convertendo bairro com label encoder)"
      ]
    },
    {
      "cell_type": "code",
      "metadata": {
        "id": "Mzck5Rb9742M",
        "colab_type": "code",
        "colab": {}
      },
      "source": [
        "# convert bairro para numeros e criando coluna de bairro int\n",
        "from sklearn.preprocessing import LabelEncoder\n",
        "\n",
        "le = LabelEncoder()\n",
        "df['NeighbourhoodNum'] = le.fit_transform(df['Neighbourhood'])"
      ],
      "execution_count": 0,
      "outputs": []
    },
    {
      "cell_type": "markdown",
      "metadata": {
        "id": "P6QQqBhJJ27T",
        "colab_type": "text"
      },
      "source": [
        "# Explorando o conjunto de dados"
      ]
    },
    {
      "cell_type": "code",
      "metadata": {
        "id": "IGq85S5CvAXu",
        "colab_type": "code",
        "outputId": "840e65ec-4076-43fa-ed2f-0961c9fb2288",
        "colab": {
          "base_uri": "https://localhost:8080/",
          "height": 343
        }
      },
      "source": [
        "df.head()"
      ],
      "execution_count": 0,
      "outputs": [
        {
          "output_type": "execute_result",
          "data": {
            "text/html": [
              "<div>\n",
              "<style scoped>\n",
              "    .dataframe tbody tr th:only-of-type {\n",
              "        vertical-align: middle;\n",
              "    }\n",
              "\n",
              "    .dataframe tbody tr th {\n",
              "        vertical-align: top;\n",
              "    }\n",
              "\n",
              "    .dataframe thead th {\n",
              "        text-align: right;\n",
              "    }\n",
              "</style>\n",
              "<table border=\"1\" class=\"dataframe\">\n",
              "  <thead>\n",
              "    <tr style=\"text-align: right;\">\n",
              "      <th></th>\n",
              "      <th>PatientId</th>\n",
              "      <th>AppointmentID</th>\n",
              "      <th>Gender</th>\n",
              "      <th>AppointmentRegistration</th>\n",
              "      <th>AppointmentData</th>\n",
              "      <th>Age</th>\n",
              "      <th>Neighbourhood</th>\n",
              "      <th>Scholarship</th>\n",
              "      <th>Hypertension</th>\n",
              "      <th>Diabetes</th>\n",
              "      <th>Alchoholism</th>\n",
              "      <th>Handicap</th>\n",
              "      <th>SMS_received</th>\n",
              "      <th>No-show</th>\n",
              "      <th>AwaitingTime</th>\n",
              "      <th>IsMale</th>\n",
              "      <th>No-show-boolean</th>\n",
              "      <th>ZoneAge</th>\n",
              "      <th>ZoneAgeLabel</th>\n",
              "      <th>ZoneAwaitingTime</th>\n",
              "      <th>ZoneAwaitingTimeLabel</th>\n",
              "      <th>NeighbourhoodNum</th>\n",
              "    </tr>\n",
              "  </thead>\n",
              "  <tbody>\n",
              "    <tr>\n",
              "      <th>0</th>\n",
              "      <td>29872499824296</td>\n",
              "      <td>5642903</td>\n",
              "      <td>F</td>\n",
              "      <td>2016-04-29 18:38:08</td>\n",
              "      <td>2016-04-29</td>\n",
              "      <td>62</td>\n",
              "      <td>JARDIM DA PENHA</td>\n",
              "      <td>0</td>\n",
              "      <td>1</td>\n",
              "      <td>0</td>\n",
              "      <td>0</td>\n",
              "      <td>0</td>\n",
              "      <td>0</td>\n",
              "      <td>No</td>\n",
              "      <td>1</td>\n",
              "      <td>0</td>\n",
              "      <td>0</td>\n",
              "      <td>6</td>\n",
              "      <td>idoso (mais de 60)</td>\n",
              "      <td>1</td>\n",
              "      <td>rapido</td>\n",
              "      <td>39</td>\n",
              "    </tr>\n",
              "    <tr>\n",
              "      <th>1</th>\n",
              "      <td>558997776694438</td>\n",
              "      <td>5642503</td>\n",
              "      <td>M</td>\n",
              "      <td>2016-04-29 16:08:27</td>\n",
              "      <td>2016-04-29</td>\n",
              "      <td>56</td>\n",
              "      <td>JARDIM DA PENHA</td>\n",
              "      <td>0</td>\n",
              "      <td>0</td>\n",
              "      <td>0</td>\n",
              "      <td>0</td>\n",
              "      <td>0</td>\n",
              "      <td>0</td>\n",
              "      <td>No</td>\n",
              "      <td>1</td>\n",
              "      <td>1</td>\n",
              "      <td>0</td>\n",
              "      <td>5</td>\n",
              "      <td>adulto (30 até 59)</td>\n",
              "      <td>1</td>\n",
              "      <td>rapido</td>\n",
              "      <td>39</td>\n",
              "    </tr>\n",
              "    <tr>\n",
              "      <th>2</th>\n",
              "      <td>4262962299951</td>\n",
              "      <td>5642549</td>\n",
              "      <td>F</td>\n",
              "      <td>2016-04-29 16:19:04</td>\n",
              "      <td>2016-04-29</td>\n",
              "      <td>62</td>\n",
              "      <td>MATA DA PRAIA</td>\n",
              "      <td>0</td>\n",
              "      <td>0</td>\n",
              "      <td>0</td>\n",
              "      <td>0</td>\n",
              "      <td>0</td>\n",
              "      <td>0</td>\n",
              "      <td>No</td>\n",
              "      <td>1</td>\n",
              "      <td>0</td>\n",
              "      <td>0</td>\n",
              "      <td>6</td>\n",
              "      <td>idoso (mais de 60)</td>\n",
              "      <td>1</td>\n",
              "      <td>rapido</td>\n",
              "      <td>45</td>\n",
              "    </tr>\n",
              "    <tr>\n",
              "      <th>3</th>\n",
              "      <td>867951213174</td>\n",
              "      <td>5642828</td>\n",
              "      <td>F</td>\n",
              "      <td>2016-04-29 17:29:31</td>\n",
              "      <td>2016-04-29</td>\n",
              "      <td>8</td>\n",
              "      <td>PONTAL DE CAMBURI</td>\n",
              "      <td>0</td>\n",
              "      <td>0</td>\n",
              "      <td>0</td>\n",
              "      <td>0</td>\n",
              "      <td>0</td>\n",
              "      <td>0</td>\n",
              "      <td>No</td>\n",
              "      <td>1</td>\n",
              "      <td>0</td>\n",
              "      <td>0</td>\n",
              "      <td>2</td>\n",
              "      <td>criança (6 até 12)</td>\n",
              "      <td>1</td>\n",
              "      <td>rapido</td>\n",
              "      <td>54</td>\n",
              "    </tr>\n",
              "    <tr>\n",
              "      <th>4</th>\n",
              "      <td>8841186448183</td>\n",
              "      <td>5642494</td>\n",
              "      <td>F</td>\n",
              "      <td>2016-04-29 16:07:23</td>\n",
              "      <td>2016-04-29</td>\n",
              "      <td>56</td>\n",
              "      <td>JARDIM DA PENHA</td>\n",
              "      <td>0</td>\n",
              "      <td>1</td>\n",
              "      <td>1</td>\n",
              "      <td>0</td>\n",
              "      <td>0</td>\n",
              "      <td>0</td>\n",
              "      <td>No</td>\n",
              "      <td>1</td>\n",
              "      <td>0</td>\n",
              "      <td>0</td>\n",
              "      <td>5</td>\n",
              "      <td>adulto (30 até 59)</td>\n",
              "      <td>1</td>\n",
              "      <td>rapido</td>\n",
              "      <td>39</td>\n",
              "    </tr>\n",
              "  </tbody>\n",
              "</table>\n",
              "</div>"
            ],
            "text/plain": [
              "         PatientId  AppointmentID  ... ZoneAwaitingTimeLabel NeighbourhoodNum\n",
              "0   29872499824296        5642903  ...                rapido               39\n",
              "1  558997776694438        5642503  ...                rapido               39\n",
              "2    4262962299951        5642549  ...                rapido               45\n",
              "3     867951213174        5642828  ...                rapido               54\n",
              "4    8841186448183        5642494  ...                rapido               39\n",
              "\n",
              "[5 rows x 22 columns]"
            ]
          },
          "metadata": {
            "tags": []
          },
          "execution_count": 17
        }
      ]
    },
    {
      "cell_type": "code",
      "metadata": {
        "id": "E2WGgmT8nWPD",
        "colab_type": "code",
        "outputId": "1548502b-d228-481a-d6eb-f3b51350ca31",
        "colab": {
          "base_uri": "https://localhost:8080/",
          "height": 334
        }
      },
      "source": [
        "df.describe()"
      ],
      "execution_count": 0,
      "outputs": [
        {
          "output_type": "execute_result",
          "data": {
            "text/html": [
              "<div>\n",
              "<style scoped>\n",
              "    .dataframe tbody tr th:only-of-type {\n",
              "        vertical-align: middle;\n",
              "    }\n",
              "\n",
              "    .dataframe tbody tr th {\n",
              "        vertical-align: top;\n",
              "    }\n",
              "\n",
              "    .dataframe thead th {\n",
              "        text-align: right;\n",
              "    }\n",
              "</style>\n",
              "<table border=\"1\" class=\"dataframe\">\n",
              "  <thead>\n",
              "    <tr style=\"text-align: right;\">\n",
              "      <th></th>\n",
              "      <th>PatientId</th>\n",
              "      <th>AppointmentID</th>\n",
              "      <th>Age</th>\n",
              "      <th>Scholarship</th>\n",
              "      <th>Hypertension</th>\n",
              "      <th>Diabetes</th>\n",
              "      <th>Alchoholism</th>\n",
              "      <th>Handicap</th>\n",
              "      <th>SMS_received</th>\n",
              "      <th>AwaitingTime</th>\n",
              "      <th>IsMale</th>\n",
              "      <th>No-show-boolean</th>\n",
              "      <th>ZoneAge</th>\n",
              "      <th>ZoneAwaitingTime</th>\n",
              "    </tr>\n",
              "  </thead>\n",
              "  <tbody>\n",
              "    <tr>\n",
              "      <th>count</th>\n",
              "      <td>1.104800e+05</td>\n",
              "      <td>1.104800e+05</td>\n",
              "      <td>110480.000000</td>\n",
              "      <td>110480.000000</td>\n",
              "      <td>110480.000000</td>\n",
              "      <td>110480.000000</td>\n",
              "      <td>110480.000000</td>\n",
              "      <td>110480.000000</td>\n",
              "      <td>110480.000000</td>\n",
              "      <td>110480.000000</td>\n",
              "      <td>110480.000000</td>\n",
              "      <td>110480.000000</td>\n",
              "      <td>110480.000000</td>\n",
              "      <td>110480.000000</td>\n",
              "    </tr>\n",
              "    <tr>\n",
              "      <th>mean</th>\n",
              "      <td>1.474691e+14</td>\n",
              "      <td>5.675303e+06</td>\n",
              "      <td>37.063342</td>\n",
              "      <td>0.098307</td>\n",
              "      <td>0.197076</td>\n",
              "      <td>0.071841</td>\n",
              "      <td>0.030413</td>\n",
              "      <td>0.022167</td>\n",
              "      <td>0.321126</td>\n",
              "      <td>10.532657</td>\n",
              "      <td>0.350091</td>\n",
              "      <td>0.201955</td>\n",
              "      <td>4.234106</td>\n",
              "      <td>1.697239</td>\n",
              "    </tr>\n",
              "    <tr>\n",
              "      <th>std</th>\n",
              "      <td>2.560626e+14</td>\n",
              "      <td>7.128285e+04</td>\n",
              "      <td>23.079712</td>\n",
              "      <td>0.297731</td>\n",
              "      <td>0.397792</td>\n",
              "      <td>0.258226</td>\n",
              "      <td>0.171721</td>\n",
              "      <td>0.161252</td>\n",
              "      <td>0.466911</td>\n",
              "      <td>15.025338</td>\n",
              "      <td>0.477000</td>\n",
              "      <td>0.401461</td>\n",
              "      <td>1.575770</td>\n",
              "      <td>0.872807</td>\n",
              "    </tr>\n",
              "    <tr>\n",
              "      <th>min</th>\n",
              "      <td>3.921700e+04</td>\n",
              "      <td>5.030230e+06</td>\n",
              "      <td>0.000000</td>\n",
              "      <td>0.000000</td>\n",
              "      <td>0.000000</td>\n",
              "      <td>0.000000</td>\n",
              "      <td>0.000000</td>\n",
              "      <td>0.000000</td>\n",
              "      <td>0.000000</td>\n",
              "      <td>1.000000</td>\n",
              "      <td>0.000000</td>\n",
              "      <td>0.000000</td>\n",
              "      <td>1.000000</td>\n",
              "      <td>1.000000</td>\n",
              "    </tr>\n",
              "    <tr>\n",
              "      <th>25%</th>\n",
              "      <td>4.172457e+12</td>\n",
              "      <td>5.640284e+06</td>\n",
              "      <td>18.000000</td>\n",
              "      <td>0.000000</td>\n",
              "      <td>0.000000</td>\n",
              "      <td>0.000000</td>\n",
              "      <td>0.000000</td>\n",
              "      <td>0.000000</td>\n",
              "      <td>0.000000</td>\n",
              "      <td>1.000000</td>\n",
              "      <td>0.000000</td>\n",
              "      <td>0.000000</td>\n",
              "      <td>3.000000</td>\n",
              "      <td>1.000000</td>\n",
              "    </tr>\n",
              "    <tr>\n",
              "      <th>50%</th>\n",
              "      <td>3.172598e+13</td>\n",
              "      <td>5.680564e+06</td>\n",
              "      <td>37.000000</td>\n",
              "      <td>0.000000</td>\n",
              "      <td>0.000000</td>\n",
              "      <td>0.000000</td>\n",
              "      <td>0.000000</td>\n",
              "      <td>0.000000</td>\n",
              "      <td>0.000000</td>\n",
              "      <td>4.000000</td>\n",
              "      <td>0.000000</td>\n",
              "      <td>0.000000</td>\n",
              "      <td>5.000000</td>\n",
              "      <td>1.000000</td>\n",
              "    </tr>\n",
              "    <tr>\n",
              "      <th>75%</th>\n",
              "      <td>9.438179e+13</td>\n",
              "      <td>5.725507e+06</td>\n",
              "      <td>55.000000</td>\n",
              "      <td>0.000000</td>\n",
              "      <td>0.000000</td>\n",
              "      <td>0.000000</td>\n",
              "      <td>0.000000</td>\n",
              "      <td>0.000000</td>\n",
              "      <td>1.000000</td>\n",
              "      <td>15.000000</td>\n",
              "      <td>1.000000</td>\n",
              "      <td>0.000000</td>\n",
              "      <td>5.000000</td>\n",
              "      <td>2.000000</td>\n",
              "    </tr>\n",
              "    <tr>\n",
              "      <th>max</th>\n",
              "      <td>9.999816e+14</td>\n",
              "      <td>5.790484e+06</td>\n",
              "      <td>95.000000</td>\n",
              "      <td>1.000000</td>\n",
              "      <td>1.000000</td>\n",
              "      <td>1.000000</td>\n",
              "      <td>1.000000</td>\n",
              "      <td>4.000000</td>\n",
              "      <td>1.000000</td>\n",
              "      <td>179.000000</td>\n",
              "      <td>1.000000</td>\n",
              "      <td>1.000000</td>\n",
              "      <td>6.000000</td>\n",
              "      <td>4.000000</td>\n",
              "    </tr>\n",
              "  </tbody>\n",
              "</table>\n",
              "</div>"
            ],
            "text/plain": [
              "          PatientId  AppointmentID  ...        ZoneAge  ZoneAwaitingTime\n",
              "count  1.104800e+05   1.104800e+05  ...  110480.000000     110480.000000\n",
              "mean   1.474691e+14   5.675303e+06  ...       4.234106          1.697239\n",
              "std    2.560626e+14   7.128285e+04  ...       1.575770          0.872807\n",
              "min    3.921700e+04   5.030230e+06  ...       1.000000          1.000000\n",
              "25%    4.172457e+12   5.640284e+06  ...       3.000000          1.000000\n",
              "50%    3.172598e+13   5.680564e+06  ...       5.000000          1.000000\n",
              "75%    9.438179e+13   5.725507e+06  ...       5.000000          2.000000\n",
              "max    9.999816e+14   5.790484e+06  ...       6.000000          4.000000\n",
              "\n",
              "[8 rows x 14 columns]"
            ]
          },
          "metadata": {
            "tags": []
          },
          "execution_count": 17
        }
      ]
    },
    {
      "cell_type": "markdown",
      "metadata": {
        "id": "f3bddqt_T4uz",
        "colab_type": "text"
      },
      "source": [
        "## Quantidade de homens e mulheres"
      ]
    },
    {
      "cell_type": "code",
      "metadata": {
        "id": "pIE3zBxqT8oH",
        "colab_type": "code",
        "outputId": "ed025bd1-2bc7-4238-d384-209492b80444",
        "colab": {
          "base_uri": "https://localhost:8080/",
          "height": 490
        }
      },
      "source": [
        "df['Gender'].value_counts().plot(kind='pie', autopct='%.2f%%', figsize=(8,8))\n",
        "plt.axis('equal')  # Para deixar o gráfico redondo"
      ],
      "execution_count": 0,
      "outputs": [
        {
          "output_type": "execute_result",
          "data": {
            "text/plain": [
              "(-1.110867799344203, 1.1005175142544859, -1.11226561039089, 1.1068203914638746)"
            ]
          },
          "metadata": {
            "tags": []
          },
          "execution_count": 9
        },
        {
          "output_type": "display_data",
          "data": {
            "image/png": "[encoded data removed]",
            "text/plain": [
              "<Figure size 576x576 with 1 Axes>"
            ]
          },
          "metadata": {
            "tags": []
          }
        }
      ]
    },
    {
      "cell_type": "markdown",
      "metadata": {
        "id": "-Gu860EhwuIT",
        "colab_type": "text"
      },
      "source": [
        "## Primeira data e ultima data do registro de uma consulta e uma consulta realizada"
      ]
    },
    {
      "cell_type": "code",
      "metadata": {
        "id": "e5-uxMifwtnM",
        "colab_type": "code",
        "outputId": "672640e3-5bdd-49bd-b95b-e7fe77afeff4",
        "colab": {
          "base_uri": "https://localhost:8080/",
          "height": 119
        }
      },
      "source": [
        "print(\"Data de registro da consulta\")\n",
        "print(df['AppointmentRegistration'].min())\n",
        "print(df['AppointmentRegistration'].max())\n",
        "\n",
        "print(\"Data da consulta\")\n",
        "print(df['AppointmentData'].min())\n",
        "print(df['AppointmentData'].max())\n"
      ],
      "execution_count": 0,
      "outputs": [
        {
          "output_type": "stream",
          "text": [
            "Data de registro da consulta\n",
            "2015-11-10 07:13:56\n",
            "2016-06-08 20:07:23\n",
            "Data da consulta\n",
            "2016-04-29 00:00:00\n",
            "2016-06-08 00:00:00\n"
          ],
          "name": "stdout"
        }
      ]
    },
    {
      "cell_type": "markdown",
      "metadata": {
        "id": "uFlikFOK16DT",
        "colab_type": "text"
      },
      "source": [
        "## Quantidade de exemplos e atributos"
      ]
    },
    {
      "cell_type": "code",
      "metadata": {
        "id": "VCbSOcdc15mv",
        "colab_type": "code",
        "outputId": "4e8c3293-548e-4a31-c7db-673512535747",
        "colab": {
          "base_uri": "https://localhost:8080/",
          "height": 510
        }
      },
      "source": [
        "print(df.shape[0])  # gives number of row count\n",
        "print(df.shape[1])  # gives number of columns\n",
        "\n",
        "df.info()"
      ],
      "execution_count": 0,
      "outputs": [
        {
          "output_type": "stream",
          "text": [
            "110480\n",
            "22\n",
            "<class 'pandas.core.frame.DataFrame'>\n",
            "Int64Index: 110480 entries, 0 to 110526\n",
            "Data columns (total 22 columns):\n",
            "PatientId                  110480 non-null int64\n",
            "AppointmentID              110480 non-null int64\n",
            "Gender                     110480 non-null object\n",
            "AppointmentRegistration    110480 non-null datetime64[ns]\n",
            "AppointmentData            110480 non-null datetime64[ns]\n",
            "Age                        110480 non-null int64\n",
            "Neighbourhood              110480 non-null object\n",
            "Scholarship                110480 non-null int64\n",
            "Hypertension               110480 non-null int64\n",
            "Diabetes                   110480 non-null int64\n",
            "Alchoholism                110480 non-null int64\n",
            "Handicap                   110480 non-null int64\n",
            "SMS_received               110480 non-null int64\n",
            "No-show                    110480 non-null object\n",
            "AwaitingTime               110480 non-null int64\n",
            "IsMale                     110480 non-null int64\n",
            "No-show-boolean            110480 non-null int64\n",
            "ZoneAge                    110480 non-null int64\n",
            "ZoneAgeLabel               110480 non-null object\n",
            "ZoneAwaitingTime           110480 non-null int64\n",
            "ZoneAwaitingTimeLabel      110480 non-null object\n",
            "NeighbourhoodNum           110480 non-null int64\n",
            "dtypes: datetime64[ns](2), int64(15), object(5)\n",
            "memory usage: 19.4+ MB\n"
          ],
          "name": "stdout"
        }
      ]
    },
    {
      "cell_type": "markdown",
      "metadata": {
        "id": "tYsRCb-lMJdm",
        "colab_type": "text"
      },
      "source": [
        "## Contador de pacientes que foram e não foram"
      ]
    },
    {
      "cell_type": "code",
      "metadata": {
        "id": "SH3bMboEKUVN",
        "colab_type": "code",
        "outputId": "c8c05018-fbee-46d7-938e-d8b8fe4197b0",
        "colab": {
          "base_uri": "https://localhost:8080/",
          "height": 68
        }
      },
      "source": [
        "df['No-show'].value_counts()"
      ],
      "execution_count": 0,
      "outputs": [
        {
          "output_type": "execute_result",
          "data": {
            "text/plain": [
              "No     88168\n",
              "Yes    22312\n",
              "Name: No-show, dtype: int64"
            ]
          },
          "metadata": {
            "tags": []
          },
          "execution_count": 69
        }
      ]
    },
    {
      "cell_type": "code",
      "metadata": {
        "id": "8XOvj9V90Rxk",
        "colab_type": "code",
        "outputId": "63dae855-b38f-4654-c8df-68b951a42247",
        "colab": {
          "base_uri": "https://localhost:8080/",
          "height": 541
        }
      },
      "source": [
        "df['No-show'].value_counts().plot(kind='pie', autopct='%.2f%%', figsize=(8,8))\n",
        "plt.axis('equal')  # Para deixar o gráfico redondo"
      ],
      "execution_count": 0,
      "outputs": [
        {
          "output_type": "execute_result",
          "data": {
            "text/plain": [
              "(-1.1008128980357565,\n",
              " 1.1000387512624161,\n",
              " -1.1012158425825715,\n",
              " 1.1004711456915117)"
            ]
          },
          "metadata": {
            "tags": []
          },
          "execution_count": 12
        },
        {
          "output_type": "display_data",
          "data": {
            "image/png": "[encoded data removed]",
            "text/plain": [
              "<Figure size 576x576 with 1 Axes>"
            ]
          },
          "metadata": {
            "tags": []
          }
        }
      ]
    },
    {
      "cell_type": "markdown",
      "metadata": {
        "id": "UaTSBcINMNd0",
        "colab_type": "text"
      },
      "source": [
        "## Verificar quantidade das faixas de idades dos pacientes"
      ]
    },
    {
      "cell_type": "code",
      "metadata": {
        "id": "6lfP9rFCLx6Y",
        "colab_type": "code",
        "outputId": "7a623095-694d-4892-a005-8cbcbb7cebbf",
        "colab": {
          "base_uri": "https://localhost:8080/",
          "height": 541
        }
      },
      "source": [
        "df['ZoneAge'].value_counts().plot(kind='pie', autopct='%.2f%%', figsize=(12,8))\n",
        "plt.axis('equal')  # Para deixar o gráfico redondo"
      ],
      "execution_count": 0,
      "outputs": [
        {
          "output_type": "execute_result",
          "data": {
            "text/plain": [
              "(-1.106278788450182,\n",
              " 1.1002989899261992,\n",
              " -1.1066762096411427,\n",
              " 1.1218104117401144)"
            ]
          },
          "metadata": {
            "tags": []
          },
          "execution_count": 17
        },
        {
          "output_type": "display_data",
          "data": {
            "image/png": "[encoded data removed]",
            "text/plain": [
              "<Figure size 864x576 with 1 Axes>"
            ]
          },
          "metadata": {
            "tags": []
          }
        }
      ]
    },
    {
      "cell_type": "markdown",
      "metadata": {
        "id": "s_IOWCLkdf5g",
        "colab_type": "text"
      },
      "source": [
        "## Verificar quantidade das faixas de tempo de espera"
      ]
    },
    {
      "cell_type": "code",
      "metadata": {
        "id": "Ach5C2Utdlsi",
        "colab_type": "code",
        "outputId": "0e23d906-20a0-4810-a2d8-e1a8af0d0ac4",
        "colab": {
          "base_uri": "https://localhost:8080/",
          "height": 541
        }
      },
      "source": [
        "df['ZoneAwaitingTime'].value_counts().plot(kind='pie', autopct='%.2f%%', figsize=(10,8))\n",
        "plt.axis('equal')  # Para deixar o gráfico redondo"
      ],
      "execution_count": 0,
      "outputs": [
        {
          "output_type": "execute_result",
          "data": {
            "text/plain": [
              "(-1.1080095749156618,\n",
              " 1.1003814083293173,\n",
              " -1.1266513914121619,\n",
              " 1.1116788860041433)"
            ]
          },
          "metadata": {
            "tags": []
          },
          "execution_count": 19
        },
        {
          "output_type": "display_data",
          "data": {
            "image/png": "[encoded data removed]",
            "text/plain": [
              "<Figure size 720x576 with 1 Axes>"
            ]
          },
          "metadata": {
            "tags": []
          }
        }
      ]
    },
    {
      "cell_type": "markdown",
      "metadata": {
        "id": "wEaS_c-uD0GO",
        "colab_type": "text"
      },
      "source": [
        "## Probabilidade de comparecimento com atributos"
      ]
    },
    {
      "cell_type": "markdown",
      "metadata": {
        "id": "DdFCWMmJPU8Q",
        "colab_type": "text"
      },
      "source": [
        "**Função para validar porcentagem**"
      ]
    },
    {
      "cell_type": "code",
      "metadata": {
        "id": "q1ZSx0qZN6NV",
        "colab_type": "code",
        "colab": {}
      },
      "source": [
        "def probStatus(dataset, group_by):\n",
        "    df1 = pd.crosstab(index = dataset[group_by], columns = dataset['No-show']).reset_index()\n",
        "    df1['probShowUp'] = df1['No'] / (df1['Yes'] + df1['No'])\n",
        "    return df1[[group_by, 'probShowUp']]"
      ],
      "execution_count": 0,
      "outputs": []
    },
    {
      "cell_type": "markdown",
      "metadata": {
        "id": "mtJkj1BYPZPi",
        "colab_type": "text"
      },
      "source": [
        "## Probabilidade de relação entre colunas de idade e No-show"
      ]
    },
    {
      "cell_type": "code",
      "metadata": {
        "id": "000SHLvID6rZ",
        "colab_type": "code",
        "outputId": "56fa44f2-0e22-401c-89dc-eb1ac6c2fbb8",
        "colab": {
          "base_uri": "https://localhost:8080/",
          "height": 747
        }
      },
      "source": [
        "sns.lmplot(data = probStatus(df, 'Age'), x = 'Age', y = 'probShowUp', fit_reg = True)\n",
        "plt.xlim(0, 100)\n",
        "plt.title('Probabilidade de aparecer em relação a idade')\n",
        "plt.show()\n",
        "\n",
        "\n",
        "sns.lmplot(data = probStatus(df, 'AwaitingTime'), x = 'AwaitingTime', \n",
        "           y = 'probShowUp', fit_reg = True)\n",
        "plt.title('Probabilidade de aparecer em relação ao tempo de espera')\n",
        "plt.ylim(0, 1)\n",
        "plt.show()"
      ],
      "execution_count": 0,
      "outputs": [
        {
          "output_type": "display_data",
          "data": {
            "image/png": "[encoded data removed]",
            "text/plain": [
              "<Figure size 360x360 with 1 Axes>"
            ]
          },
          "metadata": {
            "tags": []
          }
        },
        {
          "output_type": "display_data",
          "data": {
            "image/png": "[encoded data removed]",
            "text/plain": [
              "<Figure size 360x360 with 1 Axes>"
            ]
          },
          "metadata": {
            "tags": []
          }
        }
      ]
    },
    {
      "cell_type": "markdown",
      "metadata": {
        "id": "bH4f4tnXK1l_",
        "colab_type": "text"
      },
      "source": [
        "## Probablidade de faltar em relação com as doenças"
      ]
    },
    {
      "cell_type": "code",
      "metadata": {
        "id": "KPccwkZhK_G7",
        "colab_type": "code",
        "colab": {}
      },
      "source": [
        "def prob_status_categorical(group_by):\n",
        "    rows = []\n",
        "    for item in group_by:\n",
        "        for level in df[item].unique():\n",
        "            row = {'Condition': item}\n",
        "            total = len(df[df[item] == level])\n",
        "            n = len(df[(df[item] == level) & (df['No-show'] == 'No')])\n",
        "            row.update({'Level': level, 'Probability': n / total})\n",
        "            rows.append(row)\n",
        "    return pd.DataFrame(rows)"
      ],
      "execution_count": 0,
      "outputs": []
    },
    {
      "cell_type": "markdown",
      "metadata": {
        "id": "AC9wjRyLPUsv",
        "colab_type": "text"
      },
      "source": [
        "### Probilidade de comparecer em relação as doenças e escolaridade (Coluna verde: Não/ Coluna laranja: Sim)"
      ]
    },
    {
      "cell_type": "code",
      "metadata": {
        "id": "szMxT5-_K8j-",
        "colab_type": "code",
        "outputId": "d1ca067d-46c0-43ba-9116-7b6b5670cf41",
        "colab": {
          "base_uri": "https://localhost:8080/",
          "height": 295
        }
      },
      "source": [
        "sns.barplot(data = prob_status_categorical(['Diabetes', 'Alchoholism', 'Hypertension',\n",
        "                                          'Scholarship']),\n",
        "            x = 'Condition', y = 'Probability', hue = 'Level', palette = 'Set2')\n",
        "\n",
        "plt.title('Probabilidade de comparecer')\n",
        "plt.ylabel('Probabilidade')\n",
        "plt.show()"
      ],
      "execution_count": 0,
      "outputs": [
        {
          "output_type": "display_data",
          "data": {
            "image/png": "[encoded data removed]",
            "text/plain": [
              "<Figure size 432x288 with 1 Axes>"
            ]
          },
          "metadata": {
            "tags": []
          }
        }
      ]
    },
    {
      "cell_type": "markdown",
      "metadata": {
        "id": "DllQ3haqW_MY",
        "colab_type": "text"
      },
      "source": [
        "## Relação de não comparecimento com o avisos SMS"
      ]
    },
    {
      "cell_type": "code",
      "metadata": {
        "id": "avQTRNeyX9hS",
        "colab_type": "code",
        "outputId": "15ab37ce-4fbb-4f64-b5eb-d40ae85c2897",
        "colab": {
          "base_uri": "https://localhost:8080/",
          "height": 111
        }
      },
      "source": [
        "prb_sms = prob_status_categorical(['SMS_received'])\n",
        "prb_sms.head()"
      ],
      "execution_count": 0,
      "outputs": [
        {
          "output_type": "execute_result",
          "data": {
            "text/html": [
              "<div>\n",
              "<style scoped>\n",
              "    .dataframe tbody tr th:only-of-type {\n",
              "        vertical-align: middle;\n",
              "    }\n",
              "\n",
              "    .dataframe tbody tr th {\n",
              "        vertical-align: top;\n",
              "    }\n",
              "\n",
              "    .dataframe thead th {\n",
              "        text-align: right;\n",
              "    }\n",
              "</style>\n",
              "<table border=\"1\" class=\"dataframe\">\n",
              "  <thead>\n",
              "    <tr style=\"text-align: right;\">\n",
              "      <th></th>\n",
              "      <th>Condition</th>\n",
              "      <th>Level</th>\n",
              "      <th>Probability</th>\n",
              "    </tr>\n",
              "  </thead>\n",
              "  <tbody>\n",
              "    <tr>\n",
              "      <th>0</th>\n",
              "      <td>SMS_received</td>\n",
              "      <td>0</td>\n",
              "      <td>0.832964</td>\n",
              "    </tr>\n",
              "    <tr>\n",
              "      <th>1</th>\n",
              "      <td>SMS_received</td>\n",
              "      <td>1</td>\n",
              "      <td>0.724223</td>\n",
              "    </tr>\n",
              "  </tbody>\n",
              "</table>\n",
              "</div>"
            ],
            "text/plain": [
              "      Condition  Level  Probability\n",
              "0  SMS_received      0     0.832964\n",
              "1  SMS_received      1     0.724223"
            ]
          },
          "metadata": {
            "tags": []
          },
          "execution_count": 76
        }
      ]
    },
    {
      "cell_type": "code",
      "metadata": {
        "id": "iLezRL07Tl_z",
        "colab_type": "code",
        "outputId": "a3f3d9f1-8cae-4694-911d-c4076c397d02",
        "colab": {
          "base_uri": "https://localhost:8080/",
          "height": 313
        }
      },
      "source": [
        "sns.barplot(data = prob_status_categorical(['SMS_received']),\n",
        "             x = 'Condition', y = 'Probability', hue = 'Level', palette = 'Set2')\n",
        "\n",
        "plt.title('Probabilidade de comparecer')\n",
        "plt.ylabel('Probabilidade')\n",
        "plt.figure(figsize=(15,10))\n",
        "plt.show()"
      ],
      "execution_count": 0,
      "outputs": [
        {
          "output_type": "display_data",
          "data": {
            "image/png": "[encoded data removed]",
            "text/plain": [
              "<Figure size 432x288 with 1 Axes>"
            ]
          },
          "metadata": {
            "tags": []
          }
        },
        {
          "output_type": "display_data",
          "data": {
            "text/plain": [
              "<Figure size 1080x720 with 0 Axes>"
            ]
          },
          "metadata": {
            "tags": []
          }
        }
      ]
    },
    {
      "cell_type": "markdown",
      "metadata": {
        "id": "1VSPAbtPSMCd",
        "colab_type": "text"
      },
      "source": [
        "## Probabilidade de comparecer em relação quantidade de deficiencias"
      ]
    },
    {
      "cell_type": "code",
      "metadata": {
        "id": "3TTRXIYacef-",
        "colab_type": "code",
        "outputId": "eaf2e8d8-ab07-401d-93d0-36ca136d8665",
        "colab": {
          "base_uri": "https://localhost:8080/",
          "height": 204
        }
      },
      "source": [
        "prb_def = prob_status_categorical(['Handicap'])\n",
        "prb_def.head()"
      ],
      "execution_count": 0,
      "outputs": [
        {
          "output_type": "execute_result",
          "data": {
            "text/html": [
              "<div>\n",
              "<style scoped>\n",
              "    .dataframe tbody tr th:only-of-type {\n",
              "        vertical-align: middle;\n",
              "    }\n",
              "\n",
              "    .dataframe tbody tr th {\n",
              "        vertical-align: top;\n",
              "    }\n",
              "\n",
              "    .dataframe thead th {\n",
              "        text-align: right;\n",
              "    }\n",
              "</style>\n",
              "<table border=\"1\" class=\"dataframe\">\n",
              "  <thead>\n",
              "    <tr style=\"text-align: right;\">\n",
              "      <th></th>\n",
              "      <th>Condition</th>\n",
              "      <th>Level</th>\n",
              "      <th>Probability</th>\n",
              "    </tr>\n",
              "  </thead>\n",
              "  <tbody>\n",
              "    <tr>\n",
              "      <th>0</th>\n",
              "      <td>Handicap</td>\n",
              "      <td>0</td>\n",
              "      <td>0.797613</td>\n",
              "    </tr>\n",
              "    <tr>\n",
              "      <th>1</th>\n",
              "      <td>Handicap</td>\n",
              "      <td>1</td>\n",
              "      <td>0.821534</td>\n",
              "    </tr>\n",
              "    <tr>\n",
              "      <th>2</th>\n",
              "      <td>Handicap</td>\n",
              "      <td>2</td>\n",
              "      <td>0.796703</td>\n",
              "    </tr>\n",
              "    <tr>\n",
              "      <th>3</th>\n",
              "      <td>Handicap</td>\n",
              "      <td>3</td>\n",
              "      <td>0.769231</td>\n",
              "    </tr>\n",
              "    <tr>\n",
              "      <th>4</th>\n",
              "      <td>Handicap</td>\n",
              "      <td>4</td>\n",
              "      <td>0.666667</td>\n",
              "    </tr>\n",
              "  </tbody>\n",
              "</table>\n",
              "</div>"
            ],
            "text/plain": [
              "  Condition  Level  Probability\n",
              "0  Handicap      0     0.797613\n",
              "1  Handicap      1     0.821534\n",
              "2  Handicap      2     0.796703\n",
              "3  Handicap      3     0.769231\n",
              "4  Handicap      4     0.666667"
            ]
          },
          "metadata": {
            "tags": []
          },
          "execution_count": 49
        }
      ]
    },
    {
      "cell_type": "code",
      "metadata": {
        "id": "opL9hRNbSFh-",
        "colab_type": "code",
        "outputId": "6f2a6da5-5a38-40c3-fd88-12e773327d62",
        "colab": {
          "base_uri": "https://localhost:8080/",
          "height": 295
        }
      },
      "source": [
        "sns.barplot(data = prob_status_categorical(['Handicap']),\n",
        "            x = 'Condition', y = 'Probability', hue = 'Level', palette = 'Set2')\n",
        "\n",
        "plt.title('Probabilidade de comparecer')\n",
        "plt.ylabel('Probabilide')\n",
        "plt.show()"
      ],
      "execution_count": 0,
      "outputs": [
        {
          "output_type": "display_data",
          "data": {
            "image/png": "[encoded data removed]",
            "text/plain": [
              "<Figure size 432x288 with 1 Axes>"
            ]
          },
          "metadata": {
            "tags": []
          }
        }
      ]
    },
    {
      "cell_type": "markdown",
      "metadata": {
        "id": "iC5rWjmcXs7f",
        "colab_type": "text"
      },
      "source": [
        "## Relação de genero com o comparecimento"
      ]
    },
    {
      "cell_type": "code",
      "metadata": {
        "id": "sqDUVyTDWKEu",
        "colab_type": "code",
        "outputId": "997b44b4-4a39-4c6c-cccc-72b10ae74b64",
        "colab": {
          "base_uri": "https://localhost:8080/",
          "height": 295
        }
      },
      "source": [
        "sns.barplot(data = prob_status_categorical(['Gender']),\n",
        "            x = 'Condition', y = 'Probability', hue = 'Level', palette = 'Set2')\n",
        "\n",
        "plt.title('Probabilidade de comparecer')\n",
        "plt.ylabel('Probabilide')\n",
        "plt.show()"
      ],
      "execution_count": 0,
      "outputs": [
        {
          "output_type": "display_data",
          "data": {
            "image/png": "[encoded data removed]",
            "text/plain": [
              "<Figure size 432x288 with 1 Axes>"
            ]
          },
          "metadata": {
            "tags": []
          }
        }
      ]
    },
    {
      "cell_type": "markdown",
      "metadata": {
        "id": "7fZnAJF8pqKP",
        "colab_type": "text"
      },
      "source": [
        "**Pacientes com consultas anteriores**"
      ]
    },
    {
      "cell_type": "markdown",
      "metadata": {
        "id": "ApBHBzXb5kvL",
        "colab_type": "text"
      },
      "source": [
        "Pacientes com mais de uma consulta."
      ]
    },
    {
      "cell_type": "code",
      "metadata": {
        "id": "H4NpBdwH6hUN",
        "colab_type": "code",
        "outputId": "4c9bad6c-c787-4212-a654-4dc0f376d335",
        "colab": {
          "base_uri": "https://localhost:8080/",
          "height": 170
        }
      },
      "source": [
        "df_group = (df.groupby(['PatientId', 'No-show']).size()\n",
        "   .sort_values(ascending=False)\n",
        "   .reset_index(name='count'))\n",
        "\n",
        "print(df_group.info())\n",
        "\n",
        "# df_group[df_group['count'] > 1]"
      ],
      "execution_count": 0,
      "outputs": [
        {
          "output_type": "stream",
          "text": [
            "<class 'pandas.core.frame.DataFrame'>\n",
            "RangeIndex: 71778 entries, 0 to 71777\n",
            "Data columns (total 3 columns):\n",
            "PatientId    71778 non-null int64\n",
            "No-show      71778 non-null object\n",
            "count        71778 non-null int64\n",
            "dtypes: int64(2), object(1)\n",
            "memory usage: 1.6+ MB\n",
            "None\n"
          ],
          "name": "stdout"
        }
      ]
    },
    {
      "cell_type": "code",
      "metadata": {
        "id": "kvKP3ro1Cn_4",
        "colab_type": "code",
        "colab": {}
      },
      "source": [
        "df_group = (df.groupby(['PatientId']).size()\n",
        "   .sort_values(ascending=False)\n",
        "   .reset_index(name='count'))\n",
        "\n",
        "print(df_group.info())\n",
        "\n",
        "print(df_group.shape[0])  # gives number of row count\n",
        "print(df_group.shape[1])  # gives number of columns\n",
        "\n",
        "\n",
        "df_group[df_group['count'] > 1]"
      ],
      "execution_count": 0,
      "outputs": []
    },
    {
      "cell_type": "markdown",
      "metadata": {
        "id": "BiW0WF2EzfPQ",
        "colab_type": "text"
      },
      "source": [
        "# Aplicação dos algoritmos"
      ]
    },
    {
      "cell_type": "markdown",
      "metadata": {
        "id": "syZxJqz1-PiF",
        "colab_type": "text"
      },
      "source": [
        "### Criando função para plotar gráfico de matriz de confusão"
      ]
    },
    {
      "cell_type": "code",
      "metadata": {
        "id": "1yeOz0O_-N_G",
        "colab_type": "code",
        "colab": {}
      },
      "source": [
        "from sklearn.metrics import confusion_matrix\n",
        "from sklearn.utils.multiclass import unique_labels\n",
        "\n",
        "np.set_printoptions(precision=2)\n",
        "\n",
        "def plot_confusion_matrix(y_true, y_pred, classes,\n",
        "                          normalize=False,\n",
        "                          title=None,\n",
        "                          cmap=plt.cm.Blues):\n",
        "    \"\"\"\n",
        "    This function prints and plots the confusion matrix.\n",
        "    Normalization can be applied by setting `normalize=True`.\n",
        "    \"\"\"\n",
        "    if not title:\n",
        "        if normalize:\n",
        "            title = 'Normalized confusion matrix'\n",
        "        else:\n",
        "            title = 'Confusion matrix, without normalization'\n",
        "\n",
        "    # Compute confusion matrix\n",
        "    cm = confusion_matrix(y_true, y_pred)\n",
        "    # Only use the labels that appear in the data\n",
        "    classes = classes[unique_labels(y_true, y_pred)]\n",
        "    if normalize:\n",
        "        cm = cm.astype('float') / cm.sum(axis=1)[:, np.newaxis]\n",
        "        print(\"Normalized confusion matrix\")\n",
        "    else:\n",
        "        print('Confusion matrix, without normalization')\n",
        "\n",
        "    print(cm)\n",
        "\n",
        "    fig, ax = plt.subplots()\n",
        "    im = ax.imshow(cm, interpolation='nearest', cmap=cmap)\n",
        "    ax.figure.colorbar(im, ax=ax)\n",
        "    # We want to show all ticks...\n",
        "    ax.set(xticks=np.arange(cm.shape[1]),\n",
        "           yticks=np.arange(cm.shape[0]),\n",
        "           # ... and label them with the respective list entries\n",
        "           xticklabels=classes, yticklabels=classes,\n",
        "           title=title,\n",
        "           ylabel='Classe verdadeira',\n",
        "           xlabel='Classe predita')\n",
        "\n",
        "    # Rotate the tick labels and set their alignment.\n",
        "    plt.setp(ax.get_xticklabels(), rotation=45, ha=\"right\",\n",
        "             rotation_mode=\"anchor\")\n",
        "\n",
        "    # Loop over data dimensions and create text annotations.\n",
        "    fmt = '.2f' if normalize else 'd'\n",
        "    thresh = cm.max() / 2.\n",
        "    for i in range(cm.shape[0]):\n",
        "        for j in range(cm.shape[1]):\n",
        "            ax.text(j, i, format(cm[i, j], fmt),\n",
        "                    ha=\"center\", va=\"center\",\n",
        "                    color=\"white\" if cm[i, j] > thresh else \"black\")\n",
        "    fig.tight_layout()\n",
        "    return ax"
      ],
      "execution_count": 0,
      "outputs": []
    },
    {
      "cell_type": "markdown",
      "metadata": {
        "id": "wdR2tZo1l4nI",
        "colab_type": "text"
      },
      "source": [
        "## Não supervisionados"
      ]
    },
    {
      "cell_type": "markdown",
      "metadata": {
        "id": "Ii-ZpmkhAmRe",
        "colab_type": "text"
      },
      "source": [
        "#### K Means\n",
        "\n",
        "\n",
        "1.   Treinamento \n",
        "2.   Analise das metricas\n",
        "\n"
      ]
    },
    {
      "cell_type": "code",
      "metadata": {
        "id": "I1O1DbpOF8sZ",
        "colab_type": "code",
        "outputId": "35b3fe26-2d0e-49d3-d25e-319e0f6c761a",
        "colab": {
          "base_uri": "https://localhost:8080/",
          "height": 68
        }
      },
      "source": [
        "from sklearn.cluster import KMeans\n",
        "\n",
        "clusters = 2\n",
        "kmeans = KMeans(n_clusters=clusters)\n",
        "\n",
        "df_kmeans = df[['ZoneAge', 'Hypertension', 'Diabetes', \n",
        "                'Alchoholism', 'Handicap', 'SMS_received', 'ZoneAwaitingTime', 'NeighbourhoodNum']].iloc[:len(df)]\n",
        "\n",
        "kmeans.fit(df_kmeans)"
      ],
      "execution_count": 0,
      "outputs": [
        {
          "output_type": "execute_result",
          "data": {
            "text/plain": [
              "KMeans(algorithm='auto', copy_x=True, init='k-means++', max_iter=300,\n",
              "       n_clusters=2, n_init=10, n_jobs=None, precompute_distances='auto',\n",
              "       random_state=None, tol=0.0001, verbose=0)"
            ]
          },
          "metadata": {
            "tags": []
          },
          "execution_count": 82
        }
      ]
    },
    {
      "cell_type": "code",
      "metadata": {
        "id": "gJEW1Z9ZKdr3",
        "colab_type": "code",
        "outputId": "f2422180-6f15-40fa-c960-241c2d2f33c4",
        "colab": {
          "base_uri": "https://localhost:8080/",
          "height": 238
        }
      },
      "source": [
        "from sklearn.metrics import confusion_matrix, classification_report\n",
        "\n",
        "print(confusion_matrix(df['No-show-boolean'], kmeans.labels_))\n",
        "print('\\n')\n",
        "print(classification_report(df['No-show-boolean'], kmeans.labels_))"
      ],
      "execution_count": 0,
      "outputs": [
        {
          "output_type": "stream",
          "text": [
            "[[65649 22519]\n",
            " [15965  6347]]\n",
            "\n",
            "\n",
            "              precision    recall  f1-score   support\n",
            "\n",
            "           0       0.80      0.74      0.77     88168\n",
            "           1       0.22      0.28      0.25     22312\n",
            "\n",
            "    accuracy                           0.65    110480\n",
            "   macro avg       0.51      0.51      0.51    110480\n",
            "weighted avg       0.69      0.65      0.67    110480\n",
            "\n"
          ],
          "name": "stdout"
        }
      ]
    },
    {
      "cell_type": "markdown",
      "metadata": {
        "id": "V-6eAY-kl-jd",
        "colab_type": "text"
      },
      "source": [
        "## Supervisionados"
      ]
    },
    {
      "cell_type": "code",
      "metadata": {
        "id": "LrH6nixEUgEw",
        "colab_type": "code",
        "outputId": "08f2bd24-d69a-42ef-9bef-33e4649b1af4",
        "colab": {
          "base_uri": "https://localhost:8080/",
          "height": 51
        }
      },
      "source": [
        "df.loc[df['Neighbourhood'] == 'JARDIM CAMBURI']['NeighbourhoodNum'].head(1)"
      ],
      "execution_count": 0,
      "outputs": [
        {
          "output_type": "execute_result",
          "data": {
            "text/plain": [
              "72    38\n",
              "Name: NeighbourhoodNum, dtype: int64"
            ]
          },
          "metadata": {
            "tags": []
          },
          "execution_count": 16
        }
      ]
    },
    {
      "cell_type": "code",
      "metadata": {
        "id": "HMVac8dlS-8k",
        "colab_type": "code",
        "outputId": "840aaa8b-db9f-4329-b305-8670ae07a494",
        "colab": {
          "base_uri": "https://localhost:8080/",
          "height": 34
        }
      },
      "source": [
        "pacient_fake1 = np.array([1, 4, 0, 0, 0, 0, 1, 1, 38]) # masc, jovem, no hypertension, no diabetes, no alcholism, no handicap, sms recived, rapido, JARDIM CAMBURI\n",
        "pacient_fake2 = np.array([0, 1, 0, 0, 0, 0, 0, 4, 38]) # fem, criança até 5 anos, no hypertension, no diabetes, no alcholism, no handicap, no sms recived, muito demorado, JARDIM CAMBURI\n",
        "pacient_fake1_n = [4, 1, 1]\n",
        "pacient_fake2_n = [1, 0, 4]\n",
        "\n",
        "print(pacient_fake2)"
      ],
      "execution_count": 0,
      "outputs": [
        {
          "output_type": "stream",
          "text": [
            "[ 0  1  0  0  0  0  0  4 38]\n"
          ],
          "name": "stdout"
        }
      ]
    },
    {
      "cell_type": "markdown",
      "metadata": {
        "id": "WXTzdWXiSQxf",
        "colab_type": "text"
      },
      "source": [
        "### Naive Bayes\n",
        "\n",
        "\n",
        "1.   Separar o dataset em parte de treino e test (70% e 30%)\n",
        "2.   Treinar o algoritmo\n",
        "3.   Ver métricas\n",
        "\n"
      ]
    },
    {
      "cell_type": "code",
      "metadata": {
        "id": "zj3jgwzQznjK",
        "colab_type": "code",
        "colab": {}
      },
      "source": [
        "from sklearn.model_selection import train_test_split\n",
        "from sklearn.naive_bayes import GaussianNB\n",
        "\n",
        "df_naive = df[['IsMale', 'ZoneAge', 'Hypertension', 'Diabetes', \n",
        "               'Alchoholism', 'Handicap', 'SMS_received', 'ZoneAwaitingTime', 'NeighbourhoodNum']].iloc[:len(df)]\n",
        "\n",
        "df_naive = df[['ZoneAge', 'SMS_received', 'ZoneAwaitingTime']].iloc[:len(df)]\n",
        "\n",
        "# Split dataset into training set and test set\n",
        "X_train, X_test, y_train, y_test = train_test_split(df_naive, df['No-show-boolean'], test_size=0.3, random_state=109) # 70% training and 30% test"
      ],
      "execution_count": 0,
      "outputs": []
    },
    {
      "cell_type": "code",
      "metadata": {
        "id": "TXlIOoQR3dHL",
        "colab_type": "code",
        "colab": {}
      },
      "source": [
        "gnb = GaussianNB()\n",
        "\n",
        "#Train the model using the training sets\n",
        "gnb.fit(X_train, y_train)\n",
        "\n",
        "# Predict the response for test dataset\n",
        "y_pred = gnb.predict(X_test)"
      ],
      "execution_count": 0,
      "outputs": []
    },
    {
      "cell_type": "code",
      "metadata": {
        "id": "i_FuvrvspYk1",
        "colab_type": "code",
        "outputId": "6f35053a-690b-4fa3-cc9f-f4c18e808534",
        "colab": {
          "base_uri": "https://localhost:8080/",
          "height": 34
        }
      },
      "source": [
        "from sklearn.metrics import accuracy_score\n",
        "\n",
        "# Model Accuracy, how often is the classifier correct?\n",
        "print(\"Accuracy:\", accuracy_score(y_test, y_pred))"
      ],
      "execution_count": 0,
      "outputs": [
        {
          "output_type": "stream",
          "text": [
            "Accuracy: 0.7837315954622255\n"
          ],
          "name": "stdout"
        }
      ]
    },
    {
      "cell_type": "code",
      "metadata": {
        "id": "S0z1WZaR0tEF",
        "colab_type": "code",
        "outputId": "48607a8b-e348-4a16-f493-b8d549c183db",
        "colab": {
          "base_uri": "https://localhost:8080/",
          "height": 422
        }
      },
      "source": [
        "ax = plot_confusion_matrix(y_test, y_pred, classes=np.array(['No', 'Yes']),\n",
        "                      title='Matriz de confusão')\n",
        "ax.plot()"
      ],
      "execution_count": 0,
      "outputs": [
        {
          "output_type": "stream",
          "text": [
            "Confusion matrix, without normalization\n",
            "[[25684   691]\n",
            " [ 6477   292]]\n"
          ],
          "name": "stdout"
        },
        {
          "output_type": "execute_result",
          "data": {
            "text/plain": [
              "[]"
            ]
          },
          "metadata": {
            "tags": []
          },
          "execution_count": 34
        },
        {
          "output_type": "display_data",
          "data": {
            "image/png": "[encoded data removed]",
            "text/plain": [
              "<Figure size 432x288 with 2 Axes>"
            ]
          },
          "metadata": {
            "tags": []
          }
        }
      ]
    },
    {
      "cell_type": "code",
      "metadata": {
        "id": "8br3MwHpbPNn",
        "colab_type": "code",
        "outputId": "b85bb353-1de8-4cae-f13a-615d0f44ef8d",
        "colab": {
          "base_uri": "https://localhost:8080/",
          "height": 34
        }
      },
      "source": [
        "print(gnb.predict([pacient_fake1_n, pacient_fake2_n]))"
      ],
      "execution_count": 0,
      "outputs": [
        {
          "output_type": "stream",
          "text": [
            "[0 1]\n"
          ],
          "name": "stdout"
        }
      ]
    },
    {
      "cell_type": "markdown",
      "metadata": {
        "id": "iIIqvX0vmFL-",
        "colab_type": "text"
      },
      "source": [
        "#### With standard scaler "
      ]
    },
    {
      "cell_type": "code",
      "metadata": {
        "id": "nYqgo_B0mAdJ",
        "colab_type": "code",
        "outputId": "825180c0-fa8a-439c-a959-ca3b1d35670c",
        "colab": {
          "base_uri": "https://localhost:8080/",
          "height": 34
        }
      },
      "source": [
        "from sklearn.preprocessing import StandardScaler\n",
        "from sklearn.metrics import accuracy_score\n",
        "\n",
        "# normalize data with StandardScaler\n",
        "scaler = StandardScaler()\n",
        "scaled_data = scaler.fit_transform(df_naive)\n",
        "\n",
        "X_train, X_test, y_train, y_test = train_test_split(scaled_data, df['No-show-boolean'], test_size=0.3, random_state=109) # 70% training and 30% test\n",
        "\n",
        "gnb = GaussianNB()\n",
        "\n",
        "#Train the model using the training sets\n",
        "gnb.fit(X_train, y_train)\n",
        "\n",
        "# Predict the response for test dataset\n",
        "y_pred = gnb.predict(X_test)\n",
        "\n",
        "# Model Accuracy, how often is the classifier correct?\n",
        "print(\"Accuracy:\", accuracy_score(y_test, y_pred))"
      ],
      "execution_count": 0,
      "outputs": [
        {
          "output_type": "stream",
          "text": [
            "Accuracy: 0.7837315954622255\n"
          ],
          "name": "stdout"
        }
      ]
    },
    {
      "cell_type": "markdown",
      "metadata": {
        "id": "c68Tjje40s-Y",
        "colab_type": "text"
      },
      "source": [
        "### Neural Network"
      ]
    },
    {
      "cell_type": "markdown",
      "metadata": {
        "id": "iaWcWcYtMuvi",
        "colab_type": "text"
      },
      "source": [
        "**Funções de ativações utilizadas:**\n",
        "\n",
        "1.   linear\n",
        "2.   sigmoidal : sigmoid\n",
        "\n",
        "**Camadas:**\n",
        "\n",
        "- layer.get_weights() : pegar pesos da camada\n",
        "- layer.set_weights(np.array([0.1, 0.1]) : setar peso da camada\n",
        "\n",
        "1.   Dense\n",
        "2.   Dropout\n",
        "3.   Activation\n",
        "\n",
        "**Optimizers:**\n",
        "\n",
        "1.   SGD: keras.optimizers.SGD(lr=0.01, nesterov=True)\n",
        "2.   ADAM: keras.optimizers.Adam(lr=0.001)\n",
        "\n"
      ]
    },
    {
      "cell_type": "code",
      "metadata": {
        "id": "XO1kKIp80sLH",
        "colab_type": "code",
        "colab": {}
      },
      "source": [
        "import tensorflow as tf\n",
        "import tensorflow.keras as keras\n",
        "\n",
        "from keras.models import Sequential\n",
        "from keras.layers import Dense, Dropout, Activation\n",
        "\n",
        "from sklearn.model_selection import train_test_split\n",
        "from sklearn.preprocessing import StandardScaler\n",
        "\n",
        "x = df[['IsMale', 'ZoneAge', 'Hypertension', 'Diabetes', \n",
        "              'Alchoholism', 'Handicap', 'SMS_received', 'ZoneAwaitingTime', 'NeighbourhoodNum']].iloc[:len(df)] \n",
        "\n",
        "# x = df[['ZoneAge', 'SMS_received', 'ZoneAwaitingTime']].iloc[:len(df)] # some variables\n",
        "\n",
        "y = df['No-show-boolean'].iloc[:len(df)]"
      ],
      "execution_count": 0,
      "outputs": []
    },
    {
      "cell_type": "code",
      "metadata": {
        "id": "lcUWv7KH9C-V",
        "colab_type": "code",
        "outputId": "cb85a133-eb99-4826-de75-a566802de66b",
        "colab": {
          "base_uri": "https://localhost:8080/",
          "height": 1000
        }
      },
      "source": [
        "x = np.array(x).astype(float)\n",
        "y = np.array(y)\n",
        "\n",
        "# normalize the dataset - 0 until 1\n",
        "scaler = StandardScaler()\n",
        "x = scaler.fit_transform(x)\n",
        "\n",
        "model = Sequential()\n",
        "model.add(Dense(64, activation='sigmoid'))\n",
        "model.add(Dropout(0.1))\n",
        "model.add(Dense(32, activation='sigmoid'))\n",
        "model.add(Dropout(0.1))\n",
        "model.add(Dense(1, activation='sigmoid'))\n",
        "\n",
        "# Compile\n",
        "model.compile(loss='binary_crossentropy', \n",
        "              optimizer='adam',\n",
        "              metrics=['accuracy'])\n",
        "\n",
        "x_train, x_test, y_train, y_test = train_test_split(x, y, test_size=0.3, random_state=109)\n",
        "\n",
        "# Fit the model\n",
        "model.fit(x_train, y_train, epochs=30)"
      ],
      "execution_count": 0,
      "outputs": [
        {
          "output_type": "stream",
          "text": [
            "Epoch 1/30\n",
            "77336/77336 [==============================] - 3s 45us/step - loss: 0.4830 - acc: 0.7984\n",
            "Epoch 2/30\n",
            "77336/77336 [==============================] - 4s 45us/step - loss: 0.4739 - acc: 0.7990\n",
            "Epoch 3/30\n",
            "77336/77336 [==============================] - 3s 42us/step - loss: 0.4716 - acc: 0.7991\n",
            "Epoch 4/30\n",
            "77336/77336 [==============================] - 3s 42us/step - loss: 0.4709 - acc: 0.7990\n",
            "Epoch 5/30\n",
            "77336/77336 [==============================] - 3s 42us/step - loss: 0.4704 - acc: 0.7990\n",
            "Epoch 6/30\n",
            "77336/77336 [==============================] - 3s 42us/step - loss: 0.4702 - acc: 0.7991\n",
            "Epoch 7/30\n",
            "77336/77336 [==============================] - 3s 42us/step - loss: 0.4694 - acc: 0.7990\n",
            "Epoch 8/30\n",
            "77336/77336 [==============================] - 3s 42us/step - loss: 0.4687 - acc: 0.7989\n",
            "Epoch 9/30\n",
            "77336/77336 [==============================] - 3s 42us/step - loss: 0.4685 - acc: 0.7992\n",
            "Epoch 10/30\n",
            "77336/77336 [==============================] - 3s 42us/step - loss: 0.4684 - acc: 0.7990\n",
            "Epoch 11/30\n",
            "77336/77336 [==============================] - 3s 42us/step - loss: 0.4675 - acc: 0.7991\n",
            "Epoch 12/30\n",
            "77336/77336 [==============================] - 3s 42us/step - loss: 0.4676 - acc: 0.7992\n",
            "Epoch 13/30\n",
            "77336/77336 [==============================] - 3s 42us/step - loss: 0.4675 - acc: 0.7989\n",
            "Epoch 14/30\n",
            "77336/77336 [==============================] - 3s 42us/step - loss: 0.4675 - acc: 0.7992\n",
            "Epoch 15/30\n",
            "77336/77336 [==============================] - 3s 42us/step - loss: 0.4674 - acc: 0.7989\n",
            "Epoch 16/30\n",
            "77336/77336 [==============================] - 3s 42us/step - loss: 0.4672 - acc: 0.7991\n",
            "Epoch 17/30\n",
            "77336/77336 [==============================] - 3s 42us/step - loss: 0.4669 - acc: 0.7990\n",
            "Epoch 18/30\n",
            "77336/77336 [==============================] - 3s 42us/step - loss: 0.4666 - acc: 0.7991\n",
            "Epoch 19/30\n",
            "77336/77336 [==============================] - 3s 42us/step - loss: 0.4665 - acc: 0.7991\n",
            "Epoch 20/30\n",
            "77336/77336 [==============================] - 3s 42us/step - loss: 0.4665 - acc: 0.7988\n",
            "Epoch 21/30\n",
            "77336/77336 [==============================] - 3s 42us/step - loss: 0.4664 - acc: 0.7989\n",
            "Epoch 22/30\n",
            "77336/77336 [==============================] - 3s 42us/step - loss: 0.4662 - acc: 0.7987\n",
            "Epoch 23/30\n",
            "77336/77336 [==============================] - 3s 42us/step - loss: 0.4666 - acc: 0.7989\n",
            "Epoch 24/30\n",
            "77336/77336 [==============================] - 3s 42us/step - loss: 0.4661 - acc: 0.7990\n",
            "Epoch 25/30\n",
            "77336/77336 [==============================] - 3s 41us/step - loss: 0.4660 - acc: 0.7990\n",
            "Epoch 26/30\n",
            "77336/77336 [==============================] - 3s 42us/step - loss: 0.4661 - acc: 0.7988\n",
            "Epoch 27/30\n",
            "77336/77336 [==============================] - 3s 41us/step - loss: 0.4662 - acc: 0.7987\n",
            "Epoch 28/30\n",
            "77336/77336 [==============================] - 3s 43us/step - loss: 0.4658 - acc: 0.7988\n",
            "Epoch 29/30\n",
            "77336/77336 [==============================] - 3s 42us/step - loss: 0.4661 - acc: 0.7993\n",
            "Epoch 30/30\n",
            "77336/77336 [==============================] - 3s 42us/step - loss: 0.4658 - acc: 0.7993\n"
          ],
          "name": "stdout"
        },
        {
          "output_type": "execute_result",
          "data": {
            "text/plain": [
              "<keras.callbacks.History at 0x7f2e9ab7b6a0>"
            ]
          },
          "metadata": {
            "tags": []
          },
          "execution_count": 70
        }
      ]
    },
    {
      "cell_type": "code",
      "metadata": {
        "id": "3sItGRHaB0l2",
        "colab_type": "code",
        "outputId": "aa2bc568-de36-49fb-e3ae-e9d62c715f13",
        "colab": {
          "base_uri": "https://localhost:8080/",
          "height": 68
        }
      },
      "source": [
        "val_loss, val_acc = model.evaluate(x_test, y_test)\n",
        "print(val_loss)\n",
        "print(val_acc)"
      ],
      "execution_count": 0,
      "outputs": [
        {
          "output_type": "stream",
          "text": [
            "33144/33144 [==============================] - 1s 21us/step\n",
            "0.46860814197409306\n",
            "0.795860487583781\n"
          ],
          "name": "stdout"
        }
      ]
    },
    {
      "cell_type": "code",
      "metadata": {
        "id": "dNB8SA0kU377",
        "colab_type": "code",
        "outputId": "ce68365f-eb21-4fa9-c6ac-af390c564d65",
        "colab": {
          "base_uri": "https://localhost:8080/",
          "height": 34
        }
      },
      "source": [
        "print(model.predict_classes(pacient_fake2.reshape(1, -1)))"
      ],
      "execution_count": 0,
      "outputs": [
        {
          "output_type": "stream",
          "text": [
            "[[0]]\n"
          ],
          "name": "stdout"
        }
      ]
    },
    {
      "cell_type": "markdown",
      "metadata": {
        "id": "kr3ea0KumK4R",
        "colab_type": "text"
      },
      "source": [
        "### Arvores de decisão - [Decision Tree](https://scikit-learn.org/dev/modules/generated/sklearn.tree.DecisionTreeClassifier.html#sklearn.tree.DecisionTreeClassifier)"
      ]
    },
    {
      "cell_type": "code",
      "metadata": {
        "id": "cMHB3TVlqbYN",
        "colab_type": "code",
        "colab": {}
      },
      "source": [
        "from sklearn.model_selection import train_test_split\n",
        "from sklearn.metrics import classification_report, confusion_matrix\n",
        "from sklearn.tree import DecisionTreeClassifier\n",
        "from sklearn import tree\n",
        "\n",
        "# df_tree = df[['IsMale', 'ZoneAge', 'Hypertension', 'Diabetes', \n",
        "#              'Alchoholism', 'Handicap', 'SMS_received', 'ZoneAwaitingTime', 'NeighbourhoodNum']].iloc[:len(df)]\n",
        "\n",
        "df_tree = df[['ZoneAge', 'SMS_received', 'ZoneAwaitingTime']].iloc[:len(df)]\n",
        "\n",
        "x_train, x_test, y_train, y_test = train_test_split(df_tree, df['No-show-boolean'], test_size=0.3, random_state=100)"
      ],
      "execution_count": 0,
      "outputs": []
    },
    {
      "cell_type": "markdown",
      "metadata": {
        "id": "J2b8H7CA3ypw",
        "colab_type": "text"
      },
      "source": [
        "#### Árvore sem poda"
      ]
    },
    {
      "cell_type": "code",
      "metadata": {
        "id": "OPmcfr_U35Aw",
        "colab_type": "code",
        "outputId": "3422be65-03d9-41fc-bd51-bec262592cd2",
        "colab": {
          "base_uri": "https://localhost:8080/",
          "height": 660
        }
      },
      "source": [
        "decision_tree_clf = DecisionTreeClassifier(criterion='entropy')\n",
        "\n",
        "decision_tree_clf.fit(x_train, y_train)\n",
        "\n",
        "pred = decision_tree_clf.predict(x_test)\n",
        "\n",
        "print(classification_report(y_test, pred))\n",
        "print('\\n')\n",
        "print('Qtd nodes:', decision_tree_clf.tree_.node_count)\n",
        "print('\\n')\n",
        "\n",
        "cfm = plot_confusion_matrix(y_test, pred, classes=np.array(['No', 'Yes']),\n",
        "                      title='Confusion matrix')\n",
        "\n",
        "cfm.plot()"
      ],
      "execution_count": 0,
      "outputs": [
        {
          "output_type": "stream",
          "text": [
            "              precision    recall  f1-score   support\n",
            "\n",
            "           0       0.80      1.00      0.89     26387\n",
            "           1       0.58      0.00      0.00      6757\n",
            "\n",
            "    accuracy                           0.80     33144\n",
            "   macro avg       0.69      0.50      0.45     33144\n",
            "weighted avg       0.75      0.80      0.71     33144\n",
            "\n",
            "\n",
            "\n",
            "Qtd nodes: 95\n",
            "\n",
            "\n",
            "Confusion matrix, without normalization\n",
            "[[26377    10]\n",
            " [ 6743    14]]\n"
          ],
          "name": "stdout"
        },
        {
          "output_type": "execute_result",
          "data": {
            "text/plain": [
              "[]"
            ]
          },
          "metadata": {
            "tags": []
          },
          "execution_count": 56
        },
        {
          "output_type": "display_data",
          "data": {
            "image/png": "[encoded data removed]",
            "text/plain": [
              "<Figure size 432x288 with 2 Axes>"
            ]
          },
          "metadata": {
            "tags": []
          }
        }
      ]
    },
    {
      "cell_type": "markdown",
      "metadata": {
        "id": "JgAzPuFn5fQs",
        "colab_type": "text"
      },
      "source": [
        "**Árvore gerada sem poda**"
      ]
    },
    {
      "cell_type": "code",
      "metadata": {
        "id": "-TpaDzKz4cDN",
        "colab_type": "code",
        "outputId": "d22c2bc1-a958-4170-83b5-e379e394a95a",
        "colab": {
          "base_uri": "https://localhost:8080/",
          "height": 1000
        }
      },
      "source": [
        "import graphviz \n",
        "\n",
        "dot_data = tree.export_graphviz(decision_tree_clf, out_file=None, \n",
        "                     feature_names=list(df_tree.columns),  \n",
        "                     class_names=['No', 'Yes'],  \n",
        "                     filled=True, rounded=True,  \n",
        "                     special_characters=True) \n",
        "graph = graphviz.Source(dot_data)  \n",
        "graph"
      ],
      "execution_count": 0,
      "outputs": [
        {
          "output_type": "execute_result",
          "data": {
            "text/plain": [
              "<graphviz.files.Source at 0x7f2e9ac54eb8>"
            ],
            "image/svg+xml": "<?xml version=\"1.0\" encoding=\"UTF-8\" standalone=\"no\"?>\n<!DOCTYPE svg PUBLIC \"-//W3C//DTD SVG 1.1//EN\"\n \"http://www.w3.org/Graphics/SVG/1.1/DTD/svg11.dtd\">\n<!-- Generated by graphviz version 2.40.1 (20161225.0304)\n -->\n<!-- Title: Tree Pages: 1 -->\n<svg width=\"3701pt\" height=\"1147pt\"\n viewBox=\"0.00 0.00 3701.00 1147.00\" xmlns=\"http://www.w3.org/2000/svg\" xmlns:xlink=\"http://www.w3.org/1999/xlink\">\n<g id=\"graph0\" class=\"graph\" transform=\"scale(1 1) rotate(0) translate(4 1143)\">\n<title>Tree</title>\n<polygon fill=\"#ffffff\" stroke=\"transparent\" points=\"-4,4 -4,-1143 3697,-1143 3697,4 -4,4\"/>\n<!-- 0 -->\n<g id=\"node1\" class=\"node\">\n<title>0</title>\n<path fill=\"#eca16b\" stroke=\"#000000\" d=\"M1944,-1139C1944,-1139 1796,-1139 1796,-1139 1790,-1139 1784,-1133 1784,-1127 1784,-1127 1784,-1068 1784,-1068 1784,-1062 1790,-1056 1796,-1056 1796,-1056 1944,-1056 1944,-1056 1950,-1056 1956,-1062 1956,-1068 1956,-1068 1956,-1127 1956,-1127 1956,-1133 1950,-1139 1944,-1139\"/>\n<text text-anchor=\"start\" x=\"1792\" y=\"-1123.8\" font-family=\"Helvetica,sans-Serif\" font-size=\"14.00\" fill=\"#000000\">ZoneAwaitingTime ≤ 1.5</text>\n<text text-anchor=\"start\" x=\"1819\" y=\"-1108.8\" font-family=\"Helvetica,sans-Serif\" font-size=\"14.00\" fill=\"#000000\">entropy = 0.724</text>\n<text text-anchor=\"start\" x=\"1814\" y=\"-1093.8\" font-family=\"Helvetica,sans-Serif\" font-size=\"14.00\" fill=\"#000000\">samples = 77336</text>\n<text text-anchor=\"start\" x=\"1795.5\" y=\"-1078.8\" font-family=\"Helvetica,sans-Serif\" font-size=\"14.00\" fill=\"#000000\">value = [61781, 15555]</text>\n<text text-anchor=\"start\" x=\"1835.5\" y=\"-1063.8\" font-family=\"Helvetica,sans-Serif\" font-size=\"14.00\" fill=\"#000000\">class = No</text>\n</g>\n<!-- 1 -->\n<g id=\"node2\" class=\"node\">\n<title>1</title>\n<path fill=\"#e89253\" stroke=\"#000000\" d=\"M1143.5,-1020C1143.5,-1020 1010.5,-1020 1010.5,-1020 1004.5,-1020 998.5,-1014 998.5,-1008 998.5,-1008 998.5,-949 998.5,-949 998.5,-943 1004.5,-937 1010.5,-937 1010.5,-937 1143.5,-937 1143.5,-937 1149.5,-937 1155.5,-943 1155.5,-949 1155.5,-949 1155.5,-1008 1155.5,-1008 1155.5,-1014 1149.5,-1020 1143.5,-1020\"/>\n<text text-anchor=\"start\" x=\"1011.5\" y=\"-1004.8\" font-family=\"Helvetica,sans-Serif\" font-size=\"14.00\" fill=\"#000000\">SMS_received ≤ 0.5</text>\n<text text-anchor=\"start\" x=\"1026\" y=\"-989.8\" font-family=\"Helvetica,sans-Serif\" font-size=\"14.00\" fill=\"#000000\">entropy = 0.523</text>\n<text text-anchor=\"start\" x=\"1021\" y=\"-974.8\" font-family=\"Helvetica,sans-Serif\" font-size=\"14.00\" fill=\"#000000\">samples = 43413</text>\n<text text-anchor=\"start\" x=\"1006.5\" y=\"-959.8\" font-family=\"Helvetica,sans-Serif\" font-size=\"14.00\" fill=\"#000000\">value = [38301, 5112]</text>\n<text text-anchor=\"start\" x=\"1042.5\" y=\"-944.8\" font-family=\"Helvetica,sans-Serif\" font-size=\"14.00\" fill=\"#000000\">class = No</text>\n</g>\n<!-- 0&#45;&gt;1 -->\n<g id=\"edge1\" class=\"edge\">\n<title>0&#45;&gt;1</title>\n<path fill=\"none\" stroke=\"#000000\" d=\"M1783.6255,-1084.5384C1631.9606,-1061.7791 1319.3474,-1014.8674 1165.9094,-991.842\"/>\n<polygon fill=\"#000000\" stroke=\"#000000\" points=\"1165.9975,-988.3161 1155.5887,-990.2933 1164.9586,-995.2386 1165.9975,-988.3161\"/>\n<text text-anchor=\"middle\" x=\"1170.4473\" y=\"-1006.6986\" font-family=\"Helvetica,sans-Serif\" font-size=\"14.00\" fill=\"#000000\">True</text>\n</g>\n<!-- 24 -->\n<g id=\"node25\" class=\"node\">\n<title>24</title>\n<path fill=\"#f1b991\" stroke=\"#000000\" d=\"M2207.5,-1020C2207.5,-1020 2066.5,-1020 2066.5,-1020 2060.5,-1020 2054.5,-1014 2054.5,-1008 2054.5,-1008 2054.5,-949 2054.5,-949 2054.5,-943 2060.5,-937 2066.5,-937 2066.5,-937 2207.5,-937 2207.5,-937 2213.5,-937 2219.5,-943 2219.5,-949 2219.5,-949 2219.5,-1008 2219.5,-1008 2219.5,-1014 2213.5,-1020 2207.5,-1020\"/>\n<text text-anchor=\"start\" x=\"2089\" y=\"-1004.8\" font-family=\"Helvetica,sans-Serif\" font-size=\"14.00\" fill=\"#000000\">ZoneAge ≤ 5.5</text>\n<text text-anchor=\"start\" x=\"2086\" y=\"-989.8\" font-family=\"Helvetica,sans-Serif\" font-size=\"14.00\" fill=\"#000000\">entropy = 0.891</text>\n<text text-anchor=\"start\" x=\"2081\" y=\"-974.8\" font-family=\"Helvetica,sans-Serif\" font-size=\"14.00\" fill=\"#000000\">samples = 33923</text>\n<text text-anchor=\"start\" x=\"2062.5\" y=\"-959.8\" font-family=\"Helvetica,sans-Serif\" font-size=\"14.00\" fill=\"#000000\">value = [23480, 10443]</text>\n<text text-anchor=\"start\" x=\"2102.5\" y=\"-944.8\" font-family=\"Helvetica,sans-Serif\" font-size=\"14.00\" fill=\"#000000\">class = No</text>\n</g>\n<!-- 0&#45;&gt;24 -->\n<g id=\"edge24\" class=\"edge\">\n<title>0&#45;&gt;24</title>\n<path fill=\"none\" stroke=\"#000000\" d=\"M1956.3185,-1059.0284C1984.6395,-1046.406 2016.2115,-1032.3346 2044.9412,-1019.53\"/>\n<polygon fill=\"#000000\" stroke=\"#000000\" points=\"2046.4523,-1022.6884 2054.1614,-1015.4206 2043.6026,-1016.2947 2046.4523,-1022.6884\"/>\n<text text-anchor=\"middle\" x=\"2045.2112\" y=\"-1035.0636\" font-family=\"Helvetica,sans-Serif\" font-size=\"14.00\" fill=\"#000000\">False</text>\n</g>\n<!-- 2 -->\n<g id=\"node3\" class=\"node\">\n<title>2</title>\n<path fill=\"#e89050\" stroke=\"#000000\" d=\"M540.5,-901C540.5,-901 407.5,-901 407.5,-901 401.5,-901 395.5,-895 395.5,-889 395.5,-889 395.5,-830 395.5,-830 395.5,-824 401.5,-818 407.5,-818 407.5,-818 540.5,-818 540.5,-818 546.5,-818 552.5,-824 552.5,-830 552.5,-830 552.5,-889 552.5,-889 552.5,-895 546.5,-901 540.5,-901\"/>\n<text text-anchor=\"start\" x=\"426\" y=\"-885.8\" font-family=\"Helvetica,sans-Serif\" font-size=\"14.00\" fill=\"#000000\">ZoneAge ≤ 1.5</text>\n<text text-anchor=\"start\" x=\"423\" y=\"-870.8\" font-family=\"Helvetica,sans-Serif\" font-size=\"14.00\" fill=\"#000000\">entropy = 0.486</text>\n<text text-anchor=\"start\" x=\"418\" y=\"-855.8\" font-family=\"Helvetica,sans-Serif\" font-size=\"14.00\" fill=\"#000000\">samples = 39191</text>\n<text text-anchor=\"start\" x=\"403.5\" y=\"-840.8\" font-family=\"Helvetica,sans-Serif\" font-size=\"14.00\" fill=\"#000000\">value = [35062, 4129]</text>\n<text text-anchor=\"start\" x=\"439.5\" y=\"-825.8\" font-family=\"Helvetica,sans-Serif\" font-size=\"14.00\" fill=\"#000000\">class = No</text>\n</g>\n<!-- 1&#45;&gt;2 -->\n<g id=\"edge2\" class=\"edge\">\n<title>1&#45;&gt;2</title>\n<path fill=\"none\" stroke=\"#000000\" d=\"M998.4776,-963.0039C886.2864,-940.8633 680.7048,-900.2925 563.0047,-877.0648\"/>\n<polygon fill=\"#000000\" stroke=\"#000000\" points=\"563.4302,-873.5813 552.9418,-875.0789 562.0749,-880.4489 563.4302,-873.5813\"/>\n</g>\n<!-- 13 -->\n<g id=\"node14\" class=\"node\">\n<title>13</title>\n<path fill=\"#eda775\" stroke=\"#000000\" d=\"M1135,-901C1135,-901 1019,-901 1019,-901 1013,-901 1007,-895 1007,-889 1007,-889 1007,-830 1007,-830 1007,-824 1013,-818 1019,-818 1019,-818 1135,-818 1135,-818 1141,-818 1147,-824 1147,-830 1147,-830 1147,-889 1147,-889 1147,-895 1141,-901 1135,-901\"/>\n<text text-anchor=\"start\" x=\"1029\" y=\"-885.8\" font-family=\"Helvetica,sans-Serif\" font-size=\"14.00\" fill=\"#000000\">ZoneAge ≤ 4.5</text>\n<text text-anchor=\"start\" x=\"1026\" y=\"-870.8\" font-family=\"Helvetica,sans-Serif\" font-size=\"14.00\" fill=\"#000000\">entropy = 0.783</text>\n<text text-anchor=\"start\" x=\"1025\" y=\"-855.8\" font-family=\"Helvetica,sans-Serif\" font-size=\"14.00\" fill=\"#000000\">samples = 4222</text>\n<text text-anchor=\"start\" x=\"1015\" y=\"-840.8\" font-family=\"Helvetica,sans-Serif\" font-size=\"14.00\" fill=\"#000000\">value = [3239, 983]</text>\n<text text-anchor=\"start\" x=\"1042.5\" y=\"-825.8\" font-family=\"Helvetica,sans-Serif\" font-size=\"14.00\" fill=\"#000000\">class = No</text>\n</g>\n<!-- 1&#45;&gt;13 -->\n<g id=\"edge13\" class=\"edge\">\n<title>1&#45;&gt;13</title>\n<path fill=\"none\" stroke=\"#000000\" d=\"M1077,-936.8796C1077,-928.6838 1077,-919.9891 1077,-911.5013\"/>\n<polygon fill=\"#000000\" stroke=\"#000000\" points=\"1080.5001,-911.298 1077,-901.2981 1073.5001,-911.2981 1080.5001,-911.298\"/>\n</g>\n<!-- 3 -->\n<g id=\"node4\" class=\"node\">\n<title>3</title>\n<path fill=\"#e78a48\" stroke=\"#000000\" d=\"M365,-774.5C365,-774.5 249,-774.5 249,-774.5 243,-774.5 237,-768.5 237,-762.5 237,-762.5 237,-718.5 237,-718.5 237,-712.5 243,-706.5 249,-706.5 249,-706.5 365,-706.5 365,-706.5 371,-706.5 377,-712.5 377,-718.5 377,-718.5 377,-762.5 377,-762.5 377,-768.5 371,-774.5 365,-774.5\"/>\n<text text-anchor=\"start\" x=\"256\" y=\"-759.3\" font-family=\"Helvetica,sans-Serif\" font-size=\"14.00\" fill=\"#000000\">entropy = 0.363</text>\n<text text-anchor=\"start\" x=\"255\" y=\"-744.3\" font-family=\"Helvetica,sans-Serif\" font-size=\"14.00\" fill=\"#000000\">samples = 4533</text>\n<text text-anchor=\"start\" x=\"245\" y=\"-729.3\" font-family=\"Helvetica,sans-Serif\" font-size=\"14.00\" fill=\"#000000\">value = [4219, 314]</text>\n<text text-anchor=\"start\" x=\"272.5\" y=\"-714.3\" font-family=\"Helvetica,sans-Serif\" font-size=\"14.00\" fill=\"#000000\">class = No</text>\n</g>\n<!-- 2&#45;&gt;3 -->\n<g id=\"edge3\" class=\"edge\">\n<title>2&#45;&gt;3</title>\n<path fill=\"none\" stroke=\"#000000\" d=\"M415.5915,-817.8796C398.536,-805.7263 379.9409,-792.4759 363.0359,-780.4297\"/>\n<polygon fill=\"#000000\" stroke=\"#000000\" points=\"365.062,-777.5759 354.8869,-774.623 360.9998,-783.2766 365.062,-777.5759\"/>\n</g>\n<!-- 4 -->\n<g id=\"node5\" class=\"node\">\n<title>4</title>\n<path fill=\"#e89151\" stroke=\"#000000\" d=\"M540.5,-782C540.5,-782 407.5,-782 407.5,-782 401.5,-782 395.5,-776 395.5,-770 395.5,-770 395.5,-711 395.5,-711 395.5,-705 401.5,-699 407.5,-699 407.5,-699 540.5,-699 540.5,-699 546.5,-699 552.5,-705 552.5,-711 552.5,-711 552.5,-770 552.5,-770 552.5,-776 546.5,-782 540.5,-782\"/>\n<text text-anchor=\"start\" x=\"426\" y=\"-766.8\" font-family=\"Helvetica,sans-Serif\" font-size=\"14.00\" fill=\"#000000\">ZoneAge ≤ 3.5</text>\n<text text-anchor=\"start\" x=\"431.5\" y=\"-751.8\" font-family=\"Helvetica,sans-Serif\" font-size=\"14.00\" fill=\"#000000\">entropy = 0.5</text>\n<text text-anchor=\"start\" x=\"418\" y=\"-736.8\" font-family=\"Helvetica,sans-Serif\" font-size=\"14.00\" fill=\"#000000\">samples = 34658</text>\n<text text-anchor=\"start\" x=\"403.5\" y=\"-721.8\" font-family=\"Helvetica,sans-Serif\" font-size=\"14.00\" fill=\"#000000\">value = [30843, 3815]</text>\n<text text-anchor=\"start\" x=\"439.5\" y=\"-706.8\" font-family=\"Helvetica,sans-Serif\" font-size=\"14.00\" fill=\"#000000\">class = No</text>\n</g>\n<!-- 2&#45;&gt;4 -->\n<g id=\"edge4\" class=\"edge\">\n<title>2&#45;&gt;4</title>\n<path fill=\"none\" stroke=\"#000000\" d=\"M474,-817.8796C474,-809.6838 474,-800.9891 474,-792.5013\"/>\n<polygon fill=\"#000000\" stroke=\"#000000\" points=\"477.5001,-792.298 474,-782.2981 470.5001,-792.2981 477.5001,-792.298\"/>\n</g>\n<!-- 5 -->\n<g id=\"node6\" class=\"node\">\n<title>5</title>\n<path fill=\"#ea975b\" stroke=\"#000000\" d=\"M286,-663C286,-663 170,-663 170,-663 164,-663 158,-657 158,-651 158,-651 158,-592 158,-592 158,-586 164,-580 170,-580 170,-580 286,-580 286,-580 292,-580 298,-586 298,-592 298,-592 298,-651 298,-651 298,-657 292,-663 286,-663\"/>\n<text text-anchor=\"start\" x=\"180\" y=\"-647.8\" font-family=\"Helvetica,sans-Serif\" font-size=\"14.00\" fill=\"#000000\">ZoneAge ≤ 2.5</text>\n<text text-anchor=\"start\" x=\"177\" y=\"-632.8\" font-family=\"Helvetica,sans-Serif\" font-size=\"14.00\" fill=\"#000000\">entropy = 0.606</text>\n<text text-anchor=\"start\" x=\"176\" y=\"-617.8\" font-family=\"Helvetica,sans-Serif\" font-size=\"14.00\" fill=\"#000000\">samples = 5999</text>\n<text text-anchor=\"start\" x=\"166\" y=\"-602.8\" font-family=\"Helvetica,sans-Serif\" font-size=\"14.00\" fill=\"#000000\">value = [5109, 890]</text>\n<text text-anchor=\"start\" x=\"193.5\" y=\"-587.8\" font-family=\"Helvetica,sans-Serif\" font-size=\"14.00\" fill=\"#000000\">class = No</text>\n</g>\n<!-- 4&#45;&gt;5 -->\n<g id=\"edge5\" class=\"edge\">\n<title>4&#45;&gt;5</title>\n<path fill=\"none\" stroke=\"#000000\" d=\"M395.4877,-702.5205C367.3202,-688.8947 335.5552,-673.5288 307.3197,-659.8701\"/>\n<polygon fill=\"#000000\" stroke=\"#000000\" points=\"308.8116,-656.7038 298.2853,-655.4998 305.7633,-663.0053 308.8116,-656.7038\"/>\n</g>\n<!-- 8 -->\n<g id=\"node9\" class=\"node\">\n<title>8</title>\n<path fill=\"#e88f50\" stroke=\"#000000\" d=\"M540.5,-663C540.5,-663 407.5,-663 407.5,-663 401.5,-663 395.5,-657 395.5,-651 395.5,-651 395.5,-592 395.5,-592 395.5,-586 401.5,-580 407.5,-580 407.5,-580 540.5,-580 540.5,-580 546.5,-580 552.5,-586 552.5,-592 552.5,-592 552.5,-651 552.5,-651 552.5,-657 546.5,-663 540.5,-663\"/>\n<text text-anchor=\"start\" x=\"426\" y=\"-647.8\" font-family=\"Helvetica,sans-Serif\" font-size=\"14.00\" fill=\"#000000\">ZoneAge ≤ 4.5</text>\n<text text-anchor=\"start\" x=\"423\" y=\"-632.8\" font-family=\"Helvetica,sans-Serif\" font-size=\"14.00\" fill=\"#000000\">entropy = 0.475</text>\n<text text-anchor=\"start\" x=\"418\" y=\"-617.8\" font-family=\"Helvetica,sans-Serif\" font-size=\"14.00\" fill=\"#000000\">samples = 28659</text>\n<text text-anchor=\"start\" x=\"403.5\" y=\"-602.8\" font-family=\"Helvetica,sans-Serif\" font-size=\"14.00\" fill=\"#000000\">value = [25734, 2925]</text>\n<text text-anchor=\"start\" x=\"439.5\" y=\"-587.8\" font-family=\"Helvetica,sans-Serif\" font-size=\"14.00\" fill=\"#000000\">class = No</text>\n</g>\n<!-- 4&#45;&gt;8 -->\n<g id=\"edge8\" class=\"edge\">\n<title>4&#45;&gt;8</title>\n<path fill=\"none\" stroke=\"#000000\" d=\"M474,-698.8796C474,-690.6838 474,-681.9891 474,-673.5013\"/>\n<polygon fill=\"#000000\" stroke=\"#000000\" points=\"477.5001,-673.298 474,-663.2981 470.5001,-673.2981 477.5001,-673.298\"/>\n</g>\n<!-- 6 -->\n<g id=\"node7\" class=\"node\">\n<title>6</title>\n<path fill=\"#e99558\" stroke=\"#000000\" d=\"M128,-536.5C128,-536.5 12,-536.5 12,-536.5 6,-536.5 0,-530.5 0,-524.5 0,-524.5 0,-480.5 0,-480.5 0,-474.5 6,-468.5 12,-468.5 12,-468.5 128,-468.5 128,-468.5 134,-468.5 140,-474.5 140,-480.5 140,-480.5 140,-524.5 140,-524.5 140,-530.5 134,-536.5 128,-536.5\"/>\n<text text-anchor=\"start\" x=\"19\" y=\"-521.3\" font-family=\"Helvetica,sans-Serif\" font-size=\"14.00\" fill=\"#000000\">entropy = 0.576</text>\n<text text-anchor=\"start\" x=\"18\" y=\"-506.3\" font-family=\"Helvetica,sans-Serif\" font-size=\"14.00\" fill=\"#000000\">samples = 3087</text>\n<text text-anchor=\"start\" x=\"8\" y=\"-491.3\" font-family=\"Helvetica,sans-Serif\" font-size=\"14.00\" fill=\"#000000\">value = [2665, 422]</text>\n<text text-anchor=\"start\" x=\"35.5\" y=\"-476.3\" font-family=\"Helvetica,sans-Serif\" font-size=\"14.00\" fill=\"#000000\">class = No</text>\n</g>\n<!-- 5&#45;&gt;6 -->\n<g id=\"edge6\" class=\"edge\">\n<title>5&#45;&gt;6</title>\n<path fill=\"none\" stroke=\"#000000\" d=\"M172.7393,-579.8796C156.7497,-567.8368 139.3297,-554.7167 123.4526,-542.7586\"/>\n<polygon fill=\"#000000\" stroke=\"#000000\" points=\"125.3998,-539.8435 115.3062,-536.623 121.1884,-545.435 125.3998,-539.8435\"/>\n</g>\n<!-- 7 -->\n<g id=\"node8\" class=\"node\">\n<title>7</title>\n<path fill=\"#ea995f\" stroke=\"#000000\" d=\"M286,-536.5C286,-536.5 170,-536.5 170,-536.5 164,-536.5 158,-530.5 158,-524.5 158,-524.5 158,-480.5 158,-480.5 158,-474.5 164,-468.5 170,-468.5 170,-468.5 286,-468.5 286,-468.5 292,-468.5 298,-474.5 298,-480.5 298,-480.5 298,-524.5 298,-524.5 298,-530.5 292,-536.5 286,-536.5\"/>\n<text text-anchor=\"start\" x=\"177\" y=\"-521.3\" font-family=\"Helvetica,sans-Serif\" font-size=\"14.00\" fill=\"#000000\">entropy = 0.636</text>\n<text text-anchor=\"start\" x=\"176\" y=\"-506.3\" font-family=\"Helvetica,sans-Serif\" font-size=\"14.00\" fill=\"#000000\">samples = 2912</text>\n<text text-anchor=\"start\" x=\"166\" y=\"-491.3\" font-family=\"Helvetica,sans-Serif\" font-size=\"14.00\" fill=\"#000000\">value = [2444, 468]</text>\n<text text-anchor=\"start\" x=\"193.5\" y=\"-476.3\" font-family=\"Helvetica,sans-Serif\" font-size=\"14.00\" fill=\"#000000\">class = No</text>\n</g>\n<!-- 5&#45;&gt;7 -->\n<g id=\"edge7\" class=\"edge\">\n<title>5&#45;&gt;7</title>\n<path fill=\"none\" stroke=\"#000000\" d=\"M228,-579.8796C228,-569.2134 228,-557.7021 228,-546.9015\"/>\n<polygon fill=\"#000000\" stroke=\"#000000\" points=\"231.5001,-546.8149 228,-536.8149 224.5001,-546.815 231.5001,-546.8149\"/>\n</g>\n<!-- 9 -->\n<g id=\"node10\" class=\"node\">\n<title>9</title>\n<path fill=\"#e89152\" stroke=\"#000000\" d=\"M444,-536.5C444,-536.5 328,-536.5 328,-536.5 322,-536.5 316,-530.5 316,-524.5 316,-524.5 316,-480.5 316,-480.5 316,-474.5 322,-468.5 328,-468.5 328,-468.5 444,-468.5 444,-468.5 450,-468.5 456,-474.5 456,-480.5 456,-480.5 456,-524.5 456,-524.5 456,-530.5 450,-536.5 444,-536.5\"/>\n<text text-anchor=\"start\" x=\"335\" y=\"-521.3\" font-family=\"Helvetica,sans-Serif\" font-size=\"14.00\" fill=\"#000000\">entropy = 0.507</text>\n<text text-anchor=\"start\" x=\"334\" y=\"-506.3\" font-family=\"Helvetica,sans-Serif\" font-size=\"14.00\" fill=\"#000000\">samples = 5130</text>\n<text text-anchor=\"start\" x=\"324\" y=\"-491.3\" font-family=\"Helvetica,sans-Serif\" font-size=\"14.00\" fill=\"#000000\">value = [4554, 576]</text>\n<text text-anchor=\"start\" x=\"351.5\" y=\"-476.3\" font-family=\"Helvetica,sans-Serif\" font-size=\"14.00\" fill=\"#000000\">class = No</text>\n</g>\n<!-- 8&#45;&gt;9 -->\n<g id=\"edge9\" class=\"edge\">\n<title>8&#45;&gt;9</title>\n<path fill=\"none\" stroke=\"#000000\" d=\"M443.2219,-579.8796C434.8464,-568.5536 425.7662,-556.2748 417.3589,-544.9058\"/>\n<polygon fill=\"#000000\" stroke=\"#000000\" points=\"420.1357,-542.7743 411.3758,-536.8149 414.5075,-546.9364 420.1357,-542.7743\"/>\n</g>\n<!-- 10 -->\n<g id=\"node11\" class=\"node\">\n<title>10</title>\n<path fill=\"#e88f4f\" stroke=\"#000000\" d=\"M619.5,-544C619.5,-544 486.5,-544 486.5,-544 480.5,-544 474.5,-538 474.5,-532 474.5,-532 474.5,-473 474.5,-473 474.5,-467 480.5,-461 486.5,-461 486.5,-461 619.5,-461 619.5,-461 625.5,-461 631.5,-467 631.5,-473 631.5,-473 631.5,-532 631.5,-532 631.5,-538 625.5,-544 619.5,-544\"/>\n<text text-anchor=\"start\" x=\"505\" y=\"-528.8\" font-family=\"Helvetica,sans-Serif\" font-size=\"14.00\" fill=\"#000000\">ZoneAge ≤ 5.5</text>\n<text text-anchor=\"start\" x=\"502\" y=\"-513.8\" font-family=\"Helvetica,sans-Serif\" font-size=\"14.00\" fill=\"#000000\">entropy = 0.468</text>\n<text text-anchor=\"start\" x=\"497\" y=\"-498.8\" font-family=\"Helvetica,sans-Serif\" font-size=\"14.00\" fill=\"#000000\">samples = 23529</text>\n<text text-anchor=\"start\" x=\"482.5\" y=\"-483.8\" font-family=\"Helvetica,sans-Serif\" font-size=\"14.00\" fill=\"#000000\">value = [21180, 2349]</text>\n<text text-anchor=\"start\" x=\"518.5\" y=\"-468.8\" font-family=\"Helvetica,sans-Serif\" font-size=\"14.00\" fill=\"#000000\">class = No</text>\n</g>\n<!-- 8&#45;&gt;10 -->\n<g id=\"edge10\" class=\"edge\">\n<title>8&#45;&gt;10</title>\n<path fill=\"none\" stroke=\"#000000\" d=\"M501.6304,-579.8796C507.43,-571.1434 513.6059,-561.8404 519.5908,-552.8253\"/>\n<polygon fill=\"#000000\" stroke=\"#000000\" points=\"522.6368,-554.5652 525.2517,-544.2981 516.8049,-550.6935 522.6368,-554.5652\"/>\n</g>\n<!-- 11 -->\n<g id=\"node12\" class=\"node\">\n<title>11</title>\n<path fill=\"#e88f4f\" stroke=\"#000000\" d=\"M535.5,-417.5C535.5,-417.5 402.5,-417.5 402.5,-417.5 396.5,-417.5 390.5,-411.5 390.5,-405.5 390.5,-405.5 390.5,-361.5 390.5,-361.5 390.5,-355.5 396.5,-349.5 402.5,-349.5 402.5,-349.5 535.5,-349.5 535.5,-349.5 541.5,-349.5 547.5,-355.5 547.5,-361.5 547.5,-361.5 547.5,-405.5 547.5,-405.5 547.5,-411.5 541.5,-417.5 535.5,-417.5\"/>\n<text text-anchor=\"start\" x=\"422\" y=\"-402.3\" font-family=\"Helvetica,sans-Serif\" font-size=\"14.00\" fill=\"#000000\">entropy = 0.47</text>\n<text text-anchor=\"start\" x=\"413\" y=\"-387.3\" font-family=\"Helvetica,sans-Serif\" font-size=\"14.00\" fill=\"#000000\">samples = 15807</text>\n<text text-anchor=\"start\" x=\"398.5\" y=\"-372.3\" font-family=\"Helvetica,sans-Serif\" font-size=\"14.00\" fill=\"#000000\">value = [14222, 1585]</text>\n<text text-anchor=\"start\" x=\"434.5\" y=\"-357.3\" font-family=\"Helvetica,sans-Serif\" font-size=\"14.00\" fill=\"#000000\">class = No</text>\n</g>\n<!-- 10&#45;&gt;11 -->\n<g id=\"edge11\" class=\"edge\">\n<title>10&#45;&gt;11</title>\n<path fill=\"none\" stroke=\"#000000\" d=\"M523.6209,-460.8796C515.7037,-449.6636 507.1269,-437.5131 499.1675,-426.2372\"/>\n<polygon fill=\"#000000\" stroke=\"#000000\" points=\"501.8486,-423.9662 493.2223,-417.8149 496.1298,-428.003 501.8486,-423.9662\"/>\n</g>\n<!-- 12 -->\n<g id=\"node13\" class=\"node\">\n<title>12</title>\n<path fill=\"#e88f4f\" stroke=\"#000000\" d=\"M694,-417.5C694,-417.5 578,-417.5 578,-417.5 572,-417.5 566,-411.5 566,-405.5 566,-405.5 566,-361.5 566,-361.5 566,-355.5 572,-349.5 578,-349.5 578,-349.5 694,-349.5 694,-349.5 700,-349.5 706,-355.5 706,-361.5 706,-361.5 706,-405.5 706,-405.5 706,-411.5 700,-417.5 694,-417.5\"/>\n<text text-anchor=\"start\" x=\"585\" y=\"-402.3\" font-family=\"Helvetica,sans-Serif\" font-size=\"14.00\" fill=\"#000000\">entropy = 0.466</text>\n<text text-anchor=\"start\" x=\"584\" y=\"-387.3\" font-family=\"Helvetica,sans-Serif\" font-size=\"14.00\" fill=\"#000000\">samples = 7722</text>\n<text text-anchor=\"start\" x=\"574\" y=\"-372.3\" font-family=\"Helvetica,sans-Serif\" font-size=\"14.00\" fill=\"#000000\">value = [6958, 764]</text>\n<text text-anchor=\"start\" x=\"601.5\" y=\"-357.3\" font-family=\"Helvetica,sans-Serif\" font-size=\"14.00\" fill=\"#000000\">class = No</text>\n</g>\n<!-- 10&#45;&gt;12 -->\n<g id=\"edge12\" class=\"edge\">\n<title>10&#45;&gt;12</title>\n<path fill=\"none\" stroke=\"#000000\" d=\"M582.0294,-460.8796C589.8523,-449.6636 598.327,-437.5131 606.1917,-426.2372\"/>\n<polygon fill=\"#000000\" stroke=\"#000000\" points=\"609.216,-428.0192 612.0661,-417.8149 603.4746,-424.0147 609.216,-428.0192\"/>\n</g>\n<!-- 14 -->\n<g id=\"node15\" class=\"node\">\n<title>14</title>\n<path fill=\"#f0b68d\" stroke=\"#000000\" d=\"M1054,-782C1054,-782 946,-782 946,-782 940,-782 934,-776 934,-770 934,-770 934,-711 934,-711 934,-705 940,-699 946,-699 946,-699 1054,-699 1054,-699 1060,-699 1066,-705 1066,-711 1066,-711 1066,-770 1066,-770 1066,-776 1060,-782 1054,-782\"/>\n<text text-anchor=\"start\" x=\"952\" y=\"-766.8\" font-family=\"Helvetica,sans-Serif\" font-size=\"14.00\" fill=\"#000000\">ZoneAge ≤ 2.5</text>\n<text text-anchor=\"start\" x=\"949\" y=\"-751.8\" font-family=\"Helvetica,sans-Serif\" font-size=\"14.00\" fill=\"#000000\">entropy = 0.878</text>\n<text text-anchor=\"start\" x=\"948\" y=\"-736.8\" font-family=\"Helvetica,sans-Serif\" font-size=\"14.00\" fill=\"#000000\">samples = 1324</text>\n<text text-anchor=\"start\" x=\"942\" y=\"-721.8\" font-family=\"Helvetica,sans-Serif\" font-size=\"14.00\" fill=\"#000000\">value = [930, 394]</text>\n<text text-anchor=\"start\" x=\"965.5\" y=\"-706.8\" font-family=\"Helvetica,sans-Serif\" font-size=\"14.00\" fill=\"#000000\">class = No</text>\n</g>\n<!-- 13&#45;&gt;14 -->\n<g id=\"edge14\" class=\"edge\">\n<title>13&#45;&gt;14</title>\n<path fill=\"none\" stroke=\"#000000\" d=\"M1050.0691,-817.8796C1044.4163,-809.1434 1038.3967,-799.8404 1032.5634,-790.8253\"/>\n<polygon fill=\"#000000\" stroke=\"#000000\" points=\"1035.4169,-788.7924 1027.0458,-782.2981 1029.5399,-792.5952 1035.4169,-788.7924\"/>\n</g>\n<!-- 21 -->\n<g id=\"node22\" class=\"node\">\n<title>21</title>\n<path fill=\"#eca16c\" stroke=\"#000000\" d=\"M1212,-782C1212,-782 1096,-782 1096,-782 1090,-782 1084,-776 1084,-770 1084,-770 1084,-711 1084,-711 1084,-705 1090,-699 1096,-699 1096,-699 1212,-699 1212,-699 1218,-699 1224,-705 1224,-711 1224,-711 1224,-770 1224,-770 1224,-776 1218,-782 1212,-782\"/>\n<text text-anchor=\"start\" x=\"1106\" y=\"-766.8\" font-family=\"Helvetica,sans-Serif\" font-size=\"14.00\" fill=\"#000000\">ZoneAge ≤ 5.5</text>\n<text text-anchor=\"start\" x=\"1103\" y=\"-751.8\" font-family=\"Helvetica,sans-Serif\" font-size=\"14.00\" fill=\"#000000\">entropy = 0.728</text>\n<text text-anchor=\"start\" x=\"1102\" y=\"-736.8\" font-family=\"Helvetica,sans-Serif\" font-size=\"14.00\" fill=\"#000000\">samples = 2898</text>\n<text text-anchor=\"start\" x=\"1092\" y=\"-721.8\" font-family=\"Helvetica,sans-Serif\" font-size=\"14.00\" fill=\"#000000\">value = [2309, 589]</text>\n<text text-anchor=\"start\" x=\"1119.5\" y=\"-706.8\" font-family=\"Helvetica,sans-Serif\" font-size=\"14.00\" fill=\"#000000\">class = No</text>\n</g>\n<!-- 13&#45;&gt;21 -->\n<g id=\"edge21\" class=\"edge\">\n<title>13&#45;&gt;21</title>\n<path fill=\"none\" stroke=\"#000000\" d=\"M1103.9309,-817.8796C1109.5837,-809.1434 1115.6033,-799.8404 1121.4366,-790.8253\"/>\n<polygon fill=\"#000000\" stroke=\"#000000\" points=\"1124.4601,-792.5952 1126.9542,-782.2981 1118.5831,-788.7924 1124.4601,-792.5952\"/>\n</g>\n<!-- 15 -->\n<g id=\"node16\" class=\"node\">\n<title>15</title>\n<path fill=\"#eead7f\" stroke=\"#000000\" d=\"M904,-663C904,-663 796,-663 796,-663 790,-663 784,-657 784,-651 784,-651 784,-592 784,-592 784,-586 790,-580 796,-580 796,-580 904,-580 904,-580 910,-580 916,-586 916,-592 916,-592 916,-651 916,-651 916,-657 910,-663 904,-663\"/>\n<text text-anchor=\"start\" x=\"802\" y=\"-647.8\" font-family=\"Helvetica,sans-Serif\" font-size=\"14.00\" fill=\"#000000\">ZoneAge ≤ 1.5</text>\n<text text-anchor=\"start\" x=\"799\" y=\"-632.8\" font-family=\"Helvetica,sans-Serif\" font-size=\"14.00\" fill=\"#000000\">entropy = 0.827</text>\n<text text-anchor=\"start\" x=\"802\" y=\"-617.8\" font-family=\"Helvetica,sans-Serif\" font-size=\"14.00\" fill=\"#000000\">samples = 572</text>\n<text text-anchor=\"start\" x=\"792\" y=\"-602.8\" font-family=\"Helvetica,sans-Serif\" font-size=\"14.00\" fill=\"#000000\">value = [423, 149]</text>\n<text text-anchor=\"start\" x=\"815.5\" y=\"-587.8\" font-family=\"Helvetica,sans-Serif\" font-size=\"14.00\" fill=\"#000000\">class = No</text>\n</g>\n<!-- 14&#45;&gt;15 -->\n<g id=\"edge15\" class=\"edge\">\n<title>14&#45;&gt;15</title>\n<path fill=\"none\" stroke=\"#000000\" d=\"M947.5373,-698.8796C935.5479,-689.368 922.7113,-679.1843 910.4184,-669.432\"/>\n<polygon fill=\"#000000\" stroke=\"#000000\" points=\"912.4425,-666.5701 902.4331,-663.0969 908.0919,-672.054 912.4425,-666.5701\"/>\n</g>\n<!-- 18 -->\n<g id=\"node19\" class=\"node\">\n<title>18</title>\n<path fill=\"#f2be99\" stroke=\"#000000\" d=\"M1054,-663C1054,-663 946,-663 946,-663 940,-663 934,-657 934,-651 934,-651 934,-592 934,-592 934,-586 940,-580 946,-580 946,-580 1054,-580 1054,-580 1060,-580 1066,-586 1066,-592 1066,-592 1066,-651 1066,-651 1066,-657 1060,-663 1054,-663\"/>\n<text text-anchor=\"start\" x=\"952\" y=\"-647.8\" font-family=\"Helvetica,sans-Serif\" font-size=\"14.00\" fill=\"#000000\">ZoneAge ≤ 3.5</text>\n<text text-anchor=\"start\" x=\"949\" y=\"-632.8\" font-family=\"Helvetica,sans-Serif\" font-size=\"14.00\" fill=\"#000000\">entropy = 0.911</text>\n<text text-anchor=\"start\" x=\"952\" y=\"-617.8\" font-family=\"Helvetica,sans-Serif\" font-size=\"14.00\" fill=\"#000000\">samples = 752</text>\n<text text-anchor=\"start\" x=\"942\" y=\"-602.8\" font-family=\"Helvetica,sans-Serif\" font-size=\"14.00\" fill=\"#000000\">value = [507, 245]</text>\n<text text-anchor=\"start\" x=\"965.5\" y=\"-587.8\" font-family=\"Helvetica,sans-Serif\" font-size=\"14.00\" fill=\"#000000\">class = No</text>\n</g>\n<!-- 14&#45;&gt;18 -->\n<g id=\"edge18\" class=\"edge\">\n<title>14&#45;&gt;18</title>\n<path fill=\"none\" stroke=\"#000000\" d=\"M1000,-698.8796C1000,-690.6838 1000,-681.9891 1000,-673.5013\"/>\n<polygon fill=\"#000000\" stroke=\"#000000\" points=\"1003.5001,-673.298 1000,-663.2981 996.5001,-673.2981 1003.5001,-673.298\"/>\n</g>\n<!-- 16 -->\n<g id=\"node17\" class=\"node\">\n<title>16</title>\n<path fill=\"#efb388\" stroke=\"#000000\" d=\"M762,-536.5C762,-536.5 662,-536.5 662,-536.5 656,-536.5 650,-530.5 650,-524.5 650,-524.5 650,-480.5 650,-480.5 650,-474.5 656,-468.5 662,-468.5 662,-468.5 762,-468.5 762,-468.5 768,-468.5 774,-474.5 774,-480.5 774,-480.5 774,-524.5 774,-524.5 774,-530.5 768,-536.5 762,-536.5\"/>\n<text text-anchor=\"start\" x=\"661\" y=\"-521.3\" font-family=\"Helvetica,sans-Serif\" font-size=\"14.00\" fill=\"#000000\">entropy = 0.862</text>\n<text text-anchor=\"start\" x=\"664\" y=\"-506.3\" font-family=\"Helvetica,sans-Serif\" font-size=\"14.00\" fill=\"#000000\">samples = 267</text>\n<text text-anchor=\"start\" x=\"658\" y=\"-491.3\" font-family=\"Helvetica,sans-Serif\" font-size=\"14.00\" fill=\"#000000\">value = [191, 76]</text>\n<text text-anchor=\"start\" x=\"677.5\" y=\"-476.3\" font-family=\"Helvetica,sans-Serif\" font-size=\"14.00\" fill=\"#000000\">class = No</text>\n</g>\n<!-- 15&#45;&gt;16 -->\n<g id=\"edge16\" class=\"edge\">\n<title>15&#45;&gt;16</title>\n<path fill=\"none\" stroke=\"#000000\" d=\"M801.7343,-579.8796C788.0899,-568.1138 773.2531,-555.3197 759.6454,-543.5855\"/>\n<polygon fill=\"#000000\" stroke=\"#000000\" points=\"761.6527,-540.6948 751.7938,-536.8149 757.0813,-545.9961 761.6527,-540.6948\"/>\n</g>\n<!-- 17 -->\n<g id=\"node18\" class=\"node\">\n<title>17</title>\n<path fill=\"#eda977\" stroke=\"#000000\" d=\"M904,-536.5C904,-536.5 804,-536.5 804,-536.5 798,-536.5 792,-530.5 792,-524.5 792,-524.5 792,-480.5 792,-480.5 792,-474.5 798,-468.5 804,-468.5 804,-468.5 904,-468.5 904,-468.5 910,-468.5 916,-474.5 916,-480.5 916,-480.5 916,-524.5 916,-524.5 916,-530.5 910,-536.5 904,-536.5\"/>\n<text text-anchor=\"start\" x=\"803\" y=\"-521.3\" font-family=\"Helvetica,sans-Serif\" font-size=\"14.00\" fill=\"#000000\">entropy = 0.794</text>\n<text text-anchor=\"start\" x=\"806\" y=\"-506.3\" font-family=\"Helvetica,sans-Serif\" font-size=\"14.00\" fill=\"#000000\">samples = 305</text>\n<text text-anchor=\"start\" x=\"800\" y=\"-491.3\" font-family=\"Helvetica,sans-Serif\" font-size=\"14.00\" fill=\"#000000\">value = [232, 73]</text>\n<text text-anchor=\"start\" x=\"819.5\" y=\"-476.3\" font-family=\"Helvetica,sans-Serif\" font-size=\"14.00\" fill=\"#000000\">class = No</text>\n</g>\n<!-- 15&#45;&gt;17 -->\n<g id=\"edge17\" class=\"edge\">\n<title>15&#45;&gt;17</title>\n<path fill=\"none\" stroke=\"#000000\" d=\"M851.399,-579.8796C851.7575,-569.2134 852.1445,-557.7021 852.5075,-546.9015\"/>\n<polygon fill=\"#000000\" stroke=\"#000000\" points=\"856.0085,-546.9269 852.8466,-536.8149 849.0125,-546.6917 856.0085,-546.9269\"/>\n</g>\n<!-- 19 -->\n<g id=\"node20\" class=\"node\">\n<title>19</title>\n<path fill=\"#f1bc95\" stroke=\"#000000\" d=\"M1046,-536.5C1046,-536.5 946,-536.5 946,-536.5 940,-536.5 934,-530.5 934,-524.5 934,-524.5 934,-480.5 934,-480.5 934,-474.5 940,-468.5 946,-468.5 946,-468.5 1046,-468.5 1046,-468.5 1052,-468.5 1058,-474.5 1058,-480.5 1058,-480.5 1058,-524.5 1058,-524.5 1058,-530.5 1052,-536.5 1046,-536.5\"/>\n<text text-anchor=\"start\" x=\"945\" y=\"-521.3\" font-family=\"Helvetica,sans-Serif\" font-size=\"14.00\" fill=\"#000000\">entropy = 0.902</text>\n<text text-anchor=\"start\" x=\"948\" y=\"-506.3\" font-family=\"Helvetica,sans-Serif\" font-size=\"14.00\" fill=\"#000000\">samples = 217</text>\n<text text-anchor=\"start\" x=\"942\" y=\"-491.3\" font-family=\"Helvetica,sans-Serif\" font-size=\"14.00\" fill=\"#000000\">value = [148, 69]</text>\n<text text-anchor=\"start\" x=\"961.5\" y=\"-476.3\" font-family=\"Helvetica,sans-Serif\" font-size=\"14.00\" fill=\"#000000\">class = No</text>\n</g>\n<!-- 18&#45;&gt;19 -->\n<g id=\"edge19\" class=\"edge\">\n<title>18&#45;&gt;19</title>\n<path fill=\"none\" stroke=\"#000000\" d=\"M998.601,-579.8796C998.2425,-569.2134 997.8555,-557.7021 997.4925,-546.9015\"/>\n<polygon fill=\"#000000\" stroke=\"#000000\" points=\"1000.9875,-546.6917 997.1534,-536.8149 993.9915,-546.9269 1000.9875,-546.6917\"/>\n</g>\n<!-- 20 -->\n<g id=\"node21\" class=\"node\">\n<title>20</title>\n<path fill=\"#f2bf9a\" stroke=\"#000000\" d=\"M1196,-536.5C1196,-536.5 1088,-536.5 1088,-536.5 1082,-536.5 1076,-530.5 1076,-524.5 1076,-524.5 1076,-480.5 1076,-480.5 1076,-474.5 1082,-468.5 1088,-468.5 1088,-468.5 1196,-468.5 1196,-468.5 1202,-468.5 1208,-474.5 1208,-480.5 1208,-480.5 1208,-524.5 1208,-524.5 1208,-530.5 1202,-536.5 1196,-536.5\"/>\n<text text-anchor=\"start\" x=\"1091\" y=\"-521.3\" font-family=\"Helvetica,sans-Serif\" font-size=\"14.00\" fill=\"#000000\">entropy = 0.914</text>\n<text text-anchor=\"start\" x=\"1094\" y=\"-506.3\" font-family=\"Helvetica,sans-Serif\" font-size=\"14.00\" fill=\"#000000\">samples = 535</text>\n<text text-anchor=\"start\" x=\"1084\" y=\"-491.3\" font-family=\"Helvetica,sans-Serif\" font-size=\"14.00\" fill=\"#000000\">value = [359, 176]</text>\n<text text-anchor=\"start\" x=\"1107.5\" y=\"-476.3\" font-family=\"Helvetica,sans-Serif\" font-size=\"14.00\" fill=\"#000000\">class = No</text>\n</g>\n<!-- 18&#45;&gt;20 -->\n<g id=\"edge20\" class=\"edge\">\n<title>18&#45;&gt;20</title>\n<path fill=\"none\" stroke=\"#000000\" d=\"M1049.6647,-579.8796C1063.8358,-568.0038 1079.257,-555.0804 1093.3658,-543.2568\"/>\n<polygon fill=\"#000000\" stroke=\"#000000\" points=\"1095.6363,-545.9206 1101.0528,-536.8149 1091.1402,-540.5554 1095.6363,-545.9206\"/>\n</g>\n<!-- 22 -->\n<g id=\"node23\" class=\"node\">\n<title>22</title>\n<path fill=\"#eca46f\" stroke=\"#000000\" d=\"M1212,-655.5C1212,-655.5 1096,-655.5 1096,-655.5 1090,-655.5 1084,-649.5 1084,-643.5 1084,-643.5 1084,-599.5 1084,-599.5 1084,-593.5 1090,-587.5 1096,-587.5 1096,-587.5 1212,-587.5 1212,-587.5 1218,-587.5 1224,-593.5 1224,-599.5 1224,-599.5 1224,-643.5 1224,-643.5 1224,-649.5 1218,-655.5 1212,-655.5\"/>\n<text text-anchor=\"start\" x=\"1103\" y=\"-640.3\" font-family=\"Helvetica,sans-Serif\" font-size=\"14.00\" fill=\"#000000\">entropy = 0.752</text>\n<text text-anchor=\"start\" x=\"1102\" y=\"-625.3\" font-family=\"Helvetica,sans-Serif\" font-size=\"14.00\" fill=\"#000000\">samples = 1939</text>\n<text text-anchor=\"start\" x=\"1092\" y=\"-610.3\" font-family=\"Helvetica,sans-Serif\" font-size=\"14.00\" fill=\"#000000\">value = [1521, 418]</text>\n<text text-anchor=\"start\" x=\"1119.5\" y=\"-595.3\" font-family=\"Helvetica,sans-Serif\" font-size=\"14.00\" fill=\"#000000\">class = No</text>\n</g>\n<!-- 21&#45;&gt;22 -->\n<g id=\"edge22\" class=\"edge\">\n<title>21&#45;&gt;22</title>\n<path fill=\"none\" stroke=\"#000000\" d=\"M1154,-698.8796C1154,-688.2134 1154,-676.7021 1154,-665.9015\"/>\n<polygon fill=\"#000000\" stroke=\"#000000\" points=\"1157.5001,-665.8149 1154,-655.8149 1150.5001,-665.815 1157.5001,-665.8149\"/>\n</g>\n<!-- 23 -->\n<g id=\"node24\" class=\"node\">\n<title>23</title>\n<path fill=\"#eb9c64\" stroke=\"#000000\" d=\"M1362,-655.5C1362,-655.5 1254,-655.5 1254,-655.5 1248,-655.5 1242,-649.5 1242,-643.5 1242,-643.5 1242,-599.5 1242,-599.5 1242,-593.5 1248,-587.5 1254,-587.5 1254,-587.5 1362,-587.5 1362,-587.5 1368,-587.5 1374,-593.5 1374,-599.5 1374,-599.5 1374,-643.5 1374,-643.5 1374,-649.5 1368,-655.5 1362,-655.5\"/>\n<text text-anchor=\"start\" x=\"1257\" y=\"-640.3\" font-family=\"Helvetica,sans-Serif\" font-size=\"14.00\" fill=\"#000000\">entropy = 0.676</text>\n<text text-anchor=\"start\" x=\"1260\" y=\"-625.3\" font-family=\"Helvetica,sans-Serif\" font-size=\"14.00\" fill=\"#000000\">samples = 959</text>\n<text text-anchor=\"start\" x=\"1250\" y=\"-610.3\" font-family=\"Helvetica,sans-Serif\" font-size=\"14.00\" fill=\"#000000\">value = [788, 171]</text>\n<text text-anchor=\"start\" x=\"1273.5\" y=\"-595.3\" font-family=\"Helvetica,sans-Serif\" font-size=\"14.00\" fill=\"#000000\">class = No</text>\n</g>\n<!-- 21&#45;&gt;23 -->\n<g id=\"edge23\" class=\"edge\">\n<title>21&#45;&gt;23</title>\n<path fill=\"none\" stroke=\"#000000\" d=\"M1207.8617,-698.8796C1223.2304,-687.0038 1239.9547,-674.0804 1255.2559,-662.2568\"/>\n<polygon fill=\"#000000\" stroke=\"#000000\" points=\"1257.8196,-664.699 1263.5924,-655.8149 1253.5395,-659.1599 1257.8196,-664.699\"/>\n</g>\n<!-- 25 -->\n<g id=\"node26\" class=\"node\">\n<title>25</title>\n<path fill=\"#f2be99\" stroke=\"#000000\" d=\"M2203.5,-901C2203.5,-901 2070.5,-901 2070.5,-901 2064.5,-901 2058.5,-895 2058.5,-889 2058.5,-889 2058.5,-830 2058.5,-830 2058.5,-824 2064.5,-818 2070.5,-818 2070.5,-818 2203.5,-818 2203.5,-818 2209.5,-818 2215.5,-824 2215.5,-830 2215.5,-830 2215.5,-889 2215.5,-889 2215.5,-895 2209.5,-901 2203.5,-901\"/>\n<text text-anchor=\"start\" x=\"2071.5\" y=\"-885.8\" font-family=\"Helvetica,sans-Serif\" font-size=\"14.00\" fill=\"#000000\">SMS_received ≤ 0.5</text>\n<text text-anchor=\"start\" x=\"2086\" y=\"-870.8\" font-family=\"Helvetica,sans-Serif\" font-size=\"14.00\" fill=\"#000000\">entropy = 0.912</text>\n<text text-anchor=\"start\" x=\"2081\" y=\"-855.8\" font-family=\"Helvetica,sans-Serif\" font-size=\"14.00\" fill=\"#000000\">samples = 27785</text>\n<text text-anchor=\"start\" x=\"2066.5\" y=\"-840.8\" font-family=\"Helvetica,sans-Serif\" font-size=\"14.00\" fill=\"#000000\">value = [18685, 9100]</text>\n<text text-anchor=\"start\" x=\"2102.5\" y=\"-825.8\" font-family=\"Helvetica,sans-Serif\" font-size=\"14.00\" fill=\"#000000\">class = No</text>\n</g>\n<!-- 24&#45;&gt;25 -->\n<g id=\"edge25\" class=\"edge\">\n<title>24&#45;&gt;25</title>\n<path fill=\"none\" stroke=\"#000000\" d=\"M2137,-936.8796C2137,-928.6838 2137,-919.9891 2137,-911.5013\"/>\n<polygon fill=\"#000000\" stroke=\"#000000\" points=\"2140.5001,-911.298 2137,-901.2981 2133.5001,-911.2981 2140.5001,-911.298\"/>\n</g>\n<!-- 84 -->\n<g id=\"node85\" class=\"node\">\n<title>84</title>\n<path fill=\"#eca470\" stroke=\"#000000\" d=\"M3128.5,-901C3128.5,-901 3003.5,-901 3003.5,-901 2997.5,-901 2991.5,-895 2991.5,-889 2991.5,-889 2991.5,-830 2991.5,-830 2991.5,-824 2997.5,-818 3003.5,-818 3003.5,-818 3128.5,-818 3128.5,-818 3134.5,-818 3140.5,-824 3140.5,-830 3140.5,-830 3140.5,-889 3140.5,-889 3140.5,-895 3134.5,-901 3128.5,-901\"/>\n<text text-anchor=\"start\" x=\"3000.5\" y=\"-885.8\" font-family=\"Helvetica,sans-Serif\" font-size=\"14.00\" fill=\"#000000\">SMS_received ≤ 0.5</text>\n<text text-anchor=\"start\" x=\"3015\" y=\"-870.8\" font-family=\"Helvetica,sans-Serif\" font-size=\"14.00\" fill=\"#000000\">entropy = 0.758</text>\n<text text-anchor=\"start\" x=\"3014\" y=\"-855.8\" font-family=\"Helvetica,sans-Serif\" font-size=\"14.00\" fill=\"#000000\">samples = 6138</text>\n<text text-anchor=\"start\" x=\"2999.5\" y=\"-840.8\" font-family=\"Helvetica,sans-Serif\" font-size=\"14.00\" fill=\"#000000\">value = [4795, 1343]</text>\n<text text-anchor=\"start\" x=\"3031.5\" y=\"-825.8\" font-family=\"Helvetica,sans-Serif\" font-size=\"14.00\" fill=\"#000000\">class = No</text>\n</g>\n<!-- 24&#45;&gt;84 -->\n<g id=\"edge84\" class=\"edge\">\n<title>24&#45;&gt;84</title>\n<path fill=\"none\" stroke=\"#000000\" d=\"M2219.8509,-967.8872C2395.5485,-945.3813 2803.918,-893.0713 2981.2651,-870.3541\"/>\n<polygon fill=\"#000000\" stroke=\"#000000\" points=\"2981.8547,-873.8073 2991.3289,-869.065 2980.9652,-866.864 2981.8547,-873.8073\"/>\n</g>\n<!-- 26 -->\n<g id=\"node27\" class=\"node\">\n<title>26</title>\n<path fill=\"#f4c9aa\" stroke=\"#000000\" d=\"M1920.5,-782C1920.5,-782 1795.5,-782 1795.5,-782 1789.5,-782 1783.5,-776 1783.5,-770 1783.5,-770 1783.5,-711 1783.5,-711 1783.5,-705 1789.5,-699 1795.5,-699 1795.5,-699 1920.5,-699 1920.5,-699 1926.5,-699 1932.5,-705 1932.5,-711 1932.5,-711 1932.5,-770 1932.5,-770 1932.5,-776 1926.5,-782 1920.5,-782\"/>\n<text text-anchor=\"start\" x=\"1810\" y=\"-766.8\" font-family=\"Helvetica,sans-Serif\" font-size=\"14.00\" fill=\"#000000\">ZoneAge ≤ 4.5</text>\n<text text-anchor=\"start\" x=\"1807\" y=\"-751.8\" font-family=\"Helvetica,sans-Serif\" font-size=\"14.00\" fill=\"#000000\">entropy = 0.945</text>\n<text text-anchor=\"start\" x=\"1802\" y=\"-736.8\" font-family=\"Helvetica,sans-Serif\" font-size=\"14.00\" fill=\"#000000\">samples = 10870</text>\n<text text-anchor=\"start\" x=\"1791.5\" y=\"-721.8\" font-family=\"Helvetica,sans-Serif\" font-size=\"14.00\" fill=\"#000000\">value = [6925, 3945]</text>\n<text text-anchor=\"start\" x=\"1823.5\" y=\"-706.8\" font-family=\"Helvetica,sans-Serif\" font-size=\"14.00\" fill=\"#000000\">class = No</text>\n</g>\n<!-- 25&#45;&gt;26 -->\n<g id=\"edge26\" class=\"edge\">\n<title>25&#45;&gt;26</title>\n<path fill=\"none\" stroke=\"#000000\" d=\"M2058.1685,-825.8765C2021.9222,-810.4166 1978.8893,-792.0621 1942.0288,-776.3402\"/>\n<polygon fill=\"#000000\" stroke=\"#000000\" points=\"1943.3698,-773.1072 1932.7984,-772.4033 1940.6235,-779.546 1943.3698,-773.1072\"/>\n</g>\n<!-- 55 -->\n<g id=\"node56\" class=\"node\">\n<title>55</title>\n<path fill=\"#f0b890\" stroke=\"#000000\" d=\"M2561.5,-782C2561.5,-782 2428.5,-782 2428.5,-782 2422.5,-782 2416.5,-776 2416.5,-770 2416.5,-770 2416.5,-711 2416.5,-711 2416.5,-705 2422.5,-699 2428.5,-699 2428.5,-699 2561.5,-699 2561.5,-699 2567.5,-699 2573.5,-705 2573.5,-711 2573.5,-711 2573.5,-770 2573.5,-770 2573.5,-776 2567.5,-782 2561.5,-782\"/>\n<text text-anchor=\"start\" x=\"2447\" y=\"-766.8\" font-family=\"Helvetica,sans-Serif\" font-size=\"14.00\" fill=\"#000000\">ZoneAge ≤ 4.5</text>\n<text text-anchor=\"start\" x=\"2444\" y=\"-751.8\" font-family=\"Helvetica,sans-Serif\" font-size=\"14.00\" fill=\"#000000\">entropy = 0.887</text>\n<text text-anchor=\"start\" x=\"2439\" y=\"-736.8\" font-family=\"Helvetica,sans-Serif\" font-size=\"14.00\" fill=\"#000000\">samples = 16915</text>\n<text text-anchor=\"start\" x=\"2424.5\" y=\"-721.8\" font-family=\"Helvetica,sans-Serif\" font-size=\"14.00\" fill=\"#000000\">value = [11760, 5155]</text>\n<text text-anchor=\"start\" x=\"2460.5\" y=\"-706.8\" font-family=\"Helvetica,sans-Serif\" font-size=\"14.00\" fill=\"#000000\">class = No</text>\n</g>\n<!-- 25&#45;&gt;55 -->\n<g id=\"edge55\" class=\"edge\">\n<title>25&#45;&gt;55</title>\n<path fill=\"none\" stroke=\"#000000\" d=\"M2215.5646,-833.3849C2272.0091,-814.6227 2348.1534,-789.3121 2406.7018,-769.8505\"/>\n<polygon fill=\"#000000\" stroke=\"#000000\" points=\"2407.9245,-773.1325 2416.3099,-766.6567 2405.7164,-766.4898 2407.9245,-773.1325\"/>\n</g>\n<!-- 27 -->\n<g id=\"node28\" class=\"node\">\n<title>27</title>\n<path fill=\"#f6d2b9\" stroke=\"#000000\" d=\"M1659,-663C1659,-663 1511,-663 1511,-663 1505,-663 1499,-657 1499,-651 1499,-651 1499,-592 1499,-592 1499,-586 1505,-580 1511,-580 1511,-580 1659,-580 1659,-580 1665,-580 1671,-586 1671,-592 1671,-592 1671,-651 1671,-651 1671,-657 1665,-663 1659,-663\"/>\n<text text-anchor=\"start\" x=\"1507\" y=\"-647.8\" font-family=\"Helvetica,sans-Serif\" font-size=\"14.00\" fill=\"#000000\">ZoneAwaitingTime ≤ 2.5</text>\n<text text-anchor=\"start\" x=\"1534\" y=\"-632.8\" font-family=\"Helvetica,sans-Serif\" font-size=\"14.00\" fill=\"#000000\">entropy = 0.966</text>\n<text text-anchor=\"start\" x=\"1533\" y=\"-617.8\" font-family=\"Helvetica,sans-Serif\" font-size=\"14.00\" fill=\"#000000\">samples = 5531</text>\n<text text-anchor=\"start\" x=\"1518.5\" y=\"-602.8\" font-family=\"Helvetica,sans-Serif\" font-size=\"14.00\" fill=\"#000000\">value = [3363, 2168]</text>\n<text text-anchor=\"start\" x=\"1550.5\" y=\"-587.8\" font-family=\"Helvetica,sans-Serif\" font-size=\"14.00\" fill=\"#000000\">class = No</text>\n</g>\n<!-- 26&#45;&gt;27 -->\n<g id=\"edge27\" class=\"edge\">\n<title>26&#45;&gt;27</title>\n<path fill=\"none\" stroke=\"#000000\" d=\"M1783.4016,-707.9827C1751.6546,-694.1443 1714.2398,-677.8353 1680.5069,-663.1312\"/>\n<polygon fill=\"#000000\" stroke=\"#000000\" points=\"1681.6634,-659.8173 1671.0978,-659.0298 1678.8662,-666.2342 1681.6634,-659.8173\"/>\n</g>\n<!-- 50 -->\n<g id=\"node51\" class=\"node\">\n<title>50</title>\n<path fill=\"#f2c09c\" stroke=\"#000000\" d=\"M1932,-663C1932,-663 1784,-663 1784,-663 1778,-663 1772,-657 1772,-651 1772,-651 1772,-592 1772,-592 1772,-586 1778,-580 1784,-580 1784,-580 1932,-580 1932,-580 1938,-580 1944,-586 1944,-592 1944,-592 1944,-651 1944,-651 1944,-657 1938,-663 1932,-663\"/>\n<text text-anchor=\"start\" x=\"1780\" y=\"-647.8\" font-family=\"Helvetica,sans-Serif\" font-size=\"14.00\" fill=\"#000000\">ZoneAwaitingTime ≤ 2.5</text>\n<text text-anchor=\"start\" x=\"1807\" y=\"-632.8\" font-family=\"Helvetica,sans-Serif\" font-size=\"14.00\" fill=\"#000000\">entropy = 0.918</text>\n<text text-anchor=\"start\" x=\"1806\" y=\"-617.8\" font-family=\"Helvetica,sans-Serif\" font-size=\"14.00\" fill=\"#000000\">samples = 5339</text>\n<text text-anchor=\"start\" x=\"1791.5\" y=\"-602.8\" font-family=\"Helvetica,sans-Serif\" font-size=\"14.00\" fill=\"#000000\">value = [3562, 1777]</text>\n<text text-anchor=\"start\" x=\"1823.5\" y=\"-587.8\" font-family=\"Helvetica,sans-Serif\" font-size=\"14.00\" fill=\"#000000\">class = No</text>\n</g>\n<!-- 26&#45;&gt;50 -->\n<g id=\"edge50\" class=\"edge\">\n<title>26&#45;&gt;50</title>\n<path fill=\"none\" stroke=\"#000000\" d=\"M1858,-698.8796C1858,-690.6838 1858,-681.9891 1858,-673.5013\"/>\n<polygon fill=\"#000000\" stroke=\"#000000\" points=\"1861.5001,-673.298 1858,-663.2981 1854.5001,-673.2981 1861.5001,-673.298\"/>\n</g>\n<!-- 28 -->\n<g id=\"node29\" class=\"node\">\n<title>28</title>\n<path fill=\"#f4c7a8\" stroke=\"#000000\" d=\"M1354,-544C1354,-544 1238,-544 1238,-544 1232,-544 1226,-538 1226,-532 1226,-532 1226,-473 1226,-473 1226,-467 1232,-461 1238,-461 1238,-461 1354,-461 1354,-461 1360,-461 1366,-467 1366,-473 1366,-473 1366,-532 1366,-532 1366,-538 1360,-544 1354,-544\"/>\n<text text-anchor=\"start\" x=\"1248\" y=\"-528.8\" font-family=\"Helvetica,sans-Serif\" font-size=\"14.00\" fill=\"#000000\">ZoneAge ≤ 2.5</text>\n<text text-anchor=\"start\" x=\"1245\" y=\"-513.8\" font-family=\"Helvetica,sans-Serif\" font-size=\"14.00\" fill=\"#000000\">entropy = 0.941</text>\n<text text-anchor=\"start\" x=\"1244\" y=\"-498.8\" font-family=\"Helvetica,sans-Serif\" font-size=\"14.00\" fill=\"#000000\">samples = 2696</text>\n<text text-anchor=\"start\" x=\"1234\" y=\"-483.8\" font-family=\"Helvetica,sans-Serif\" font-size=\"14.00\" fill=\"#000000\">value = [1730, 966]</text>\n<text text-anchor=\"start\" x=\"1261.5\" y=\"-468.8\" font-family=\"Helvetica,sans-Serif\" font-size=\"14.00\" fill=\"#000000\">class = No</text>\n</g>\n<!-- 27&#45;&gt;28 -->\n<g id=\"edge28\" class=\"edge\">\n<title>27&#45;&gt;28</title>\n<path fill=\"none\" stroke=\"#000000\" d=\"M1498.6819,-585.9573C1459.7358,-569.9206 1414.0204,-551.0966 1375.8732,-535.389\"/>\n<polygon fill=\"#000000\" stroke=\"#000000\" points=\"1376.926,-532.0374 1366.3466,-531.4662 1374.2607,-538.5102 1376.926,-532.0374\"/>\n</g>\n<!-- 35 -->\n<g id=\"node36\" class=\"node\">\n<title>35</title>\n<path fill=\"#f8decb\" stroke=\"#000000\" d=\"M1659,-544C1659,-544 1511,-544 1511,-544 1505,-544 1499,-538 1499,-532 1499,-532 1499,-473 1499,-473 1499,-467 1505,-461 1511,-461 1511,-461 1659,-461 1659,-461 1665,-461 1671,-467 1671,-473 1671,-473 1671,-532 1671,-532 1671,-538 1665,-544 1659,-544\"/>\n<text text-anchor=\"start\" x=\"1507\" y=\"-528.8\" font-family=\"Helvetica,sans-Serif\" font-size=\"14.00\" fill=\"#000000\">ZoneAwaitingTime ≤ 3.5</text>\n<text text-anchor=\"start\" x=\"1534\" y=\"-513.8\" font-family=\"Helvetica,sans-Serif\" font-size=\"14.00\" fill=\"#000000\">entropy = 0.983</text>\n<text text-anchor=\"start\" x=\"1533\" y=\"-498.8\" font-family=\"Helvetica,sans-Serif\" font-size=\"14.00\" fill=\"#000000\">samples = 2835</text>\n<text text-anchor=\"start\" x=\"1518.5\" y=\"-483.8\" font-family=\"Helvetica,sans-Serif\" font-size=\"14.00\" fill=\"#000000\">value = [1633, 1202]</text>\n<text text-anchor=\"start\" x=\"1550.5\" y=\"-468.8\" font-family=\"Helvetica,sans-Serif\" font-size=\"14.00\" fill=\"#000000\">class = No</text>\n</g>\n<!-- 27&#45;&gt;35 -->\n<g id=\"edge35\" class=\"edge\">\n<title>27&#45;&gt;35</title>\n<path fill=\"none\" stroke=\"#000000\" d=\"M1585,-579.8796C1585,-571.6838 1585,-562.9891 1585,-554.5013\"/>\n<polygon fill=\"#000000\" stroke=\"#000000\" points=\"1588.5001,-554.298 1585,-544.2981 1581.5001,-554.2981 1588.5001,-554.298\"/>\n</g>\n<!-- 29 -->\n<g id=\"node30\" class=\"node\">\n<title>29</title>\n<path fill=\"#f1bc95\" stroke=\"#000000\" d=\"M992,-425C992,-425 884,-425 884,-425 878,-425 872,-419 872,-413 872,-413 872,-354 872,-354 872,-348 878,-342 884,-342 884,-342 992,-342 992,-342 998,-342 1004,-348 1004,-354 1004,-354 1004,-413 1004,-413 1004,-419 998,-425 992,-425\"/>\n<text text-anchor=\"start\" x=\"890\" y=\"-409.8\" font-family=\"Helvetica,sans-Serif\" font-size=\"14.00\" fill=\"#000000\">ZoneAge ≤ 1.5</text>\n<text text-anchor=\"start\" x=\"887\" y=\"-394.8\" font-family=\"Helvetica,sans-Serif\" font-size=\"14.00\" fill=\"#000000\">entropy = 0.902</text>\n<text text-anchor=\"start\" x=\"886\" y=\"-379.8\" font-family=\"Helvetica,sans-Serif\" font-size=\"14.00\" fill=\"#000000\">samples = 1323</text>\n<text text-anchor=\"start\" x=\"880\" y=\"-364.8\" font-family=\"Helvetica,sans-Serif\" font-size=\"14.00\" fill=\"#000000\">value = [902, 421]</text>\n<text text-anchor=\"start\" x=\"903.5\" y=\"-349.8\" font-family=\"Helvetica,sans-Serif\" font-size=\"14.00\" fill=\"#000000\">class = No</text>\n</g>\n<!-- 28&#45;&gt;29 -->\n<g id=\"edge29\" class=\"edge\">\n<title>28&#45;&gt;29</title>\n<path fill=\"none\" stroke=\"#000000\" d=\"M1225.7153,-464.6309C1222.7932,-463.3581 1219.8805,-462.1416 1217,-461 1150.2066,-434.5291 1071.0348,-413.4597 1014.1235,-400.011\"/>\n<polygon fill=\"#000000\" stroke=\"#000000\" points=\"1014.6549,-396.541 1004.1206,-397.6715 1013.0607,-403.357 1014.6549,-396.541\"/>\n</g>\n<!-- 32 -->\n<g id=\"node33\" class=\"node\">\n<title>32</title>\n<path fill=\"#f6d4bb\" stroke=\"#000000\" d=\"M1292,-425C1292,-425 1184,-425 1184,-425 1178,-425 1172,-419 1172,-413 1172,-413 1172,-354 1172,-354 1172,-348 1178,-342 1184,-342 1184,-342 1292,-342 1292,-342 1298,-342 1304,-348 1304,-354 1304,-354 1304,-413 1304,-413 1304,-419 1298,-425 1292,-425\"/>\n<text text-anchor=\"start\" x=\"1190\" y=\"-409.8\" font-family=\"Helvetica,sans-Serif\" font-size=\"14.00\" fill=\"#000000\">ZoneAge ≤ 3.5</text>\n<text text-anchor=\"start\" x=\"1187\" y=\"-394.8\" font-family=\"Helvetica,sans-Serif\" font-size=\"14.00\" fill=\"#000000\">entropy = 0.969</text>\n<text text-anchor=\"start\" x=\"1186\" y=\"-379.8\" font-family=\"Helvetica,sans-Serif\" font-size=\"14.00\" fill=\"#000000\">samples = 1373</text>\n<text text-anchor=\"start\" x=\"1180\" y=\"-364.8\" font-family=\"Helvetica,sans-Serif\" font-size=\"14.00\" fill=\"#000000\">value = [828, 545]</text>\n<text text-anchor=\"start\" x=\"1203.5\" y=\"-349.8\" font-family=\"Helvetica,sans-Serif\" font-size=\"14.00\" fill=\"#000000\">class = No</text>\n</g>\n<!-- 28&#45;&gt;32 -->\n<g id=\"edge32\" class=\"edge\">\n<title>28&#45;&gt;32</title>\n<path fill=\"none\" stroke=\"#000000\" d=\"M1275.7144,-460.8796C1271.5443,-452.3236 1267.1091,-443.2238 1262.8003,-434.3833\"/>\n<polygon fill=\"#000000\" stroke=\"#000000\" points=\"1265.8997,-432.7538 1258.3722,-425.2981 1259.6073,-435.8207 1265.8997,-432.7538\"/>\n</g>\n<!-- 30 -->\n<g id=\"node31\" class=\"node\">\n<title>30</title>\n<path fill=\"#f2bf9b\" stroke=\"#000000\" d=\"M842,-298.5C842,-298.5 734,-298.5 734,-298.5 728,-298.5 722,-292.5 722,-286.5 722,-286.5 722,-242.5 722,-242.5 722,-236.5 728,-230.5 734,-230.5 734,-230.5 842,-230.5 842,-230.5 848,-230.5 854,-236.5 854,-242.5 854,-242.5 854,-286.5 854,-286.5 854,-292.5 848,-298.5 842,-298.5\"/>\n<text text-anchor=\"start\" x=\"737\" y=\"-283.3\" font-family=\"Helvetica,sans-Serif\" font-size=\"14.00\" fill=\"#000000\">entropy = 0.916</text>\n<text text-anchor=\"start\" x=\"740\" y=\"-268.3\" font-family=\"Helvetica,sans-Serif\" font-size=\"14.00\" fill=\"#000000\">samples = 670</text>\n<text text-anchor=\"start\" x=\"730\" y=\"-253.3\" font-family=\"Helvetica,sans-Serif\" font-size=\"14.00\" fill=\"#000000\">value = [448, 222]</text>\n<text text-anchor=\"start\" x=\"753.5\" y=\"-238.3\" font-family=\"Helvetica,sans-Serif\" font-size=\"14.00\" fill=\"#000000\">class = No</text>\n</g>\n<!-- 29&#45;&gt;30 -->\n<g id=\"edge30\" class=\"edge\">\n<title>29&#45;&gt;30</title>\n<path fill=\"none\" stroke=\"#000000\" d=\"M885.5373,-341.8796C870.5678,-330.0038 854.2778,-317.0804 839.3741,-305.2568\"/>\n<polygon fill=\"#000000\" stroke=\"#000000\" points=\"841.2635,-302.2881 831.2541,-298.8149 836.913,-307.772 841.2635,-302.2881\"/>\n</g>\n<!-- 31 -->\n<g id=\"node32\" class=\"node\">\n<title>31</title>\n<path fill=\"#f0b890\" stroke=\"#000000\" d=\"M992,-298.5C992,-298.5 884,-298.5 884,-298.5 878,-298.5 872,-292.5 872,-286.5 872,-286.5 872,-242.5 872,-242.5 872,-236.5 878,-230.5 884,-230.5 884,-230.5 992,-230.5 992,-230.5 998,-230.5 1004,-236.5 1004,-242.5 1004,-242.5 1004,-286.5 1004,-286.5 1004,-292.5 998,-298.5 992,-298.5\"/>\n<text text-anchor=\"start\" x=\"887\" y=\"-283.3\" font-family=\"Helvetica,sans-Serif\" font-size=\"14.00\" fill=\"#000000\">entropy = 0.887</text>\n<text text-anchor=\"start\" x=\"890\" y=\"-268.3\" font-family=\"Helvetica,sans-Serif\" font-size=\"14.00\" fill=\"#000000\">samples = 653</text>\n<text text-anchor=\"start\" x=\"880\" y=\"-253.3\" font-family=\"Helvetica,sans-Serif\" font-size=\"14.00\" fill=\"#000000\">value = [454, 199]</text>\n<text text-anchor=\"start\" x=\"903.5\" y=\"-238.3\" font-family=\"Helvetica,sans-Serif\" font-size=\"14.00\" fill=\"#000000\">class = No</text>\n</g>\n<!-- 29&#45;&gt;31 -->\n<g id=\"edge31\" class=\"edge\">\n<title>29&#45;&gt;31</title>\n<path fill=\"none\" stroke=\"#000000\" d=\"M938,-341.8796C938,-331.2134 938,-319.7021 938,-308.9015\"/>\n<polygon fill=\"#000000\" stroke=\"#000000\" points=\"941.5001,-308.8149 938,-298.8149 934.5001,-308.815 941.5001,-308.8149\"/>\n</g>\n<!-- 33 -->\n<g id=\"node34\" class=\"node\">\n<title>33</title>\n<path fill=\"#f7d7c0\" stroke=\"#000000\" d=\"M1142,-298.5C1142,-298.5 1034,-298.5 1034,-298.5 1028,-298.5 1022,-292.5 1022,-286.5 1022,-286.5 1022,-242.5 1022,-242.5 1022,-236.5 1028,-230.5 1034,-230.5 1034,-230.5 1142,-230.5 1142,-230.5 1148,-230.5 1154,-236.5 1154,-242.5 1154,-242.5 1154,-286.5 1154,-286.5 1154,-292.5 1148,-298.5 1142,-298.5\"/>\n<text text-anchor=\"start\" x=\"1037\" y=\"-283.3\" font-family=\"Helvetica,sans-Serif\" font-size=\"14.00\" fill=\"#000000\">entropy = 0.974</text>\n<text text-anchor=\"start\" x=\"1040\" y=\"-268.3\" font-family=\"Helvetica,sans-Serif\" font-size=\"14.00\" fill=\"#000000\">samples = 459</text>\n<text text-anchor=\"start\" x=\"1030\" y=\"-253.3\" font-family=\"Helvetica,sans-Serif\" font-size=\"14.00\" fill=\"#000000\">value = [273, 186]</text>\n<text text-anchor=\"start\" x=\"1053.5\" y=\"-238.3\" font-family=\"Helvetica,sans-Serif\" font-size=\"14.00\" fill=\"#000000\">class = No</text>\n</g>\n<!-- 32&#45;&gt;33 -->\n<g id=\"edge33\" class=\"edge\">\n<title>32&#45;&gt;33</title>\n<path fill=\"none\" stroke=\"#000000\" d=\"M1185.5373,-341.8796C1170.5678,-330.0038 1154.2778,-317.0804 1139.3741,-305.2568\"/>\n<polygon fill=\"#000000\" stroke=\"#000000\" points=\"1141.2635,-302.2881 1131.2541,-298.8149 1136.913,-307.772 1141.2635,-302.2881\"/>\n</g>\n<!-- 34 -->\n<g id=\"node35\" class=\"node\">\n<title>34</title>\n<path fill=\"#f6d3b9\" stroke=\"#000000\" d=\"M1292,-298.5C1292,-298.5 1184,-298.5 1184,-298.5 1178,-298.5 1172,-292.5 1172,-286.5 1172,-286.5 1172,-242.5 1172,-242.5 1172,-236.5 1178,-230.5 1184,-230.5 1184,-230.5 1292,-230.5 1292,-230.5 1298,-230.5 1304,-236.5 1304,-242.5 1304,-242.5 1304,-286.5 1304,-286.5 1304,-292.5 1298,-298.5 1292,-298.5\"/>\n<text text-anchor=\"start\" x=\"1187\" y=\"-283.3\" font-family=\"Helvetica,sans-Serif\" font-size=\"14.00\" fill=\"#000000\">entropy = 0.967</text>\n<text text-anchor=\"start\" x=\"1190\" y=\"-268.3\" font-family=\"Helvetica,sans-Serif\" font-size=\"14.00\" fill=\"#000000\">samples = 914</text>\n<text text-anchor=\"start\" x=\"1180\" y=\"-253.3\" font-family=\"Helvetica,sans-Serif\" font-size=\"14.00\" fill=\"#000000\">value = [555, 359]</text>\n<text text-anchor=\"start\" x=\"1203.5\" y=\"-238.3\" font-family=\"Helvetica,sans-Serif\" font-size=\"14.00\" fill=\"#000000\">class = No</text>\n</g>\n<!-- 32&#45;&gt;34 -->\n<g id=\"edge34\" class=\"edge\">\n<title>32&#45;&gt;34</title>\n<path fill=\"none\" stroke=\"#000000\" d=\"M1238,-341.8796C1238,-331.2134 1238,-319.7021 1238,-308.9015\"/>\n<polygon fill=\"#000000\" stroke=\"#000000\" points=\"1241.5001,-308.8149 1238,-298.8149 1234.5001,-308.815 1241.5001,-308.8149\"/>\n</g>\n<!-- 36 -->\n<g id=\"node37\" class=\"node\">\n<title>36</title>\n<path fill=\"#f8ddc9\" stroke=\"#000000\" d=\"M1602.5,-425C1602.5,-425 1477.5,-425 1477.5,-425 1471.5,-425 1465.5,-419 1465.5,-413 1465.5,-413 1465.5,-354 1465.5,-354 1465.5,-348 1471.5,-342 1477.5,-342 1477.5,-342 1602.5,-342 1602.5,-342 1608.5,-342 1614.5,-348 1614.5,-354 1614.5,-354 1614.5,-413 1614.5,-413 1614.5,-419 1608.5,-425 1602.5,-425\"/>\n<text text-anchor=\"start\" x=\"1492\" y=\"-409.8\" font-family=\"Helvetica,sans-Serif\" font-size=\"14.00\" fill=\"#000000\">ZoneAge ≤ 1.5</text>\n<text text-anchor=\"start\" x=\"1489\" y=\"-394.8\" font-family=\"Helvetica,sans-Serif\" font-size=\"14.00\" fill=\"#000000\">entropy = 0.982</text>\n<text text-anchor=\"start\" x=\"1488\" y=\"-379.8\" font-family=\"Helvetica,sans-Serif\" font-size=\"14.00\" fill=\"#000000\">samples = 2737</text>\n<text text-anchor=\"start\" x=\"1473.5\" y=\"-364.8\" font-family=\"Helvetica,sans-Serif\" font-size=\"14.00\" fill=\"#000000\">value = [1584, 1153]</text>\n<text text-anchor=\"start\" x=\"1505.5\" y=\"-349.8\" font-family=\"Helvetica,sans-Serif\" font-size=\"14.00\" fill=\"#000000\">class = No</text>\n</g>\n<!-- 35&#45;&gt;36 -->\n<g id=\"edge36\" class=\"edge\">\n<title>35&#45;&gt;36</title>\n<path fill=\"none\" stroke=\"#000000\" d=\"M1569.2612,-460.8796C1566.0598,-452.4136 1562.6571,-443.4153 1559.3472,-434.6626\"/>\n<polygon fill=\"#000000\" stroke=\"#000000\" points=\"1562.6169,-433.4136 1555.806,-425.2981 1556.0694,-435.8896 1562.6169,-433.4136\"/>\n</g>\n<!-- 43 -->\n<g id=\"node44\" class=\"node\">\n<title>43</title>\n<path fill=\"#ffffff\" stroke=\"#000000\" d=\"M1736,-425C1736,-425 1644,-425 1644,-425 1638,-425 1632,-419 1632,-413 1632,-413 1632,-354 1632,-354 1632,-348 1638,-342 1644,-342 1644,-342 1736,-342 1736,-342 1742,-342 1748,-348 1748,-354 1748,-354 1748,-413 1748,-413 1748,-419 1742,-425 1736,-425\"/>\n<text text-anchor=\"start\" x=\"1642\" y=\"-409.8\" font-family=\"Helvetica,sans-Serif\" font-size=\"14.00\" fill=\"#000000\">ZoneAge ≤ 2.5</text>\n<text text-anchor=\"start\" x=\"1647.5\" y=\"-394.8\" font-family=\"Helvetica,sans-Serif\" font-size=\"14.00\" fill=\"#000000\">entropy = 1.0</text>\n<text text-anchor=\"start\" x=\"1646\" y=\"-379.8\" font-family=\"Helvetica,sans-Serif\" font-size=\"14.00\" fill=\"#000000\">samples = 98</text>\n<text text-anchor=\"start\" x=\"1640\" y=\"-364.8\" font-family=\"Helvetica,sans-Serif\" font-size=\"14.00\" fill=\"#000000\">value = [49, 49]</text>\n<text text-anchor=\"start\" x=\"1655.5\" y=\"-349.8\" font-family=\"Helvetica,sans-Serif\" font-size=\"14.00\" fill=\"#000000\">class = No</text>\n</g>\n<!-- 35&#45;&gt;43 -->\n<g id=\"edge43\" class=\"edge\">\n<title>35&#45;&gt;43</title>\n<path fill=\"none\" stroke=\"#000000\" d=\"M1621.7239,-460.8796C1629.6707,-451.8733 1638.149,-442.2644 1646.3326,-432.9897\"/>\n<polygon fill=\"#000000\" stroke=\"#000000\" points=\"1649.1275,-435.1122 1653.1193,-425.2981 1643.8787,-430.4808 1649.1275,-435.1122\"/>\n</g>\n<!-- 37 -->\n<g id=\"node38\" class=\"node\">\n<title>37</title>\n<path fill=\"#f7d7c0\" stroke=\"#000000\" d=\"M1442,-298.5C1442,-298.5 1334,-298.5 1334,-298.5 1328,-298.5 1322,-292.5 1322,-286.5 1322,-286.5 1322,-242.5 1322,-242.5 1322,-236.5 1328,-230.5 1334,-230.5 1334,-230.5 1442,-230.5 1442,-230.5 1448,-230.5 1454,-236.5 1454,-242.5 1454,-242.5 1454,-286.5 1454,-286.5 1454,-292.5 1448,-298.5 1442,-298.5\"/>\n<text text-anchor=\"start\" x=\"1337\" y=\"-283.3\" font-family=\"Helvetica,sans-Serif\" font-size=\"14.00\" fill=\"#000000\">entropy = 0.974</text>\n<text text-anchor=\"start\" x=\"1340\" y=\"-268.3\" font-family=\"Helvetica,sans-Serif\" font-size=\"14.00\" fill=\"#000000\">samples = 734</text>\n<text text-anchor=\"start\" x=\"1330\" y=\"-253.3\" font-family=\"Helvetica,sans-Serif\" font-size=\"14.00\" fill=\"#000000\">value = [437, 297]</text>\n<text text-anchor=\"start\" x=\"1353.5\" y=\"-238.3\" font-family=\"Helvetica,sans-Serif\" font-size=\"14.00\" fill=\"#000000\">class = No</text>\n</g>\n<!-- 36&#45;&gt;37 -->\n<g id=\"edge37\" class=\"edge\">\n<title>36&#45;&gt;37</title>\n<path fill=\"none\" stroke=\"#000000\" d=\"M1486.8378,-341.8796C1471.6687,-330.0038 1455.1616,-317.0804 1440.0591,-305.2568\"/>\n<polygon fill=\"#000000\" stroke=\"#000000\" points=\"1441.8624,-302.2236 1431.8308,-298.8149 1437.5472,-307.7353 1441.8624,-302.2236\"/>\n</g>\n<!-- 38 -->\n<g id=\"node39\" class=\"node\">\n<title>38</title>\n<path fill=\"#f8dfcd\" stroke=\"#000000\" d=\"M1600,-306C1600,-306 1484,-306 1484,-306 1478,-306 1472,-300 1472,-294 1472,-294 1472,-235 1472,-235 1472,-229 1478,-223 1484,-223 1484,-223 1600,-223 1600,-223 1606,-223 1612,-229 1612,-235 1612,-235 1612,-294 1612,-294 1612,-300 1606,-306 1600,-306\"/>\n<text text-anchor=\"start\" x=\"1494\" y=\"-290.8\" font-family=\"Helvetica,sans-Serif\" font-size=\"14.00\" fill=\"#000000\">ZoneAge ≤ 2.5</text>\n<text text-anchor=\"start\" x=\"1491\" y=\"-275.8\" font-family=\"Helvetica,sans-Serif\" font-size=\"14.00\" fill=\"#000000\">entropy = 0.985</text>\n<text text-anchor=\"start\" x=\"1490\" y=\"-260.8\" font-family=\"Helvetica,sans-Serif\" font-size=\"14.00\" fill=\"#000000\">samples = 2003</text>\n<text text-anchor=\"start\" x=\"1480\" y=\"-245.8\" font-family=\"Helvetica,sans-Serif\" font-size=\"14.00\" fill=\"#000000\">value = [1147, 856]</text>\n<text text-anchor=\"start\" x=\"1507.5\" y=\"-230.8\" font-family=\"Helvetica,sans-Serif\" font-size=\"14.00\" fill=\"#000000\">class = No</text>\n</g>\n<!-- 36&#45;&gt;38 -->\n<g id=\"edge38\" class=\"edge\">\n<title>36&#45;&gt;38</title>\n<path fill=\"none\" stroke=\"#000000\" d=\"M1540.6995,-341.8796C1540.8372,-333.6838 1540.9834,-324.9891 1541.126,-316.5013\"/>\n<polygon fill=\"#000000\" stroke=\"#000000\" points=\"1544.6289,-316.3555 1541.2975,-306.2981 1537.6299,-316.2378 1544.6289,-316.3555\"/>\n</g>\n<!-- 39 -->\n<g id=\"node40\" class=\"node\">\n<title>39</title>\n<path fill=\"#f9e0cf\" stroke=\"#000000\" d=\"M1350,-179.5C1350,-179.5 1242,-179.5 1242,-179.5 1236,-179.5 1230,-173.5 1230,-167.5 1230,-167.5 1230,-123.5 1230,-123.5 1230,-117.5 1236,-111.5 1242,-111.5 1242,-111.5 1350,-111.5 1350,-111.5 1356,-111.5 1362,-117.5 1362,-123.5 1362,-123.5 1362,-167.5 1362,-167.5 1362,-173.5 1356,-179.5 1350,-179.5\"/>\n<text text-anchor=\"start\" x=\"1245\" y=\"-164.3\" font-family=\"Helvetica,sans-Serif\" font-size=\"14.00\" fill=\"#000000\">entropy = 0.986</text>\n<text text-anchor=\"start\" x=\"1248\" y=\"-149.3\" font-family=\"Helvetica,sans-Serif\" font-size=\"14.00\" fill=\"#000000\">samples = 643</text>\n<text text-anchor=\"start\" x=\"1238\" y=\"-134.3\" font-family=\"Helvetica,sans-Serif\" font-size=\"14.00\" fill=\"#000000\">value = [366, 277]</text>\n<text text-anchor=\"start\" x=\"1261.5\" y=\"-119.3\" font-family=\"Helvetica,sans-Serif\" font-size=\"14.00\" fill=\"#000000\">class = No</text>\n</g>\n<!-- 38&#45;&gt;39 -->\n<g id=\"edge39\" class=\"edge\">\n<title>38&#45;&gt;39</title>\n<path fill=\"none\" stroke=\"#000000\" d=\"M1471.9892,-227.2082C1468.9651,-225.7603 1465.9595,-224.3514 1463,-223 1423.0589,-204.7623 1410.7408,-205.67 1371,-187 1368.9754,-186.0489 1366.9301,-185.0664 1364.8733,-184.0594\"/>\n<polygon fill=\"#000000\" stroke=\"#000000\" points=\"1366.3189,-180.8689 1355.8116,-179.5097 1363.1779,-187.1247 1366.3189,-180.8689\"/>\n</g>\n<!-- 40 -->\n<g id=\"node41\" class=\"node\">\n<title>40</title>\n<path fill=\"#f8decc\" stroke=\"#000000\" d=\"M1500,-187C1500,-187 1392,-187 1392,-187 1386,-187 1380,-181 1380,-175 1380,-175 1380,-116 1380,-116 1380,-110 1386,-104 1392,-104 1392,-104 1500,-104 1500,-104 1506,-104 1512,-110 1512,-116 1512,-116 1512,-175 1512,-175 1512,-181 1506,-187 1500,-187\"/>\n<text text-anchor=\"start\" x=\"1398\" y=\"-171.8\" font-family=\"Helvetica,sans-Serif\" font-size=\"14.00\" fill=\"#000000\">ZoneAge ≤ 3.5</text>\n<text text-anchor=\"start\" x=\"1395\" y=\"-156.8\" font-family=\"Helvetica,sans-Serif\" font-size=\"14.00\" fill=\"#000000\">entropy = 0.984</text>\n<text text-anchor=\"start\" x=\"1394\" y=\"-141.8\" font-family=\"Helvetica,sans-Serif\" font-size=\"14.00\" fill=\"#000000\">samples = 1360</text>\n<text text-anchor=\"start\" x=\"1388\" y=\"-126.8\" font-family=\"Helvetica,sans-Serif\" font-size=\"14.00\" fill=\"#000000\">value = [781, 579]</text>\n<text text-anchor=\"start\" x=\"1411.5\" y=\"-111.8\" font-family=\"Helvetica,sans-Serif\" font-size=\"14.00\" fill=\"#000000\">class = No</text>\n</g>\n<!-- 38&#45;&gt;40 -->\n<g id=\"edge40\" class=\"edge\">\n<title>38&#45;&gt;40</title>\n<path fill=\"none\" stroke=\"#000000\" d=\"M1508.4239,-222.8796C1501.2309,-213.9633 1493.5616,-204.4565 1486.149,-195.268\"/>\n<polygon fill=\"#000000\" stroke=\"#000000\" points=\"1488.7224,-192.8836 1479.7195,-187.2981 1483.2742,-197.2788 1488.7224,-192.8836\"/>\n</g>\n<!-- 41 -->\n<g id=\"node42\" class=\"node\">\n<title>41</title>\n<path fill=\"#f8dfcd\" stroke=\"#000000\" d=\"M1425,-68C1425,-68 1317,-68 1317,-68 1311,-68 1305,-62 1305,-56 1305,-56 1305,-12 1305,-12 1305,-6 1311,0 1317,0 1317,0 1425,0 1425,0 1431,0 1437,-6 1437,-12 1437,-12 1437,-56 1437,-56 1437,-62 1431,-68 1425,-68\"/>\n<text text-anchor=\"start\" x=\"1320\" y=\"-52.8\" font-family=\"Helvetica,sans-Serif\" font-size=\"14.00\" fill=\"#000000\">entropy = 0.985</text>\n<text text-anchor=\"start\" x=\"1323\" y=\"-37.8\" font-family=\"Helvetica,sans-Serif\" font-size=\"14.00\" fill=\"#000000\">samples = 487</text>\n<text text-anchor=\"start\" x=\"1313\" y=\"-22.8\" font-family=\"Helvetica,sans-Serif\" font-size=\"14.00\" fill=\"#000000\">value = [279, 208]</text>\n<text text-anchor=\"start\" x=\"1336.5\" y=\"-7.8\" font-family=\"Helvetica,sans-Serif\" font-size=\"14.00\" fill=\"#000000\">class = No</text>\n</g>\n<!-- 40&#45;&gt;41 -->\n<g id=\"edge41\" class=\"edge\">\n<title>40&#45;&gt;41</title>\n<path fill=\"none\" stroke=\"#000000\" d=\"M1418.0728,-103.9815C1412.0762,-95.0666 1405.7296,-85.6313 1399.7041,-76.6734\"/>\n<polygon fill=\"#000000\" stroke=\"#000000\" points=\"1402.5328,-74.6078 1394.0473,-68.2637 1396.7245,-78.5147 1402.5328,-74.6078\"/>\n</g>\n<!-- 42 -->\n<g id=\"node43\" class=\"node\">\n<title>42</title>\n<path fill=\"#f8decb\" stroke=\"#000000\" d=\"M1575,-68C1575,-68 1467,-68 1467,-68 1461,-68 1455,-62 1455,-56 1455,-56 1455,-12 1455,-12 1455,-6 1461,0 1467,0 1467,0 1575,0 1575,0 1581,0 1587,-6 1587,-12 1587,-12 1587,-56 1587,-56 1587,-62 1581,-68 1575,-68\"/>\n<text text-anchor=\"start\" x=\"1470\" y=\"-52.8\" font-family=\"Helvetica,sans-Serif\" font-size=\"14.00\" fill=\"#000000\">entropy = 0.984</text>\n<text text-anchor=\"start\" x=\"1473\" y=\"-37.8\" font-family=\"Helvetica,sans-Serif\" font-size=\"14.00\" fill=\"#000000\">samples = 873</text>\n<text text-anchor=\"start\" x=\"1463\" y=\"-22.8\" font-family=\"Helvetica,sans-Serif\" font-size=\"14.00\" fill=\"#000000\">value = [502, 371]</text>\n<text text-anchor=\"start\" x=\"1486.5\" y=\"-7.8\" font-family=\"Helvetica,sans-Serif\" font-size=\"14.00\" fill=\"#000000\">class = No</text>\n</g>\n<!-- 40&#45;&gt;42 -->\n<g id=\"edge42\" class=\"edge\">\n<title>40&#45;&gt;42</title>\n<path fill=\"none\" stroke=\"#000000\" d=\"M1473.9272,-103.9815C1479.9238,-95.0666 1486.2704,-85.6313 1492.2959,-76.6734\"/>\n<polygon fill=\"#000000\" stroke=\"#000000\" points=\"1495.2755,-78.5147 1497.9527,-68.2637 1489.4672,-74.6078 1495.2755,-78.5147\"/>\n</g>\n<!-- 44 -->\n<g id=\"node45\" class=\"node\">\n<title>44</title>\n<path fill=\"#d3e9f9\" stroke=\"#000000\" d=\"M1737,-306C1737,-306 1643,-306 1643,-306 1637,-306 1631,-300 1631,-294 1631,-294 1631,-235 1631,-235 1631,-229 1637,-223 1643,-223 1643,-223 1737,-223 1737,-223 1743,-223 1749,-229 1749,-235 1749,-235 1749,-294 1749,-294 1749,-300 1743,-306 1737,-306\"/>\n<text text-anchor=\"start\" x=\"1642\" y=\"-290.8\" font-family=\"Helvetica,sans-Serif\" font-size=\"14.00\" fill=\"#000000\">ZoneAge ≤ 1.5</text>\n<text text-anchor=\"start\" x=\"1639\" y=\"-275.8\" font-family=\"Helvetica,sans-Serif\" font-size=\"14.00\" fill=\"#000000\">entropy = 0.989</text>\n<text text-anchor=\"start\" x=\"1646\" y=\"-260.8\" font-family=\"Helvetica,sans-Serif\" font-size=\"14.00\" fill=\"#000000\">samples = 48</text>\n<text text-anchor=\"start\" x=\"1640\" y=\"-245.8\" font-family=\"Helvetica,sans-Serif\" font-size=\"14.00\" fill=\"#000000\">value = [21, 27]</text>\n<text text-anchor=\"start\" x=\"1653\" y=\"-230.8\" font-family=\"Helvetica,sans-Serif\" font-size=\"14.00\" fill=\"#000000\">class = Yes</text>\n</g>\n<!-- 43&#45;&gt;44 -->\n<g id=\"edge44\" class=\"edge\">\n<title>43&#45;&gt;44</title>\n<path fill=\"none\" stroke=\"#000000\" d=\"M1690,-341.8796C1690,-333.6838 1690,-324.9891 1690,-316.5013\"/>\n<polygon fill=\"#000000\" stroke=\"#000000\" points=\"1693.5001,-316.298 1690,-306.2981 1686.5001,-316.2981 1693.5001,-316.298\"/>\n</g>\n<!-- 47 -->\n<g id=\"node48\" class=\"node\">\n<title>47</title>\n<path fill=\"#f9e4d5\" stroke=\"#000000\" d=\"M1874,-306C1874,-306 1782,-306 1782,-306 1776,-306 1770,-300 1770,-294 1770,-294 1770,-235 1770,-235 1770,-229 1776,-223 1782,-223 1782,-223 1874,-223 1874,-223 1880,-223 1886,-229 1886,-235 1886,-235 1886,-294 1886,-294 1886,-300 1880,-306 1874,-306\"/>\n<text text-anchor=\"start\" x=\"1780\" y=\"-290.8\" font-family=\"Helvetica,sans-Serif\" font-size=\"14.00\" fill=\"#000000\">ZoneAge ≤ 3.5</text>\n<text text-anchor=\"start\" x=\"1781\" y=\"-275.8\" font-family=\"Helvetica,sans-Serif\" font-size=\"14.00\" fill=\"#000000\">entropy = 0.99</text>\n<text text-anchor=\"start\" x=\"1784\" y=\"-260.8\" font-family=\"Helvetica,sans-Serif\" font-size=\"14.00\" fill=\"#000000\">samples = 50</text>\n<text text-anchor=\"start\" x=\"1778\" y=\"-245.8\" font-family=\"Helvetica,sans-Serif\" font-size=\"14.00\" fill=\"#000000\">value = [28, 22]</text>\n<text text-anchor=\"start\" x=\"1793.5\" y=\"-230.8\" font-family=\"Helvetica,sans-Serif\" font-size=\"14.00\" fill=\"#000000\">class = No</text>\n</g>\n<!-- 43&#45;&gt;47 -->\n<g id=\"edge47\" class=\"edge\">\n<title>43&#45;&gt;47</title>\n<path fill=\"none\" stroke=\"#000000\" d=\"M1738.2657,-341.8796C1749.1278,-332.513 1760.7456,-322.4948 1771.8973,-312.8784\"/>\n<polygon fill=\"#000000\" stroke=\"#000000\" points=\"1774.2408,-315.4792 1779.5283,-306.2981 1769.6694,-310.178 1774.2408,-315.4792\"/>\n</g>\n<!-- 45 -->\n<g id=\"node46\" class=\"node\">\n<title>45</title>\n<path fill=\"#f3f9fd\" stroke=\"#000000\" d=\"M1636,-179.5C1636,-179.5 1542,-179.5 1542,-179.5 1536,-179.5 1530,-173.5 1530,-167.5 1530,-167.5 1530,-123.5 1530,-123.5 1530,-117.5 1536,-111.5 1542,-111.5 1542,-111.5 1636,-111.5 1636,-111.5 1642,-111.5 1648,-117.5 1648,-123.5 1648,-123.5 1648,-167.5 1648,-167.5 1648,-173.5 1642,-179.5 1636,-179.5\"/>\n<text text-anchor=\"start\" x=\"1538\" y=\"-164.3\" font-family=\"Helvetica,sans-Serif\" font-size=\"14.00\" fill=\"#000000\">entropy = 0.999</text>\n<text text-anchor=\"start\" x=\"1545\" y=\"-149.3\" font-family=\"Helvetica,sans-Serif\" font-size=\"14.00\" fill=\"#000000\">samples = 33</text>\n<text text-anchor=\"start\" x=\"1539\" y=\"-134.3\" font-family=\"Helvetica,sans-Serif\" font-size=\"14.00\" fill=\"#000000\">value = [16, 17]</text>\n<text text-anchor=\"start\" x=\"1552\" y=\"-119.3\" font-family=\"Helvetica,sans-Serif\" font-size=\"14.00\" fill=\"#000000\">class = Yes</text>\n</g>\n<!-- 44&#45;&gt;45 -->\n<g id=\"edge45\" class=\"edge\">\n<title>44&#45;&gt;45</title>\n<path fill=\"none\" stroke=\"#000000\" d=\"M1654.6751,-222.8796C1644.969,-211.4436 1634.4384,-199.0363 1624.7107,-187.575\"/>\n<polygon fill=\"#000000\" stroke=\"#000000\" points=\"1627.2638,-185.1743 1618.1244,-179.8149 1621.9269,-189.7039 1627.2638,-185.1743\"/>\n</g>\n<!-- 46 -->\n<g id=\"node47\" class=\"node\">\n<title>46</title>\n<path fill=\"#9ccef2\" stroke=\"#000000\" d=\"M1772,-179.5C1772,-179.5 1678,-179.5 1678,-179.5 1672,-179.5 1666,-173.5 1666,-167.5 1666,-167.5 1666,-123.5 1666,-123.5 1666,-117.5 1672,-111.5 1678,-111.5 1678,-111.5 1772,-111.5 1772,-111.5 1778,-111.5 1784,-117.5 1784,-123.5 1784,-123.5 1784,-167.5 1784,-167.5 1784,-173.5 1778,-179.5 1772,-179.5\"/>\n<text text-anchor=\"start\" x=\"1674\" y=\"-164.3\" font-family=\"Helvetica,sans-Serif\" font-size=\"14.00\" fill=\"#000000\">entropy = 0.918</text>\n<text text-anchor=\"start\" x=\"1681\" y=\"-149.3\" font-family=\"Helvetica,sans-Serif\" font-size=\"14.00\" fill=\"#000000\">samples = 15</text>\n<text text-anchor=\"start\" x=\"1679.5\" y=\"-134.3\" font-family=\"Helvetica,sans-Serif\" font-size=\"14.00\" fill=\"#000000\">value = [5, 10]</text>\n<text text-anchor=\"start\" x=\"1688\" y=\"-119.3\" font-family=\"Helvetica,sans-Serif\" font-size=\"14.00\" fill=\"#000000\">class = Yes</text>\n</g>\n<!-- 44&#45;&gt;46 -->\n<g id=\"edge46\" class=\"edge\">\n<title>44&#45;&gt;46</title>\n<path fill=\"none\" stroke=\"#000000\" d=\"M1702.2413,-222.8796C1705.4108,-212.1034 1708.8339,-200.4647 1712.0389,-189.5677\"/>\n<polygon fill=\"#000000\" stroke=\"#000000\" points=\"1715.4434,-190.3962 1714.9074,-179.8149 1708.7279,-188.421 1715.4434,-190.3962\"/>\n</g>\n<!-- 48 -->\n<g id=\"node49\" class=\"node\">\n<title>48</title>\n<path fill=\"#f2c09c\" stroke=\"#000000\" d=\"M1908,-179.5C1908,-179.5 1814,-179.5 1814,-179.5 1808,-179.5 1802,-173.5 1802,-167.5 1802,-167.5 1802,-123.5 1802,-123.5 1802,-117.5 1808,-111.5 1814,-111.5 1814,-111.5 1908,-111.5 1908,-111.5 1914,-111.5 1920,-117.5 1920,-123.5 1920,-123.5 1920,-167.5 1920,-167.5 1920,-173.5 1914,-179.5 1908,-179.5\"/>\n<text text-anchor=\"start\" x=\"1810\" y=\"-164.3\" font-family=\"Helvetica,sans-Serif\" font-size=\"14.00\" fill=\"#000000\">entropy = 0.918</text>\n<text text-anchor=\"start\" x=\"1817\" y=\"-149.3\" font-family=\"Helvetica,sans-Serif\" font-size=\"14.00\" fill=\"#000000\">samples = 12</text>\n<text text-anchor=\"start\" x=\"1819.5\" y=\"-134.3\" font-family=\"Helvetica,sans-Serif\" font-size=\"14.00\" fill=\"#000000\">value = [8, 4]</text>\n<text text-anchor=\"start\" x=\"1826.5\" y=\"-119.3\" font-family=\"Helvetica,sans-Serif\" font-size=\"14.00\" fill=\"#000000\">class = No</text>\n</g>\n<!-- 47&#45;&gt;48 -->\n<g id=\"edge48\" class=\"edge\">\n<title>47&#45;&gt;48</title>\n<path fill=\"none\" stroke=\"#000000\" d=\"M1839.5418,-222.8796C1842.5301,-212.1034 1845.7577,-200.4647 1848.7795,-189.5677\"/>\n<polygon fill=\"#000000\" stroke=\"#000000\" points=\"1852.1845,-190.3866 1851.4841,-179.8149 1845.439,-188.516 1852.1845,-190.3866\"/>\n</g>\n<!-- 49 -->\n<g id=\"node50\" class=\"node\">\n<title>49</title>\n<path fill=\"#fcf2eb\" stroke=\"#000000\" d=\"M2044,-179.5C2044,-179.5 1950,-179.5 1950,-179.5 1944,-179.5 1938,-173.5 1938,-167.5 1938,-167.5 1938,-123.5 1938,-123.5 1938,-117.5 1944,-111.5 1950,-111.5 1950,-111.5 2044,-111.5 2044,-111.5 2050,-111.5 2056,-117.5 2056,-123.5 2056,-123.5 2056,-167.5 2056,-167.5 2056,-173.5 2050,-179.5 2044,-179.5\"/>\n<text text-anchor=\"start\" x=\"1946\" y=\"-164.3\" font-family=\"Helvetica,sans-Serif\" font-size=\"14.00\" fill=\"#000000\">entropy = 0.998</text>\n<text text-anchor=\"start\" x=\"1953\" y=\"-149.3\" font-family=\"Helvetica,sans-Serif\" font-size=\"14.00\" fill=\"#000000\">samples = 38</text>\n<text text-anchor=\"start\" x=\"1947\" y=\"-134.3\" font-family=\"Helvetica,sans-Serif\" font-size=\"14.00\" fill=\"#000000\">value = [20, 18]</text>\n<text text-anchor=\"start\" x=\"1962.5\" y=\"-119.3\" font-family=\"Helvetica,sans-Serif\" font-size=\"14.00\" fill=\"#000000\">class = No</text>\n</g>\n<!-- 47&#45;&gt;49 -->\n<g id=\"edge49\" class=\"edge\">\n<title>47&#45;&gt;49</title>\n<path fill=\"none\" stroke=\"#000000\" d=\"M1886.1602,-223.547C1903.6375,-211.2405 1922.7851,-197.7578 1940.1749,-185.5129\"/>\n<polygon fill=\"#000000\" stroke=\"#000000\" points=\"1942.3942,-188.2309 1948.5555,-179.6118 1938.364,-182.5075 1942.3942,-188.2309\"/>\n</g>\n<!-- 51 -->\n<g id=\"node52\" class=\"node\">\n<title>51</title>\n<path fill=\"#f0b890\" stroke=\"#000000\" d=\"M1825,-536.5C1825,-536.5 1709,-536.5 1709,-536.5 1703,-536.5 1697,-530.5 1697,-524.5 1697,-524.5 1697,-480.5 1697,-480.5 1697,-474.5 1703,-468.5 1709,-468.5 1709,-468.5 1825,-468.5 1825,-468.5 1831,-468.5 1837,-474.5 1837,-480.5 1837,-480.5 1837,-524.5 1837,-524.5 1837,-530.5 1831,-536.5 1825,-536.5\"/>\n<text text-anchor=\"start\" x=\"1716\" y=\"-521.3\" font-family=\"Helvetica,sans-Serif\" font-size=\"14.00\" fill=\"#000000\">entropy = 0.887</text>\n<text text-anchor=\"start\" x=\"1715\" y=\"-506.3\" font-family=\"Helvetica,sans-Serif\" font-size=\"14.00\" fill=\"#000000\">samples = 2494</text>\n<text text-anchor=\"start\" x=\"1705\" y=\"-491.3\" font-family=\"Helvetica,sans-Serif\" font-size=\"14.00\" fill=\"#000000\">value = [1735, 759]</text>\n<text text-anchor=\"start\" x=\"1732.5\" y=\"-476.3\" font-family=\"Helvetica,sans-Serif\" font-size=\"14.00\" fill=\"#000000\">class = No</text>\n</g>\n<!-- 50&#45;&gt;51 -->\n<g id=\"edge51\" class=\"edge\">\n<title>50&#45;&gt;51</title>\n<path fill=\"none\" stroke=\"#000000\" d=\"M1826.1726,-579.8796C1817.5116,-568.5536 1808.1219,-556.2748 1799.428,-544.9058\"/>\n<polygon fill=\"#000000\" stroke=\"#000000\" points=\"1802.0956,-542.6324 1793.2408,-536.8149 1796.5351,-546.8846 1802.0956,-542.6324\"/>\n</g>\n<!-- 52 -->\n<g id=\"node53\" class=\"node\">\n<title>52</title>\n<path fill=\"#f3c7a7\" stroke=\"#000000\" d=\"M2015,-544C2015,-544 1867,-544 1867,-544 1861,-544 1855,-538 1855,-532 1855,-532 1855,-473 1855,-473 1855,-467 1861,-461 1867,-461 1867,-461 2015,-461 2015,-461 2021,-461 2027,-467 2027,-473 2027,-473 2027,-532 2027,-532 2027,-538 2021,-544 2015,-544\"/>\n<text text-anchor=\"start\" x=\"1863\" y=\"-528.8\" font-family=\"Helvetica,sans-Serif\" font-size=\"14.00\" fill=\"#000000\">ZoneAwaitingTime ≤ 3.5</text>\n<text text-anchor=\"start\" x=\"1890\" y=\"-513.8\" font-family=\"Helvetica,sans-Serif\" font-size=\"14.00\" fill=\"#000000\">entropy = 0.941</text>\n<text text-anchor=\"start\" x=\"1889\" y=\"-498.8\" font-family=\"Helvetica,sans-Serif\" font-size=\"14.00\" fill=\"#000000\">samples = 2845</text>\n<text text-anchor=\"start\" x=\"1874.5\" y=\"-483.8\" font-family=\"Helvetica,sans-Serif\" font-size=\"14.00\" fill=\"#000000\">value = [1827, 1018]</text>\n<text text-anchor=\"start\" x=\"1906.5\" y=\"-468.8\" font-family=\"Helvetica,sans-Serif\" font-size=\"14.00\" fill=\"#000000\">class = No</text>\n</g>\n<!-- 50&#45;&gt;52 -->\n<g id=\"edge52\" class=\"edge\">\n<title>50&#45;&gt;52</title>\n<path fill=\"none\" stroke=\"#000000\" d=\"M1887.0294,-579.8796C1893.1855,-571.0534 1899.7451,-561.6485 1906.0936,-552.5466\"/>\n<polygon fill=\"#000000\" stroke=\"#000000\" points=\"1908.9967,-554.5024 1911.8467,-544.2981 1903.2552,-550.4978 1908.9967,-554.5024\"/>\n</g>\n<!-- 53 -->\n<g id=\"node54\" class=\"node\">\n<title>53</title>\n<path fill=\"#f4c9aa\" stroke=\"#000000\" d=\"M1894,-417.5C1894,-417.5 1778,-417.5 1778,-417.5 1772,-417.5 1766,-411.5 1766,-405.5 1766,-405.5 1766,-361.5 1766,-361.5 1766,-355.5 1772,-349.5 1778,-349.5 1778,-349.5 1894,-349.5 1894,-349.5 1900,-349.5 1906,-355.5 1906,-361.5 1906,-361.5 1906,-405.5 1906,-405.5 1906,-411.5 1900,-417.5 1894,-417.5\"/>\n<text text-anchor=\"start\" x=\"1785\" y=\"-402.3\" font-family=\"Helvetica,sans-Serif\" font-size=\"14.00\" fill=\"#000000\">entropy = 0.946</text>\n<text text-anchor=\"start\" x=\"1784\" y=\"-387.3\" font-family=\"Helvetica,sans-Serif\" font-size=\"14.00\" fill=\"#000000\">samples = 2631</text>\n<text text-anchor=\"start\" x=\"1774\" y=\"-372.3\" font-family=\"Helvetica,sans-Serif\" font-size=\"14.00\" fill=\"#000000\">value = [1674, 957]</text>\n<text text-anchor=\"start\" x=\"1801.5\" y=\"-357.3\" font-family=\"Helvetica,sans-Serif\" font-size=\"14.00\" fill=\"#000000\">class = No</text>\n</g>\n<!-- 52&#45;&gt;53 -->\n<g id=\"edge53\" class=\"edge\">\n<title>52&#45;&gt;53</title>\n<path fill=\"none\" stroke=\"#000000\" d=\"M1904.2761,-460.8796C1894.1856,-449.4436 1883.2379,-437.0363 1873.125,-425.575\"/>\n<polygon fill=\"#000000\" stroke=\"#000000\" points=\"1875.5186,-422.9977 1866.2779,-417.8149 1870.2697,-427.629 1875.5186,-422.9977\"/>\n</g>\n<!-- 54 -->\n<g id=\"node55\" class=\"node\">\n<title>54</title>\n<path fill=\"#efb388\" stroke=\"#000000\" d=\"M2036,-417.5C2036,-417.5 1936,-417.5 1936,-417.5 1930,-417.5 1924,-411.5 1924,-405.5 1924,-405.5 1924,-361.5 1924,-361.5 1924,-355.5 1930,-349.5 1936,-349.5 1936,-349.5 2036,-349.5 2036,-349.5 2042,-349.5 2048,-355.5 2048,-361.5 2048,-361.5 2048,-405.5 2048,-405.5 2048,-411.5 2042,-417.5 2036,-417.5\"/>\n<text text-anchor=\"start\" x=\"1935\" y=\"-402.3\" font-family=\"Helvetica,sans-Serif\" font-size=\"14.00\" fill=\"#000000\">entropy = 0.862</text>\n<text text-anchor=\"start\" x=\"1938\" y=\"-387.3\" font-family=\"Helvetica,sans-Serif\" font-size=\"14.00\" fill=\"#000000\">samples = 214</text>\n<text text-anchor=\"start\" x=\"1932\" y=\"-372.3\" font-family=\"Helvetica,sans-Serif\" font-size=\"14.00\" fill=\"#000000\">value = [153, 61]</text>\n<text text-anchor=\"start\" x=\"1951.5\" y=\"-357.3\" font-family=\"Helvetica,sans-Serif\" font-size=\"14.00\" fill=\"#000000\">class = No</text>\n</g>\n<!-- 52&#45;&gt;54 -->\n<g id=\"edge54\" class=\"edge\">\n<title>52&#45;&gt;54</title>\n<path fill=\"none\" stroke=\"#000000\" d=\"M1956.7388,-460.8796C1960.8554,-449.9935 1965.3049,-438.227 1969.4618,-427.2344\"/>\n<polygon fill=\"#000000\" stroke=\"#000000\" points=\"1972.7604,-428.4065 1973.0238,-417.8149 1966.2129,-425.9305 1972.7604,-428.4065\"/>\n</g>\n<!-- 56 -->\n<g id=\"node57\" class=\"node\">\n<title>56</title>\n<path fill=\"#f2bf9a\" stroke=\"#000000\" d=\"M2557.5,-663C2557.5,-663 2432.5,-663 2432.5,-663 2426.5,-663 2420.5,-657 2420.5,-651 2420.5,-651 2420.5,-592 2420.5,-592 2420.5,-586 2426.5,-580 2432.5,-580 2432.5,-580 2557.5,-580 2557.5,-580 2563.5,-580 2569.5,-586 2569.5,-592 2569.5,-592 2569.5,-651 2569.5,-651 2569.5,-657 2563.5,-663 2557.5,-663\"/>\n<text text-anchor=\"start\" x=\"2447\" y=\"-647.8\" font-family=\"Helvetica,sans-Serif\" font-size=\"14.00\" fill=\"#000000\">ZoneAge ≤ 2.5</text>\n<text text-anchor=\"start\" x=\"2444\" y=\"-632.8\" font-family=\"Helvetica,sans-Serif\" font-size=\"14.00\" fill=\"#000000\">entropy = 0.914</text>\n<text text-anchor=\"start\" x=\"2443\" y=\"-617.8\" font-family=\"Helvetica,sans-Serif\" font-size=\"14.00\" fill=\"#000000\">samples = 8251</text>\n<text text-anchor=\"start\" x=\"2428.5\" y=\"-602.8\" font-family=\"Helvetica,sans-Serif\" font-size=\"14.00\" fill=\"#000000\">value = [5532, 2719]</text>\n<text text-anchor=\"start\" x=\"2460.5\" y=\"-587.8\" font-family=\"Helvetica,sans-Serif\" font-size=\"14.00\" fill=\"#000000\">class = No</text>\n</g>\n<!-- 55&#45;&gt;56 -->\n<g id=\"edge56\" class=\"edge\">\n<title>55&#45;&gt;56</title>\n<path fill=\"none\" stroke=\"#000000\" d=\"M2495,-698.8796C2495,-690.6838 2495,-681.9891 2495,-673.5013\"/>\n<polygon fill=\"#000000\" stroke=\"#000000\" points=\"2498.5001,-673.298 2495,-663.2981 2491.5001,-673.2981 2498.5001,-673.298\"/>\n</g>\n<!-- 79 -->\n<g id=\"node80\" class=\"node\">\n<title>79</title>\n<path fill=\"#efb286\" stroke=\"#000000\" d=\"M2884,-663C2884,-663 2736,-663 2736,-663 2730,-663 2724,-657 2724,-651 2724,-651 2724,-592 2724,-592 2724,-586 2730,-580 2736,-580 2736,-580 2884,-580 2884,-580 2890,-580 2896,-586 2896,-592 2896,-592 2896,-651 2896,-651 2896,-657 2890,-663 2884,-663\"/>\n<text text-anchor=\"start\" x=\"2732\" y=\"-647.8\" font-family=\"Helvetica,sans-Serif\" font-size=\"14.00\" fill=\"#000000\">ZoneAwaitingTime ≤ 2.5</text>\n<text text-anchor=\"start\" x=\"2759\" y=\"-632.8\" font-family=\"Helvetica,sans-Serif\" font-size=\"14.00\" fill=\"#000000\">entropy = 0.857</text>\n<text text-anchor=\"start\" x=\"2758\" y=\"-617.8\" font-family=\"Helvetica,sans-Serif\" font-size=\"14.00\" fill=\"#000000\">samples = 8664</text>\n<text text-anchor=\"start\" x=\"2743.5\" y=\"-602.8\" font-family=\"Helvetica,sans-Serif\" font-size=\"14.00\" fill=\"#000000\">value = [6228, 2436]</text>\n<text text-anchor=\"start\" x=\"2775.5\" y=\"-587.8\" font-family=\"Helvetica,sans-Serif\" font-size=\"14.00\" fill=\"#000000\">class = No</text>\n</g>\n<!-- 55&#45;&gt;79 -->\n<g id=\"edge79\" class=\"edge\">\n<title>55&#45;&gt;79</title>\n<path fill=\"none\" stroke=\"#000000\" d=\"M2573.6752,-710.7782C2616.2921,-694.6786 2669.283,-674.6598 2714.2794,-657.6611\"/>\n<polygon fill=\"#000000\" stroke=\"#000000\" points=\"2715.6354,-660.8903 2723.7532,-654.0821 2713.1616,-654.342 2715.6354,-660.8903\"/>\n</g>\n<!-- 57 -->\n<g id=\"node58\" class=\"node\">\n<title>57</title>\n<path fill=\"#f0b68c\" stroke=\"#000000\" d=\"M2432,-544C2432,-544 2284,-544 2284,-544 2278,-544 2272,-538 2272,-532 2272,-532 2272,-473 2272,-473 2272,-467 2278,-461 2284,-461 2284,-461 2432,-461 2432,-461 2438,-461 2444,-467 2444,-473 2444,-473 2444,-532 2444,-532 2444,-538 2438,-544 2432,-544\"/>\n<text text-anchor=\"start\" x=\"2280\" y=\"-528.8\" font-family=\"Helvetica,sans-Serif\" font-size=\"14.00\" fill=\"#000000\">ZoneAwaitingTime ≤ 2.5</text>\n<text text-anchor=\"start\" x=\"2307\" y=\"-513.8\" font-family=\"Helvetica,sans-Serif\" font-size=\"14.00\" fill=\"#000000\">entropy = 0.875</text>\n<text text-anchor=\"start\" x=\"2306\" y=\"-498.8\" font-family=\"Helvetica,sans-Serif\" font-size=\"14.00\" fill=\"#000000\">samples = 3757</text>\n<text text-anchor=\"start\" x=\"2291.5\" y=\"-483.8\" font-family=\"Helvetica,sans-Serif\" font-size=\"14.00\" fill=\"#000000\">value = [2648, 1109]</text>\n<text text-anchor=\"start\" x=\"2323.5\" y=\"-468.8\" font-family=\"Helvetica,sans-Serif\" font-size=\"14.00\" fill=\"#000000\">class = No</text>\n</g>\n<!-- 56&#45;&gt;57 -->\n<g id=\"edge57\" class=\"edge\">\n<title>56&#45;&gt;57</title>\n<path fill=\"none\" stroke=\"#000000\" d=\"M2447.084,-579.8796C2436.3007,-570.513 2424.7671,-560.4948 2413.6961,-550.8784\"/>\n<polygon fill=\"#000000\" stroke=\"#000000\" points=\"2415.9653,-548.2134 2406.1205,-544.2981 2411.3749,-553.4982 2415.9653,-548.2134\"/>\n</g>\n<!-- 68 -->\n<g id=\"node69\" class=\"node\">\n<title>68</title>\n<path fill=\"#f4c7a8\" stroke=\"#000000\" d=\"M2705,-544C2705,-544 2557,-544 2557,-544 2551,-544 2545,-538 2545,-532 2545,-532 2545,-473 2545,-473 2545,-467 2551,-461 2557,-461 2557,-461 2705,-461 2705,-461 2711,-461 2717,-467 2717,-473 2717,-473 2717,-532 2717,-532 2717,-538 2711,-544 2705,-544\"/>\n<text text-anchor=\"start\" x=\"2553\" y=\"-528.8\" font-family=\"Helvetica,sans-Serif\" font-size=\"14.00\" fill=\"#000000\">ZoneAwaitingTime ≤ 2.5</text>\n<text text-anchor=\"start\" x=\"2580\" y=\"-513.8\" font-family=\"Helvetica,sans-Serif\" font-size=\"14.00\" fill=\"#000000\">entropy = 0.941</text>\n<text text-anchor=\"start\" x=\"2579\" y=\"-498.8\" font-family=\"Helvetica,sans-Serif\" font-size=\"14.00\" fill=\"#000000\">samples = 4494</text>\n<text text-anchor=\"start\" x=\"2564.5\" y=\"-483.8\" font-family=\"Helvetica,sans-Serif\" font-size=\"14.00\" fill=\"#000000\">value = [2884, 1610]</text>\n<text text-anchor=\"start\" x=\"2596.5\" y=\"-468.8\" font-family=\"Helvetica,sans-Serif\" font-size=\"14.00\" fill=\"#000000\">class = No</text>\n</g>\n<!-- 56&#45;&gt;68 -->\n<g id=\"edge68\" class=\"edge\">\n<title>56&#45;&gt;68</title>\n<path fill=\"none\" stroke=\"#000000\" d=\"M2542.5662,-579.8796C2553.1679,-570.6031 2564.5002,-560.6874 2575.3933,-551.1559\"/>\n<polygon fill=\"#000000\" stroke=\"#000000\" points=\"2578.0098,-553.5172 2583.2308,-544.2981 2573.4002,-548.2491 2578.0098,-553.5172\"/>\n</g>\n<!-- 58 -->\n<g id=\"node59\" class=\"node\">\n<title>58</title>\n<path fill=\"#efb083\" stroke=\"#000000\" d=\"M2194,-425C2194,-425 2078,-425 2078,-425 2072,-425 2066,-419 2066,-413 2066,-413 2066,-354 2066,-354 2066,-348 2072,-342 2078,-342 2078,-342 2194,-342 2194,-342 2200,-342 2206,-348 2206,-354 2206,-354 2206,-413 2206,-413 2206,-419 2200,-425 2194,-425\"/>\n<text text-anchor=\"start\" x=\"2088\" y=\"-409.8\" font-family=\"Helvetica,sans-Serif\" font-size=\"14.00\" fill=\"#000000\">ZoneAge ≤ 1.5</text>\n<text text-anchor=\"start\" x=\"2085\" y=\"-394.8\" font-family=\"Helvetica,sans-Serif\" font-size=\"14.00\" fill=\"#000000\">entropy = 0.845</text>\n<text text-anchor=\"start\" x=\"2084\" y=\"-379.8\" font-family=\"Helvetica,sans-Serif\" font-size=\"14.00\" fill=\"#000000\">samples = 1626</text>\n<text text-anchor=\"start\" x=\"2074\" y=\"-364.8\" font-family=\"Helvetica,sans-Serif\" font-size=\"14.00\" fill=\"#000000\">value = [1183, 443]</text>\n<text text-anchor=\"start\" x=\"2101.5\" y=\"-349.8\" font-family=\"Helvetica,sans-Serif\" font-size=\"14.00\" fill=\"#000000\">class = No</text>\n</g>\n<!-- 57&#45;&gt;58 -->\n<g id=\"edge58\" class=\"edge\">\n<title>57&#45;&gt;58</title>\n<path fill=\"none\" stroke=\"#000000\" d=\"M2280.3552,-460.8796C2259.2397,-449.5609 2236.349,-437.2907 2215.1513,-425.9279\"/>\n<polygon fill=\"#000000\" stroke=\"#000000\" points=\"2216.6475,-422.7589 2206.1803,-421.1192 2213.3403,-428.9284 2216.6475,-422.7589\"/>\n</g>\n<!-- 61 -->\n<g id=\"node62\" class=\"node\">\n<title>61</title>\n<path fill=\"#f1ba93\" stroke=\"#000000\" d=\"M2416,-425C2416,-425 2300,-425 2300,-425 2294,-425 2288,-419 2288,-413 2288,-413 2288,-354 2288,-354 2288,-348 2294,-342 2300,-342 2300,-342 2416,-342 2416,-342 2422,-342 2428,-348 2428,-354 2428,-354 2428,-413 2428,-413 2428,-419 2422,-425 2416,-425\"/>\n<text text-anchor=\"start\" x=\"2310\" y=\"-409.8\" font-family=\"Helvetica,sans-Serif\" font-size=\"14.00\" fill=\"#000000\">ZoneAge ≤ 1.5</text>\n<text text-anchor=\"start\" x=\"2307\" y=\"-394.8\" font-family=\"Helvetica,sans-Serif\" font-size=\"14.00\" fill=\"#000000\">entropy = 0.896</text>\n<text text-anchor=\"start\" x=\"2306\" y=\"-379.8\" font-family=\"Helvetica,sans-Serif\" font-size=\"14.00\" fill=\"#000000\">samples = 2131</text>\n<text text-anchor=\"start\" x=\"2296\" y=\"-364.8\" font-family=\"Helvetica,sans-Serif\" font-size=\"14.00\" fill=\"#000000\">value = [1465, 666]</text>\n<text text-anchor=\"start\" x=\"2323.5\" y=\"-349.8\" font-family=\"Helvetica,sans-Serif\" font-size=\"14.00\" fill=\"#000000\">class = No</text>\n</g>\n<!-- 57&#45;&gt;61 -->\n<g id=\"edge61\" class=\"edge\">\n<title>57&#45;&gt;61</title>\n<path fill=\"none\" stroke=\"#000000\" d=\"M2358,-460.8796C2358,-452.6838 2358,-443.9891 2358,-435.5013\"/>\n<polygon fill=\"#000000\" stroke=\"#000000\" points=\"2361.5001,-435.298 2358,-425.2981 2354.5001,-435.2981 2361.5001,-435.298\"/>\n</g>\n<!-- 59 -->\n<g id=\"node60\" class=\"node\">\n<title>59</title>\n<path fill=\"#efb489\" stroke=\"#000000\" d=\"M2024,-298.5C2024,-298.5 1916,-298.5 1916,-298.5 1910,-298.5 1904,-292.5 1904,-286.5 1904,-286.5 1904,-242.5 1904,-242.5 1904,-236.5 1910,-230.5 1916,-230.5 1916,-230.5 2024,-230.5 2024,-230.5 2030,-230.5 2036,-236.5 2036,-242.5 2036,-242.5 2036,-286.5 2036,-286.5 2036,-292.5 2030,-298.5 2024,-298.5\"/>\n<text text-anchor=\"start\" x=\"1919\" y=\"-283.3\" font-family=\"Helvetica,sans-Serif\" font-size=\"14.00\" fill=\"#000000\">entropy = 0.865</text>\n<text text-anchor=\"start\" x=\"1922\" y=\"-268.3\" font-family=\"Helvetica,sans-Serif\" font-size=\"14.00\" fill=\"#000000\">samples = 766</text>\n<text text-anchor=\"start\" x=\"1912\" y=\"-253.3\" font-family=\"Helvetica,sans-Serif\" font-size=\"14.00\" fill=\"#000000\">value = [546, 220]</text>\n<text text-anchor=\"start\" x=\"1935.5\" y=\"-238.3\" font-family=\"Helvetica,sans-Serif\" font-size=\"14.00\" fill=\"#000000\">class = No</text>\n</g>\n<!-- 58&#45;&gt;59 -->\n<g id=\"edge59\" class=\"edge\">\n<title>58&#45;&gt;59</title>\n<path fill=\"none\" stroke=\"#000000\" d=\"M2077.9413,-341.8796C2061.142,-329.8368 2042.8401,-316.7167 2026.159,-304.7586\"/>\n<polygon fill=\"#000000\" stroke=\"#000000\" points=\"2027.7668,-301.6047 2017.6002,-298.623 2023.6884,-307.2939 2027.7668,-301.6047\"/>\n</g>\n<!-- 60 -->\n<g id=\"node61\" class=\"node\">\n<title>60</title>\n<path fill=\"#eead7e\" stroke=\"#000000\" d=\"M2174,-298.5C2174,-298.5 2066,-298.5 2066,-298.5 2060,-298.5 2054,-292.5 2054,-286.5 2054,-286.5 2054,-242.5 2054,-242.5 2054,-236.5 2060,-230.5 2066,-230.5 2066,-230.5 2174,-230.5 2174,-230.5 2180,-230.5 2186,-236.5 2186,-242.5 2186,-242.5 2186,-286.5 2186,-286.5 2186,-292.5 2180,-298.5 2174,-298.5\"/>\n<text text-anchor=\"start\" x=\"2069\" y=\"-283.3\" font-family=\"Helvetica,sans-Serif\" font-size=\"14.00\" fill=\"#000000\">entropy = 0.826</text>\n<text text-anchor=\"start\" x=\"2072\" y=\"-268.3\" font-family=\"Helvetica,sans-Serif\" font-size=\"14.00\" fill=\"#000000\">samples = 860</text>\n<text text-anchor=\"start\" x=\"2062\" y=\"-253.3\" font-family=\"Helvetica,sans-Serif\" font-size=\"14.00\" fill=\"#000000\">value = [637, 223]</text>\n<text text-anchor=\"start\" x=\"2085.5\" y=\"-238.3\" font-family=\"Helvetica,sans-Serif\" font-size=\"14.00\" fill=\"#000000\">class = No</text>\n</g>\n<!-- 58&#45;&gt;60 -->\n<g id=\"edge60\" class=\"edge\">\n<title>58&#45;&gt;60</title>\n<path fill=\"none\" stroke=\"#000000\" d=\"M2130.404,-341.8796C2128.9699,-331.2134 2127.4221,-319.7021 2125.97,-308.9015\"/>\n<polygon fill=\"#000000\" stroke=\"#000000\" points=\"2129.4152,-308.2593 2124.6138,-298.8149 2122.4776,-309.1922 2129.4152,-308.2593\"/>\n</g>\n<!-- 62 -->\n<g id=\"node63\" class=\"node\">\n<title>62</title>\n<path fill=\"#f1b991\" stroke=\"#000000\" d=\"M2364,-306C2364,-306 2216,-306 2216,-306 2210,-306 2204,-300 2204,-294 2204,-294 2204,-235 2204,-235 2204,-229 2210,-223 2216,-223 2216,-223 2364,-223 2364,-223 2370,-223 2376,-229 2376,-235 2376,-235 2376,-294 2376,-294 2376,-300 2370,-306 2364,-306\"/>\n<text text-anchor=\"start\" x=\"2212\" y=\"-290.8\" font-family=\"Helvetica,sans-Serif\" font-size=\"14.00\" fill=\"#000000\">ZoneAwaitingTime ≤ 3.5</text>\n<text text-anchor=\"start\" x=\"2243\" y=\"-275.8\" font-family=\"Helvetica,sans-Serif\" font-size=\"14.00\" fill=\"#000000\">entropy = 0.89</text>\n<text text-anchor=\"start\" x=\"2238\" y=\"-260.8\" font-family=\"Helvetica,sans-Serif\" font-size=\"14.00\" fill=\"#000000\">samples = 1185</text>\n<text text-anchor=\"start\" x=\"2232\" y=\"-245.8\" font-family=\"Helvetica,sans-Serif\" font-size=\"14.00\" fill=\"#000000\">value = [821, 364]</text>\n<text text-anchor=\"start\" x=\"2255.5\" y=\"-230.8\" font-family=\"Helvetica,sans-Serif\" font-size=\"14.00\" fill=\"#000000\">class = No</text>\n</g>\n<!-- 61&#45;&gt;62 -->\n<g id=\"edge62\" class=\"edge\">\n<title>61&#45;&gt;62</title>\n<path fill=\"none\" stroke=\"#000000\" d=\"M2334.2169,-341.8796C2329.2763,-333.2335 2324.0184,-324.0322 2318.9167,-315.1042\"/>\n<polygon fill=\"#000000\" stroke=\"#000000\" points=\"2321.8849,-313.244 2313.8846,-306.2981 2315.8072,-316.717 2321.8849,-313.244\"/>\n</g>\n<!-- 65 -->\n<g id=\"node66\" class=\"node\">\n<title>65</title>\n<path fill=\"#f1bc96\" stroke=\"#000000\" d=\"M2554,-306C2554,-306 2406,-306 2406,-306 2400,-306 2394,-300 2394,-294 2394,-294 2394,-235 2394,-235 2394,-229 2400,-223 2406,-223 2406,-223 2554,-223 2554,-223 2560,-223 2566,-229 2566,-235 2566,-235 2566,-294 2566,-294 2566,-300 2560,-306 2554,-306\"/>\n<text text-anchor=\"start\" x=\"2402\" y=\"-290.8\" font-family=\"Helvetica,sans-Serif\" font-size=\"14.00\" fill=\"#000000\">ZoneAwaitingTime ≤ 3.5</text>\n<text text-anchor=\"start\" x=\"2429\" y=\"-275.8\" font-family=\"Helvetica,sans-Serif\" font-size=\"14.00\" fill=\"#000000\">entropy = 0.904</text>\n<text text-anchor=\"start\" x=\"2432\" y=\"-260.8\" font-family=\"Helvetica,sans-Serif\" font-size=\"14.00\" fill=\"#000000\">samples = 946</text>\n<text text-anchor=\"start\" x=\"2422\" y=\"-245.8\" font-family=\"Helvetica,sans-Serif\" font-size=\"14.00\" fill=\"#000000\">value = [644, 302]</text>\n<text text-anchor=\"start\" x=\"2445.5\" y=\"-230.8\" font-family=\"Helvetica,sans-Serif\" font-size=\"14.00\" fill=\"#000000\">class = No</text>\n</g>\n<!-- 61&#45;&gt;65 -->\n<g id=\"edge65\" class=\"edge\">\n<title>61&#45;&gt;65</title>\n<path fill=\"none\" stroke=\"#000000\" d=\"M2400.6697,-341.8796C2410.0877,-332.6931 2420.1484,-322.8798 2429.8328,-313.4336\"/>\n<polygon fill=\"#000000\" stroke=\"#000000\" points=\"2432.4335,-315.7861 2437.1482,-306.2981 2427.5457,-310.7751 2432.4335,-315.7861\"/>\n</g>\n<!-- 63 -->\n<g id=\"node64\" class=\"node\">\n<title>63</title>\n<path fill=\"#f1b992\" stroke=\"#000000\" d=\"M2213,-179.5C2213,-179.5 2105,-179.5 2105,-179.5 2099,-179.5 2093,-173.5 2093,-167.5 2093,-167.5 2093,-123.5 2093,-123.5 2093,-117.5 2099,-111.5 2105,-111.5 2105,-111.5 2213,-111.5 2213,-111.5 2219,-111.5 2225,-117.5 2225,-123.5 2225,-123.5 2225,-167.5 2225,-167.5 2225,-173.5 2219,-179.5 2213,-179.5\"/>\n<text text-anchor=\"start\" x=\"2108\" y=\"-164.3\" font-family=\"Helvetica,sans-Serif\" font-size=\"14.00\" fill=\"#000000\">entropy = 0.892</text>\n<text text-anchor=\"start\" x=\"2107\" y=\"-149.3\" font-family=\"Helvetica,sans-Serif\" font-size=\"14.00\" fill=\"#000000\">samples = 1125</text>\n<text text-anchor=\"start\" x=\"2101\" y=\"-134.3\" font-family=\"Helvetica,sans-Serif\" font-size=\"14.00\" fill=\"#000000\">value = [777, 348]</text>\n<text text-anchor=\"start\" x=\"2124.5\" y=\"-119.3\" font-family=\"Helvetica,sans-Serif\" font-size=\"14.00\" fill=\"#000000\">class = No</text>\n</g>\n<!-- 62&#45;&gt;63 -->\n<g id=\"edge63\" class=\"edge\">\n<title>62&#45;&gt;63</title>\n<path fill=\"none\" stroke=\"#000000\" d=\"M2244.1826,-222.8796C2231.2303,-211.1138 2217.146,-198.3197 2204.2286,-186.5855\"/>\n<polygon fill=\"#000000\" stroke=\"#000000\" points=\"2206.5306,-183.9482 2196.7753,-179.8149 2201.8239,-189.1296 2206.5306,-183.9482\"/>\n</g>\n<!-- 64 -->\n<g id=\"node65\" class=\"node\">\n<title>64</title>\n<path fill=\"#eeaf81\" stroke=\"#000000\" d=\"M2349,-179.5C2349,-179.5 2255,-179.5 2255,-179.5 2249,-179.5 2243,-173.5 2243,-167.5 2243,-167.5 2243,-123.5 2243,-123.5 2243,-117.5 2249,-111.5 2255,-111.5 2255,-111.5 2349,-111.5 2349,-111.5 2355,-111.5 2361,-117.5 2361,-123.5 2361,-123.5 2361,-167.5 2361,-167.5 2361,-173.5 2355,-179.5 2349,-179.5\"/>\n<text text-anchor=\"start\" x=\"2251\" y=\"-164.3\" font-family=\"Helvetica,sans-Serif\" font-size=\"14.00\" fill=\"#000000\">entropy = 0.837</text>\n<text text-anchor=\"start\" x=\"2258\" y=\"-149.3\" font-family=\"Helvetica,sans-Serif\" font-size=\"14.00\" fill=\"#000000\">samples = 60</text>\n<text text-anchor=\"start\" x=\"2252\" y=\"-134.3\" font-family=\"Helvetica,sans-Serif\" font-size=\"14.00\" fill=\"#000000\">value = [44, 16]</text>\n<text text-anchor=\"start\" x=\"2267.5\" y=\"-119.3\" font-family=\"Helvetica,sans-Serif\" font-size=\"14.00\" fill=\"#000000\">class = No</text>\n</g>\n<!-- 62&#45;&gt;64 -->\n<g id=\"edge64\" class=\"edge\">\n<title>62&#45;&gt;64</title>\n<path fill=\"none\" stroke=\"#000000\" d=\"M2294.197,-222.8796C2295.2726,-212.2134 2296.4334,-200.7021 2297.5225,-189.9015\"/>\n<polygon fill=\"#000000\" stroke=\"#000000\" points=\"2301.0186,-190.1157 2298.5397,-179.8149 2294.0539,-189.4133 2301.0186,-190.1157\"/>\n</g>\n<!-- 66 -->\n<g id=\"node67\" class=\"node\">\n<title>66</title>\n<path fill=\"#f1bb94\" stroke=\"#000000\" d=\"M2522,-179.5C2522,-179.5 2414,-179.5 2414,-179.5 2408,-179.5 2402,-173.5 2402,-167.5 2402,-167.5 2402,-123.5 2402,-123.5 2402,-117.5 2408,-111.5 2414,-111.5 2414,-111.5 2522,-111.5 2522,-111.5 2528,-111.5 2534,-117.5 2534,-123.5 2534,-123.5 2534,-167.5 2534,-167.5 2534,-173.5 2528,-179.5 2522,-179.5\"/>\n<text text-anchor=\"start\" x=\"2417\" y=\"-164.3\" font-family=\"Helvetica,sans-Serif\" font-size=\"14.00\" fill=\"#000000\">entropy = 0.898</text>\n<text text-anchor=\"start\" x=\"2420\" y=\"-149.3\" font-family=\"Helvetica,sans-Serif\" font-size=\"14.00\" fill=\"#000000\">samples = 914</text>\n<text text-anchor=\"start\" x=\"2410\" y=\"-134.3\" font-family=\"Helvetica,sans-Serif\" font-size=\"14.00\" fill=\"#000000\">value = [627, 287]</text>\n<text text-anchor=\"start\" x=\"2433.5\" y=\"-119.3\" font-family=\"Helvetica,sans-Serif\" font-size=\"14.00\" fill=\"#000000\">class = No</text>\n</g>\n<!-- 65&#45;&gt;66 -->\n<g id=\"edge66\" class=\"edge\">\n<title>65&#45;&gt;66</title>\n<path fill=\"none\" stroke=\"#000000\" d=\"M2475.803,-222.8796C2474.7274,-212.2134 2473.5666,-200.7021 2472.4775,-189.9015\"/>\n<polygon fill=\"#000000\" stroke=\"#000000\" points=\"2475.9461,-189.4133 2471.4603,-179.8149 2468.9814,-190.1157 2475.9461,-189.4133\"/>\n</g>\n<!-- 67 -->\n<g id=\"node68\" class=\"node\">\n<title>67</title>\n<path fill=\"#fcf0e8\" stroke=\"#000000\" d=\"M2658,-179.5C2658,-179.5 2564,-179.5 2564,-179.5 2558,-179.5 2552,-173.5 2552,-167.5 2552,-167.5 2552,-123.5 2552,-123.5 2552,-117.5 2558,-111.5 2564,-111.5 2564,-111.5 2658,-111.5 2658,-111.5 2664,-111.5 2670,-117.5 2670,-123.5 2670,-123.5 2670,-167.5 2670,-167.5 2670,-173.5 2664,-179.5 2658,-179.5\"/>\n<text text-anchor=\"start\" x=\"2560\" y=\"-164.3\" font-family=\"Helvetica,sans-Serif\" font-size=\"14.00\" fill=\"#000000\">entropy = 0.997</text>\n<text text-anchor=\"start\" x=\"2567\" y=\"-149.3\" font-family=\"Helvetica,sans-Serif\" font-size=\"14.00\" fill=\"#000000\">samples = 32</text>\n<text text-anchor=\"start\" x=\"2561\" y=\"-134.3\" font-family=\"Helvetica,sans-Serif\" font-size=\"14.00\" fill=\"#000000\">value = [17, 15]</text>\n<text text-anchor=\"start\" x=\"2576.5\" y=\"-119.3\" font-family=\"Helvetica,sans-Serif\" font-size=\"14.00\" fill=\"#000000\">class = No</text>\n</g>\n<!-- 65&#45;&gt;67 -->\n<g id=\"edge67\" class=\"edge\">\n<title>65&#45;&gt;67</title>\n<path fill=\"none\" stroke=\"#000000\" d=\"M2525.8174,-222.8796C2538.7697,-211.1138 2552.854,-198.3197 2565.7714,-186.5855\"/>\n<polygon fill=\"#000000\" stroke=\"#000000\" points=\"2568.1761,-189.1296 2573.2247,-179.8149 2563.4694,-183.9482 2568.1761,-189.1296\"/>\n</g>\n<!-- 69 -->\n<g id=\"node70\" class=\"node\">\n<title>69</title>\n<path fill=\"#f2c09c\" stroke=\"#000000\" d=\"M2708,-425C2708,-425 2592,-425 2592,-425 2586,-425 2580,-419 2580,-413 2580,-413 2580,-354 2580,-354 2580,-348 2586,-342 2592,-342 2592,-342 2708,-342 2708,-342 2714,-342 2720,-348 2720,-354 2720,-354 2720,-413 2720,-413 2720,-419 2714,-425 2708,-425\"/>\n<text text-anchor=\"start\" x=\"2602\" y=\"-409.8\" font-family=\"Helvetica,sans-Serif\" font-size=\"14.00\" fill=\"#000000\">ZoneAge ≤ 3.5</text>\n<text text-anchor=\"start\" x=\"2599\" y=\"-394.8\" font-family=\"Helvetica,sans-Serif\" font-size=\"14.00\" fill=\"#000000\">entropy = 0.917</text>\n<text text-anchor=\"start\" x=\"2598\" y=\"-379.8\" font-family=\"Helvetica,sans-Serif\" font-size=\"14.00\" fill=\"#000000\">samples = 2155</text>\n<text text-anchor=\"start\" x=\"2588\" y=\"-364.8\" font-family=\"Helvetica,sans-Serif\" font-size=\"14.00\" fill=\"#000000\">value = [1439, 716]</text>\n<text text-anchor=\"start\" x=\"2615.5\" y=\"-349.8\" font-family=\"Helvetica,sans-Serif\" font-size=\"14.00\" fill=\"#000000\">class = No</text>\n</g>\n<!-- 68&#45;&gt;69 -->\n<g id=\"edge69\" class=\"edge\">\n<title>68&#45;&gt;69</title>\n<path fill=\"none\" stroke=\"#000000\" d=\"M2637.6453,-460.8796C2638.9682,-452.5938 2640.3726,-443.798 2641.7419,-435.2216\"/>\n<polygon fill=\"#000000\" stroke=\"#000000\" points=\"2645.2058,-435.7249 2643.3264,-425.2981 2638.2934,-434.6211 2645.2058,-435.7249\"/>\n</g>\n<!-- 72 -->\n<g id=\"node73\" class=\"node\">\n<title>72</title>\n<path fill=\"#f5cfb3\" stroke=\"#000000\" d=\"M2884,-425C2884,-425 2768,-425 2768,-425 2762,-425 2756,-419 2756,-413 2756,-413 2756,-354 2756,-354 2756,-348 2762,-342 2768,-342 2768,-342 2884,-342 2884,-342 2890,-342 2896,-348 2896,-354 2896,-354 2896,-413 2896,-413 2896,-419 2890,-425 2884,-425\"/>\n<text text-anchor=\"start\" x=\"2778\" y=\"-409.8\" font-family=\"Helvetica,sans-Serif\" font-size=\"14.00\" fill=\"#000000\">ZoneAge ≤ 3.5</text>\n<text text-anchor=\"start\" x=\"2779\" y=\"-394.8\" font-family=\"Helvetica,sans-Serif\" font-size=\"14.00\" fill=\"#000000\">entropy = 0.96</text>\n<text text-anchor=\"start\" x=\"2774\" y=\"-379.8\" font-family=\"Helvetica,sans-Serif\" font-size=\"14.00\" fill=\"#000000\">samples = 2339</text>\n<text text-anchor=\"start\" x=\"2764\" y=\"-364.8\" font-family=\"Helvetica,sans-Serif\" font-size=\"14.00\" fill=\"#000000\">value = [1445, 894]</text>\n<text text-anchor=\"start\" x=\"2791.5\" y=\"-349.8\" font-family=\"Helvetica,sans-Serif\" font-size=\"14.00\" fill=\"#000000\">class = No</text>\n</g>\n<!-- 68&#45;&gt;72 -->\n<g id=\"edge72\" class=\"edge\">\n<title>68&#45;&gt;72</title>\n<path fill=\"none\" stroke=\"#000000\" d=\"M2699.2015,-460.8796C2715.3816,-451.0056 2732.7483,-440.4075 2749.2792,-430.3193\"/>\n<polygon fill=\"#000000\" stroke=\"#000000\" points=\"2751.1241,-433.2938 2757.837,-425.0969 2747.4777,-427.3185 2751.1241,-433.2938\"/>\n</g>\n<!-- 70 -->\n<g id=\"node71\" class=\"node\">\n<title>70</title>\n<path fill=\"#f2bf9a\" stroke=\"#000000\" d=\"M2704,-298.5C2704,-298.5 2596,-298.5 2596,-298.5 2590,-298.5 2584,-292.5 2584,-286.5 2584,-286.5 2584,-242.5 2584,-242.5 2584,-236.5 2590,-230.5 2596,-230.5 2596,-230.5 2704,-230.5 2704,-230.5 2710,-230.5 2716,-236.5 2716,-242.5 2716,-242.5 2716,-286.5 2716,-286.5 2716,-292.5 2710,-298.5 2704,-298.5\"/>\n<text text-anchor=\"start\" x=\"2599\" y=\"-283.3\" font-family=\"Helvetica,sans-Serif\" font-size=\"14.00\" fill=\"#000000\">entropy = 0.914</text>\n<text text-anchor=\"start\" x=\"2602\" y=\"-268.3\" font-family=\"Helvetica,sans-Serif\" font-size=\"14.00\" fill=\"#000000\">samples = 648</text>\n<text text-anchor=\"start\" x=\"2592\" y=\"-253.3\" font-family=\"Helvetica,sans-Serif\" font-size=\"14.00\" fill=\"#000000\">value = [435, 213]</text>\n<text text-anchor=\"start\" x=\"2615.5\" y=\"-238.3\" font-family=\"Helvetica,sans-Serif\" font-size=\"14.00\" fill=\"#000000\">class = No</text>\n</g>\n<!-- 69&#45;&gt;70 -->\n<g id=\"edge70\" class=\"edge\">\n<title>69&#45;&gt;70</title>\n<path fill=\"none\" stroke=\"#000000\" d=\"M2650,-341.8796C2650,-331.2134 2650,-319.7021 2650,-308.9015\"/>\n<polygon fill=\"#000000\" stroke=\"#000000\" points=\"2653.5001,-308.8149 2650,-298.8149 2646.5001,-308.815 2653.5001,-308.8149\"/>\n</g>\n<!-- 71 -->\n<g id=\"node72\" class=\"node\">\n<title>71</title>\n<path fill=\"#f2c09c\" stroke=\"#000000\" d=\"M2862,-298.5C2862,-298.5 2746,-298.5 2746,-298.5 2740,-298.5 2734,-292.5 2734,-286.5 2734,-286.5 2734,-242.5 2734,-242.5 2734,-236.5 2740,-230.5 2746,-230.5 2746,-230.5 2862,-230.5 2862,-230.5 2868,-230.5 2874,-236.5 2874,-242.5 2874,-242.5 2874,-286.5 2874,-286.5 2874,-292.5 2868,-298.5 2862,-298.5\"/>\n<text text-anchor=\"start\" x=\"2753\" y=\"-283.3\" font-family=\"Helvetica,sans-Serif\" font-size=\"14.00\" fill=\"#000000\">entropy = 0.919</text>\n<text text-anchor=\"start\" x=\"2752\" y=\"-268.3\" font-family=\"Helvetica,sans-Serif\" font-size=\"14.00\" fill=\"#000000\">samples = 1507</text>\n<text text-anchor=\"start\" x=\"2742\" y=\"-253.3\" font-family=\"Helvetica,sans-Serif\" font-size=\"14.00\" fill=\"#000000\">value = [1004, 503]</text>\n<text text-anchor=\"start\" x=\"2769.5\" y=\"-238.3\" font-family=\"Helvetica,sans-Serif\" font-size=\"14.00\" fill=\"#000000\">class = No</text>\n</g>\n<!-- 69&#45;&gt;71 -->\n<g id=\"edge71\" class=\"edge\">\n<title>69&#45;&gt;71</title>\n<path fill=\"none\" stroke=\"#000000\" d=\"M2703.8617,-341.8796C2719.2304,-330.0038 2735.9547,-317.0804 2751.2559,-305.2568\"/>\n<polygon fill=\"#000000\" stroke=\"#000000\" points=\"2753.8196,-307.699 2759.5924,-298.8149 2749.5395,-302.1599 2753.8196,-307.699\"/>\n</g>\n<!-- 73 -->\n<g id=\"node74\" class=\"node\">\n<title>73</title>\n<path fill=\"#f6d3ba\" stroke=\"#000000\" d=\"M3052,-306C3052,-306 2904,-306 2904,-306 2898,-306 2892,-300 2892,-294 2892,-294 2892,-235 2892,-235 2892,-229 2898,-223 2904,-223 2904,-223 3052,-223 3052,-223 3058,-223 3064,-229 3064,-235 3064,-235 3064,-294 3064,-294 3064,-300 3058,-306 3052,-306\"/>\n<text text-anchor=\"start\" x=\"2900\" y=\"-290.8\" font-family=\"Helvetica,sans-Serif\" font-size=\"14.00\" fill=\"#000000\">ZoneAwaitingTime ≤ 3.5</text>\n<text text-anchor=\"start\" x=\"2927\" y=\"-275.8\" font-family=\"Helvetica,sans-Serif\" font-size=\"14.00\" fill=\"#000000\">entropy = 0.968</text>\n<text text-anchor=\"start\" x=\"2930\" y=\"-260.8\" font-family=\"Helvetica,sans-Serif\" font-size=\"14.00\" fill=\"#000000\">samples = 715</text>\n<text text-anchor=\"start\" x=\"2920\" y=\"-245.8\" font-family=\"Helvetica,sans-Serif\" font-size=\"14.00\" fill=\"#000000\">value = [433, 282]</text>\n<text text-anchor=\"start\" x=\"2943.5\" y=\"-230.8\" font-family=\"Helvetica,sans-Serif\" font-size=\"14.00\" fill=\"#000000\">class = No</text>\n</g>\n<!-- 72&#45;&gt;73 -->\n<g id=\"edge73\" class=\"edge\">\n<title>72&#45;&gt;73</title>\n<path fill=\"none\" stroke=\"#000000\" d=\"M2879.1622,-341.8796C2891.3115,-332.368 2904.3192,-322.1843 2916.776,-312.432\"/>\n<polygon fill=\"#000000\" stroke=\"#000000\" points=\"2919.1514,-315.0173 2924.8678,-306.0969 2914.8362,-309.5055 2919.1514,-315.0173\"/>\n</g>\n<!-- 76 -->\n<g id=\"node77\" class=\"node\">\n<title>76</title>\n<path fill=\"#f5cdb1\" stroke=\"#000000\" d=\"M3242,-306C3242,-306 3094,-306 3094,-306 3088,-306 3082,-300 3082,-294 3082,-294 3082,-235 3082,-235 3082,-229 3088,-223 3094,-223 3094,-223 3242,-223 3242,-223 3248,-223 3254,-229 3254,-235 3254,-235 3254,-294 3254,-294 3254,-300 3248,-306 3242,-306\"/>\n<text text-anchor=\"start\" x=\"3090\" y=\"-290.8\" font-family=\"Helvetica,sans-Serif\" font-size=\"14.00\" fill=\"#000000\">ZoneAwaitingTime ≤ 3.5</text>\n<text text-anchor=\"start\" x=\"3117\" y=\"-275.8\" font-family=\"Helvetica,sans-Serif\" font-size=\"14.00\" fill=\"#000000\">entropy = 0.956</text>\n<text text-anchor=\"start\" x=\"3116\" y=\"-260.8\" font-family=\"Helvetica,sans-Serif\" font-size=\"14.00\" fill=\"#000000\">samples = 1624</text>\n<text text-anchor=\"start\" x=\"3106\" y=\"-245.8\" font-family=\"Helvetica,sans-Serif\" font-size=\"14.00\" fill=\"#000000\">value = [1012, 612]</text>\n<text text-anchor=\"start\" x=\"3133.5\" y=\"-230.8\" font-family=\"Helvetica,sans-Serif\" font-size=\"14.00\" fill=\"#000000\">class = No</text>\n</g>\n<!-- 72&#45;&gt;76 -->\n<g id=\"edge76\" class=\"edge\">\n<title>72&#45;&gt;76</title>\n<path fill=\"none\" stroke=\"#000000\" d=\"M2896.2009,-345.4098C2899.1462,-344.1982 2902.0866,-343.0549 2905,-342 2973.8552,-317.069 2998.3026,-328.3692 3072.0731,-306.074\"/>\n<polygon fill=\"#000000\" stroke=\"#000000\" points=\"3073.3191,-309.3515 3081.8166,-303.0235 3071.2276,-302.6712 3073.3191,-309.3515\"/>\n</g>\n<!-- 74 -->\n<g id=\"node75\" class=\"node\">\n<title>74</title>\n<path fill=\"#f6d4bb\" stroke=\"#000000\" d=\"M2901,-179.5C2901,-179.5 2793,-179.5 2793,-179.5 2787,-179.5 2781,-173.5 2781,-167.5 2781,-167.5 2781,-123.5 2781,-123.5 2781,-117.5 2787,-111.5 2793,-111.5 2793,-111.5 2901,-111.5 2901,-111.5 2907,-111.5 2913,-117.5 2913,-123.5 2913,-123.5 2913,-167.5 2913,-167.5 2913,-173.5 2907,-179.5 2901,-179.5\"/>\n<text text-anchor=\"start\" x=\"2796\" y=\"-164.3\" font-family=\"Helvetica,sans-Serif\" font-size=\"14.00\" fill=\"#000000\">entropy = 0.968</text>\n<text text-anchor=\"start\" x=\"2799\" y=\"-149.3\" font-family=\"Helvetica,sans-Serif\" font-size=\"14.00\" fill=\"#000000\">samples = 705</text>\n<text text-anchor=\"start\" x=\"2789\" y=\"-134.3\" font-family=\"Helvetica,sans-Serif\" font-size=\"14.00\" fill=\"#000000\">value = [426, 279]</text>\n<text text-anchor=\"start\" x=\"2812.5\" y=\"-119.3\" font-family=\"Helvetica,sans-Serif\" font-size=\"14.00\" fill=\"#000000\">class = No</text>\n</g>\n<!-- 73&#45;&gt;74 -->\n<g id=\"edge74\" class=\"edge\">\n<title>73&#45;&gt;74</title>\n<path fill=\"none\" stroke=\"#000000\" d=\"M2932.1826,-222.8796C2919.2303,-211.1138 2905.146,-198.3197 2892.2286,-186.5855\"/>\n<polygon fill=\"#000000\" stroke=\"#000000\" points=\"2894.5306,-183.9482 2884.7753,-179.8149 2889.8239,-189.1296 2894.5306,-183.9482\"/>\n</g>\n<!-- 75 -->\n<g id=\"node76\" class=\"node\">\n<title>75</title>\n<path fill=\"#f0b78e\" stroke=\"#000000\" d=\"M3037,-179.5C3037,-179.5 2943,-179.5 2943,-179.5 2937,-179.5 2931,-173.5 2931,-167.5 2931,-167.5 2931,-123.5 2931,-123.5 2931,-117.5 2937,-111.5 2943,-111.5 2943,-111.5 3037,-111.5 3037,-111.5 3043,-111.5 3049,-117.5 3049,-123.5 3049,-123.5 3049,-167.5 3049,-167.5 3049,-173.5 3043,-179.5 3037,-179.5\"/>\n<text text-anchor=\"start\" x=\"2939\" y=\"-164.3\" font-family=\"Helvetica,sans-Serif\" font-size=\"14.00\" fill=\"#000000\">entropy = 0.881</text>\n<text text-anchor=\"start\" x=\"2946\" y=\"-149.3\" font-family=\"Helvetica,sans-Serif\" font-size=\"14.00\" fill=\"#000000\">samples = 10</text>\n<text text-anchor=\"start\" x=\"2948.5\" y=\"-134.3\" font-family=\"Helvetica,sans-Serif\" font-size=\"14.00\" fill=\"#000000\">value = [7, 3]</text>\n<text text-anchor=\"start\" x=\"2955.5\" y=\"-119.3\" font-family=\"Helvetica,sans-Serif\" font-size=\"14.00\" fill=\"#000000\">class = No</text>\n</g>\n<!-- 73&#45;&gt;75 -->\n<g id=\"edge75\" class=\"edge\">\n<title>73&#45;&gt;75</title>\n<path fill=\"none\" stroke=\"#000000\" d=\"M2982.197,-222.8796C2983.2726,-212.2134 2984.4334,-200.7021 2985.5225,-189.9015\"/>\n<polygon fill=\"#000000\" stroke=\"#000000\" points=\"2989.0186,-190.1157 2986.5397,-179.8149 2982.0539,-189.4133 2989.0186,-190.1157\"/>\n</g>\n<!-- 77 -->\n<g id=\"node78\" class=\"node\">\n<title>77</title>\n<path fill=\"#f5ccaf\" stroke=\"#000000\" d=\"M3210,-179.5C3210,-179.5 3102,-179.5 3102,-179.5 3096,-179.5 3090,-173.5 3090,-167.5 3090,-167.5 3090,-123.5 3090,-123.5 3090,-117.5 3096,-111.5 3102,-111.5 3102,-111.5 3210,-111.5 3210,-111.5 3216,-111.5 3222,-117.5 3222,-123.5 3222,-123.5 3222,-167.5 3222,-167.5 3222,-173.5 3216,-179.5 3210,-179.5\"/>\n<text text-anchor=\"start\" x=\"3105\" y=\"-164.3\" font-family=\"Helvetica,sans-Serif\" font-size=\"14.00\" fill=\"#000000\">entropy = 0.954</text>\n<text text-anchor=\"start\" x=\"3104\" y=\"-149.3\" font-family=\"Helvetica,sans-Serif\" font-size=\"14.00\" fill=\"#000000\">samples = 1550</text>\n<text text-anchor=\"start\" x=\"3098\" y=\"-134.3\" font-family=\"Helvetica,sans-Serif\" font-size=\"14.00\" fill=\"#000000\">value = [970, 580]</text>\n<text text-anchor=\"start\" x=\"3121.5\" y=\"-119.3\" font-family=\"Helvetica,sans-Serif\" font-size=\"14.00\" fill=\"#000000\">class = No</text>\n</g>\n<!-- 76&#45;&gt;77 -->\n<g id=\"edge77\" class=\"edge\">\n<title>76&#45;&gt;77</title>\n<path fill=\"none\" stroke=\"#000000\" d=\"M3163.803,-222.8796C3162.7274,-212.2134 3161.5666,-200.7021 3160.4775,-189.9015\"/>\n<polygon fill=\"#000000\" stroke=\"#000000\" points=\"3163.9461,-189.4133 3159.4603,-179.8149 3156.9814,-190.1157 3163.9461,-189.4133\"/>\n</g>\n<!-- 78 -->\n<g id=\"node79\" class=\"node\">\n<title>78</title>\n<path fill=\"#f9e1d0\" stroke=\"#000000\" d=\"M3346,-179.5C3346,-179.5 3252,-179.5 3252,-179.5 3246,-179.5 3240,-173.5 3240,-167.5 3240,-167.5 3240,-123.5 3240,-123.5 3240,-117.5 3246,-111.5 3252,-111.5 3252,-111.5 3346,-111.5 3346,-111.5 3352,-111.5 3358,-117.5 3358,-123.5 3358,-123.5 3358,-167.5 3358,-167.5 3358,-173.5 3352,-179.5 3346,-179.5\"/>\n<text text-anchor=\"start\" x=\"3248\" y=\"-164.3\" font-family=\"Helvetica,sans-Serif\" font-size=\"14.00\" fill=\"#000000\">entropy = 0.987</text>\n<text text-anchor=\"start\" x=\"3255\" y=\"-149.3\" font-family=\"Helvetica,sans-Serif\" font-size=\"14.00\" fill=\"#000000\">samples = 74</text>\n<text text-anchor=\"start\" x=\"3249\" y=\"-134.3\" font-family=\"Helvetica,sans-Serif\" font-size=\"14.00\" fill=\"#000000\">value = [42, 32]</text>\n<text text-anchor=\"start\" x=\"3264.5\" y=\"-119.3\" font-family=\"Helvetica,sans-Serif\" font-size=\"14.00\" fill=\"#000000\">class = No</text>\n</g>\n<!-- 76&#45;&gt;78 -->\n<g id=\"edge78\" class=\"edge\">\n<title>76&#45;&gt;78</title>\n<path fill=\"none\" stroke=\"#000000\" d=\"M3213.8174,-222.8796C3226.7697,-211.1138 3240.854,-198.3197 3253.7714,-186.5855\"/>\n<polygon fill=\"#000000\" stroke=\"#000000\" points=\"3256.1761,-189.1296 3261.2247,-179.8149 3251.4694,-183.9482 3256.1761,-189.1296\"/>\n</g>\n<!-- 80 -->\n<g id=\"node81\" class=\"node\">\n<title>80</title>\n<path fill=\"#eeae7f\" stroke=\"#000000\" d=\"M2872.5,-536.5C2872.5,-536.5 2747.5,-536.5 2747.5,-536.5 2741.5,-536.5 2735.5,-530.5 2735.5,-524.5 2735.5,-524.5 2735.5,-480.5 2735.5,-480.5 2735.5,-474.5 2741.5,-468.5 2747.5,-468.5 2747.5,-468.5 2872.5,-468.5 2872.5,-468.5 2878.5,-468.5 2884.5,-474.5 2884.5,-480.5 2884.5,-480.5 2884.5,-524.5 2884.5,-524.5 2884.5,-530.5 2878.5,-536.5 2872.5,-536.5\"/>\n<text text-anchor=\"start\" x=\"2763\" y=\"-521.3\" font-family=\"Helvetica,sans-Serif\" font-size=\"14.00\" fill=\"#000000\">entropy = 0.83</text>\n<text text-anchor=\"start\" x=\"2758\" y=\"-506.3\" font-family=\"Helvetica,sans-Serif\" font-size=\"14.00\" fill=\"#000000\">samples = 4023</text>\n<text text-anchor=\"start\" x=\"2743.5\" y=\"-491.3\" font-family=\"Helvetica,sans-Serif\" font-size=\"14.00\" fill=\"#000000\">value = [2967, 1056]</text>\n<text text-anchor=\"start\" x=\"2775.5\" y=\"-476.3\" font-family=\"Helvetica,sans-Serif\" font-size=\"14.00\" fill=\"#000000\">class = No</text>\n</g>\n<!-- 79&#45;&gt;80 -->\n<g id=\"edge80\" class=\"edge\">\n<title>79&#45;&gt;80</title>\n<path fill=\"none\" stroke=\"#000000\" d=\"M2810,-579.8796C2810,-569.2134 2810,-557.7021 2810,-546.9015\"/>\n<polygon fill=\"#000000\" stroke=\"#000000\" points=\"2813.5001,-546.8149 2810,-536.8149 2806.5001,-546.815 2813.5001,-546.8149\"/>\n</g>\n<!-- 81 -->\n<g id=\"node82\" class=\"node\">\n<title>81</title>\n<path fill=\"#f0b68d\" stroke=\"#000000\" d=\"M3063,-544C3063,-544 2915,-544 2915,-544 2909,-544 2903,-538 2903,-532 2903,-532 2903,-473 2903,-473 2903,-467 2909,-461 2915,-461 2915,-461 3063,-461 3063,-461 3069,-461 3075,-467 3075,-473 3075,-473 3075,-532 3075,-532 3075,-538 3069,-544 3063,-544\"/>\n<text text-anchor=\"start\" x=\"2911\" y=\"-528.8\" font-family=\"Helvetica,sans-Serif\" font-size=\"14.00\" fill=\"#000000\">ZoneAwaitingTime ≤ 3.5</text>\n<text text-anchor=\"start\" x=\"2938\" y=\"-513.8\" font-family=\"Helvetica,sans-Serif\" font-size=\"14.00\" fill=\"#000000\">entropy = 0.878</text>\n<text text-anchor=\"start\" x=\"2937\" y=\"-498.8\" font-family=\"Helvetica,sans-Serif\" font-size=\"14.00\" fill=\"#000000\">samples = 4641</text>\n<text text-anchor=\"start\" x=\"2922.5\" y=\"-483.8\" font-family=\"Helvetica,sans-Serif\" font-size=\"14.00\" fill=\"#000000\">value = [3261, 1380]</text>\n<text text-anchor=\"start\" x=\"2954.5\" y=\"-468.8\" font-family=\"Helvetica,sans-Serif\" font-size=\"14.00\" fill=\"#000000\">class = No</text>\n</g>\n<!-- 79&#45;&gt;81 -->\n<g id=\"edge81\" class=\"edge\">\n<title>79&#45;&gt;81</title>\n<path fill=\"none\" stroke=\"#000000\" d=\"M2872.6055,-579.8796C2887.1854,-570.1868 2902.8151,-559.7961 2917.7382,-549.8752\"/>\n<polygon fill=\"#000000\" stroke=\"#000000\" points=\"2920.0399,-552.5479 2926.4298,-544.0969 2916.1645,-546.7185 2920.0399,-552.5479\"/>\n</g>\n<!-- 82 -->\n<g id=\"node83\" class=\"node\">\n<title>82</title>\n<path fill=\"#f0b88f\" stroke=\"#000000\" d=\"M3051.5,-417.5C3051.5,-417.5 2926.5,-417.5 2926.5,-417.5 2920.5,-417.5 2914.5,-411.5 2914.5,-405.5 2914.5,-405.5 2914.5,-361.5 2914.5,-361.5 2914.5,-355.5 2920.5,-349.5 2926.5,-349.5 2926.5,-349.5 3051.5,-349.5 3051.5,-349.5 3057.5,-349.5 3063.5,-355.5 3063.5,-361.5 3063.5,-361.5 3063.5,-405.5 3063.5,-405.5 3063.5,-411.5 3057.5,-417.5 3051.5,-417.5\"/>\n<text text-anchor=\"start\" x=\"2938\" y=\"-402.3\" font-family=\"Helvetica,sans-Serif\" font-size=\"14.00\" fill=\"#000000\">entropy = 0.886</text>\n<text text-anchor=\"start\" x=\"2937\" y=\"-387.3\" font-family=\"Helvetica,sans-Serif\" font-size=\"14.00\" fill=\"#000000\">samples = 4239</text>\n<text text-anchor=\"start\" x=\"2922.5\" y=\"-372.3\" font-family=\"Helvetica,sans-Serif\" font-size=\"14.00\" fill=\"#000000\">value = [2952, 1287]</text>\n<text text-anchor=\"start\" x=\"2954.5\" y=\"-357.3\" font-family=\"Helvetica,sans-Serif\" font-size=\"14.00\" fill=\"#000000\">class = No</text>\n</g>\n<!-- 81&#45;&gt;82 -->\n<g id=\"edge82\" class=\"edge\">\n<title>81&#45;&gt;82</title>\n<path fill=\"none\" stroke=\"#000000\" d=\"M2989,-460.8796C2989,-450.2134 2989,-438.7021 2989,-427.9015\"/>\n<polygon fill=\"#000000\" stroke=\"#000000\" points=\"2992.5001,-427.8149 2989,-417.8149 2985.5001,-427.815 2992.5001,-427.8149\"/>\n</g>\n<!-- 83 -->\n<g id=\"node84\" class=\"node\">\n<title>83</title>\n<path fill=\"#eda775\" stroke=\"#000000\" d=\"M3193,-417.5C3193,-417.5 3093,-417.5 3093,-417.5 3087,-417.5 3081,-411.5 3081,-405.5 3081,-405.5 3081,-361.5 3081,-361.5 3081,-355.5 3087,-349.5 3093,-349.5 3093,-349.5 3193,-349.5 3193,-349.5 3199,-349.5 3205,-355.5 3205,-361.5 3205,-361.5 3205,-405.5 3205,-405.5 3205,-411.5 3199,-417.5 3193,-417.5\"/>\n<text text-anchor=\"start\" x=\"3096\" y=\"-402.3\" font-family=\"Helvetica,sans-Serif\" font-size=\"14.00\" fill=\"#000000\">entropy = 0.78</text>\n<text text-anchor=\"start\" x=\"3095\" y=\"-387.3\" font-family=\"Helvetica,sans-Serif\" font-size=\"14.00\" fill=\"#000000\">samples = 402</text>\n<text text-anchor=\"start\" x=\"3089\" y=\"-372.3\" font-family=\"Helvetica,sans-Serif\" font-size=\"14.00\" fill=\"#000000\">value = [309, 93]</text>\n<text text-anchor=\"start\" x=\"3108.5\" y=\"-357.3\" font-family=\"Helvetica,sans-Serif\" font-size=\"14.00\" fill=\"#000000\">class = No</text>\n</g>\n<!-- 81&#45;&gt;83 -->\n<g id=\"edge83\" class=\"edge\">\n<title>81&#45;&gt;83</title>\n<path fill=\"none\" stroke=\"#000000\" d=\"M3042.8617,-460.8796C3058.2304,-449.0038 3074.9547,-436.0804 3090.2559,-424.2568\"/>\n<polygon fill=\"#000000\" stroke=\"#000000\" points=\"3092.8196,-426.699 3098.5924,-417.8149 3088.5395,-421.1599 3092.8196,-426.699\"/>\n</g>\n<!-- 85 -->\n<g id=\"node86\" class=\"node\">\n<title>85</title>\n<path fill=\"#eeab7b\" stroke=\"#000000\" d=\"M3140,-782C3140,-782 2992,-782 2992,-782 2986,-782 2980,-776 2980,-770 2980,-770 2980,-711 2980,-711 2980,-705 2986,-699 2992,-699 2992,-699 3140,-699 3140,-699 3146,-699 3152,-705 3152,-711 3152,-711 3152,-770 3152,-770 3152,-776 3146,-782 3140,-782\"/>\n<text text-anchor=\"start\" x=\"2988\" y=\"-766.8\" font-family=\"Helvetica,sans-Serif\" font-size=\"14.00\" fill=\"#000000\">ZoneAwaitingTime ≤ 2.5</text>\n<text text-anchor=\"start\" x=\"3015\" y=\"-751.8\" font-family=\"Helvetica,sans-Serif\" font-size=\"14.00\" fill=\"#000000\">entropy = 0.812</text>\n<text text-anchor=\"start\" x=\"3014\" y=\"-736.8\" font-family=\"Helvetica,sans-Serif\" font-size=\"14.00\" fill=\"#000000\">samples = 2514</text>\n<text text-anchor=\"start\" x=\"3004\" y=\"-721.8\" font-family=\"Helvetica,sans-Serif\" font-size=\"14.00\" fill=\"#000000\">value = [1885, 629]</text>\n<text text-anchor=\"start\" x=\"3031.5\" y=\"-706.8\" font-family=\"Helvetica,sans-Serif\" font-size=\"14.00\" fill=\"#000000\">class = No</text>\n</g>\n<!-- 84&#45;&gt;85 -->\n<g id=\"edge85\" class=\"edge\">\n<title>84&#45;&gt;85</title>\n<path fill=\"none\" stroke=\"#000000\" d=\"M3066,-817.8796C3066,-809.6838 3066,-800.9891 3066,-792.5013\"/>\n<polygon fill=\"#000000\" stroke=\"#000000\" points=\"3069.5001,-792.298 3066,-782.2981 3062.5001,-792.2981 3069.5001,-792.298\"/>\n</g>\n<!-- 90 -->\n<g id=\"node91\" class=\"node\">\n<title>90</title>\n<path fill=\"#eba06a\" stroke=\"#000000\" d=\"M3407,-782C3407,-782 3259,-782 3259,-782 3253,-782 3247,-776 3247,-770 3247,-770 3247,-711 3247,-711 3247,-705 3253,-699 3259,-699 3259,-699 3407,-699 3407,-699 3413,-699 3419,-705 3419,-711 3419,-711 3419,-770 3419,-770 3419,-776 3413,-782 3407,-782\"/>\n<text text-anchor=\"start\" x=\"3255\" y=\"-766.8\" font-family=\"Helvetica,sans-Serif\" font-size=\"14.00\" fill=\"#000000\">ZoneAwaitingTime ≤ 2.5</text>\n<text text-anchor=\"start\" x=\"3282\" y=\"-751.8\" font-family=\"Helvetica,sans-Serif\" font-size=\"14.00\" fill=\"#000000\">entropy = 0.716</text>\n<text text-anchor=\"start\" x=\"3281\" y=\"-736.8\" font-family=\"Helvetica,sans-Serif\" font-size=\"14.00\" fill=\"#000000\">samples = 3624</text>\n<text text-anchor=\"start\" x=\"3271\" y=\"-721.8\" font-family=\"Helvetica,sans-Serif\" font-size=\"14.00\" fill=\"#000000\">value = [2910, 714]</text>\n<text text-anchor=\"start\" x=\"3298.5\" y=\"-706.8\" font-family=\"Helvetica,sans-Serif\" font-size=\"14.00\" fill=\"#000000\">class = No</text>\n</g>\n<!-- 84&#45;&gt;90 -->\n<g id=\"edge90\" class=\"edge\">\n<title>84&#45;&gt;90</title>\n<path fill=\"none\" stroke=\"#000000\" d=\"M3140.7294,-826.1936C3170.7778,-812.8013 3205.7892,-797.197 3237.639,-783.0017\"/>\n<polygon fill=\"#000000\" stroke=\"#000000\" points=\"3239.2617,-786.1105 3246.9707,-778.8426 3236.412,-779.7167 3239.2617,-786.1105\"/>\n</g>\n<!-- 86 -->\n<g id=\"node87\" class=\"node\">\n<title>86</title>\n<path fill=\"#eda876\" stroke=\"#000000\" d=\"M3043,-655.5C3043,-655.5 2935,-655.5 2935,-655.5 2929,-655.5 2923,-649.5 2923,-643.5 2923,-643.5 2923,-599.5 2923,-599.5 2923,-593.5 2929,-587.5 2935,-587.5 2935,-587.5 3043,-587.5 3043,-587.5 3049,-587.5 3055,-593.5 3055,-599.5 3055,-599.5 3055,-643.5 3055,-643.5 3055,-649.5 3049,-655.5 3043,-655.5\"/>\n<text text-anchor=\"start\" x=\"2938\" y=\"-640.3\" font-family=\"Helvetica,sans-Serif\" font-size=\"14.00\" fill=\"#000000\">entropy = 0.787</text>\n<text text-anchor=\"start\" x=\"2937\" y=\"-625.3\" font-family=\"Helvetica,sans-Serif\" font-size=\"14.00\" fill=\"#000000\">samples = 1081</text>\n<text text-anchor=\"start\" x=\"2931\" y=\"-610.3\" font-family=\"Helvetica,sans-Serif\" font-size=\"14.00\" fill=\"#000000\">value = [827, 254]</text>\n<text text-anchor=\"start\" x=\"2954.5\" y=\"-595.3\" font-family=\"Helvetica,sans-Serif\" font-size=\"14.00\" fill=\"#000000\">class = No</text>\n</g>\n<!-- 85&#45;&gt;86 -->\n<g id=\"edge86\" class=\"edge\">\n<title>85&#45;&gt;86</title>\n<path fill=\"none\" stroke=\"#000000\" d=\"M3039.0691,-698.8796C3031.8117,-687.6636 3023.9497,-675.5131 3016.6535,-664.2372\"/>\n<polygon fill=\"#000000\" stroke=\"#000000\" points=\"3019.5748,-662.3093 3011.2038,-655.8149 3013.6978,-666.112 3019.5748,-662.3093\"/>\n</g>\n<!-- 87 -->\n<g id=\"node88\" class=\"node\">\n<title>87</title>\n<path fill=\"#eeae7f\" stroke=\"#000000\" d=\"M3233,-663C3233,-663 3085,-663 3085,-663 3079,-663 3073,-657 3073,-651 3073,-651 3073,-592 3073,-592 3073,-586 3079,-580 3085,-580 3085,-580 3233,-580 3233,-580 3239,-580 3245,-586 3245,-592 3245,-592 3245,-651 3245,-651 3245,-657 3239,-663 3233,-663\"/>\n<text text-anchor=\"start\" x=\"3081\" y=\"-647.8\" font-family=\"Helvetica,sans-Serif\" font-size=\"14.00\" fill=\"#000000\">ZoneAwaitingTime ≤ 3.5</text>\n<text text-anchor=\"start\" x=\"3108\" y=\"-632.8\" font-family=\"Helvetica,sans-Serif\" font-size=\"14.00\" fill=\"#000000\">entropy = 0.829</text>\n<text text-anchor=\"start\" x=\"3107\" y=\"-617.8\" font-family=\"Helvetica,sans-Serif\" font-size=\"14.00\" fill=\"#000000\">samples = 1433</text>\n<text text-anchor=\"start\" x=\"3097\" y=\"-602.8\" font-family=\"Helvetica,sans-Serif\" font-size=\"14.00\" fill=\"#000000\">value = [1058, 375]</text>\n<text text-anchor=\"start\" x=\"3124.5\" y=\"-587.8\" font-family=\"Helvetica,sans-Serif\" font-size=\"14.00\" fill=\"#000000\">class = No</text>\n</g>\n<!-- 85&#45;&gt;87 -->\n<g id=\"edge87\" class=\"edge\">\n<title>85&#45;&gt;87</title>\n<path fill=\"none\" stroke=\"#000000\" d=\"M3098.5269,-698.8796C3105.4951,-689.9633 3112.9247,-680.4565 3120.1056,-671.268\"/>\n<polygon fill=\"#000000\" stroke=\"#000000\" points=\"3122.9343,-673.3326 3126.3343,-663.2981 3117.4188,-669.0221 3122.9343,-673.3326\"/>\n</g>\n<!-- 88 -->\n<g id=\"node89\" class=\"node\">\n<title>88</title>\n<path fill=\"#eeac7d\" stroke=\"#000000\" d=\"M3213,-536.5C3213,-536.5 3105,-536.5 3105,-536.5 3099,-536.5 3093,-530.5 3093,-524.5 3093,-524.5 3093,-480.5 3093,-480.5 3093,-474.5 3099,-468.5 3105,-468.5 3105,-468.5 3213,-468.5 3213,-468.5 3219,-468.5 3225,-474.5 3225,-480.5 3225,-480.5 3225,-524.5 3225,-524.5 3225,-530.5 3219,-536.5 3213,-536.5\"/>\n<text text-anchor=\"start\" x=\"3108\" y=\"-521.3\" font-family=\"Helvetica,sans-Serif\" font-size=\"14.00\" fill=\"#000000\">entropy = 0.821</text>\n<text text-anchor=\"start\" x=\"3107\" y=\"-506.3\" font-family=\"Helvetica,sans-Serif\" font-size=\"14.00\" fill=\"#000000\">samples = 1226</text>\n<text text-anchor=\"start\" x=\"3101\" y=\"-491.3\" font-family=\"Helvetica,sans-Serif\" font-size=\"14.00\" fill=\"#000000\">value = [912, 314]</text>\n<text text-anchor=\"start\" x=\"3124.5\" y=\"-476.3\" font-family=\"Helvetica,sans-Serif\" font-size=\"14.00\" fill=\"#000000\">class = No</text>\n</g>\n<!-- 87&#45;&gt;88 -->\n<g id=\"edge88\" class=\"edge\">\n<title>87&#45;&gt;88</title>\n<path fill=\"none\" stroke=\"#000000\" d=\"M3159,-579.8796C3159,-569.2134 3159,-557.7021 3159,-546.9015\"/>\n<polygon fill=\"#000000\" stroke=\"#000000\" points=\"3162.5001,-546.8149 3159,-536.8149 3155.5001,-546.815 3162.5001,-546.8149\"/>\n</g>\n<!-- 89 -->\n<g id=\"node90\" class=\"node\">\n<title>89</title>\n<path fill=\"#f0b68c\" stroke=\"#000000\" d=\"M3355,-536.5C3355,-536.5 3255,-536.5 3255,-536.5 3249,-536.5 3243,-530.5 3243,-524.5 3243,-524.5 3243,-480.5 3243,-480.5 3243,-474.5 3249,-468.5 3255,-468.5 3255,-468.5 3355,-468.5 3355,-468.5 3361,-468.5 3367,-474.5 3367,-480.5 3367,-480.5 3367,-524.5 3367,-524.5 3367,-530.5 3361,-536.5 3355,-536.5\"/>\n<text text-anchor=\"start\" x=\"3254\" y=\"-521.3\" font-family=\"Helvetica,sans-Serif\" font-size=\"14.00\" fill=\"#000000\">entropy = 0.875</text>\n<text text-anchor=\"start\" x=\"3257\" y=\"-506.3\" font-family=\"Helvetica,sans-Serif\" font-size=\"14.00\" fill=\"#000000\">samples = 207</text>\n<text text-anchor=\"start\" x=\"3251\" y=\"-491.3\" font-family=\"Helvetica,sans-Serif\" font-size=\"14.00\" fill=\"#000000\">value = [146, 61]</text>\n<text text-anchor=\"start\" x=\"3270.5\" y=\"-476.3\" font-family=\"Helvetica,sans-Serif\" font-size=\"14.00\" fill=\"#000000\">class = No</text>\n</g>\n<!-- 87&#45;&gt;89 -->\n<g id=\"edge89\" class=\"edge\">\n<title>87&#45;&gt;89</title>\n<path fill=\"none\" stroke=\"#000000\" d=\"M3210.0637,-579.8796C3224.634,-568.0038 3240.4896,-555.0804 3254.9958,-543.2568\"/>\n<polygon fill=\"#000000\" stroke=\"#000000\" points=\"3257.3592,-545.8459 3262.8993,-536.8149 3252.9366,-540.4199 3257.3592,-545.8459\"/>\n</g>\n<!-- 91 -->\n<g id=\"node92\" class=\"node\">\n<title>91</title>\n<path fill=\"#eb9e67\" stroke=\"#000000\" d=\"M3391,-655.5C3391,-655.5 3275,-655.5 3275,-655.5 3269,-655.5 3263,-649.5 3263,-643.5 3263,-643.5 3263,-599.5 3263,-599.5 3263,-593.5 3269,-587.5 3275,-587.5 3275,-587.5 3391,-587.5 3391,-587.5 3397,-587.5 3403,-593.5 3403,-599.5 3403,-599.5 3403,-643.5 3403,-643.5 3403,-649.5 3397,-655.5 3391,-655.5\"/>\n<text text-anchor=\"start\" x=\"3282\" y=\"-640.3\" font-family=\"Helvetica,sans-Serif\" font-size=\"14.00\" fill=\"#000000\">entropy = 0.695</text>\n<text text-anchor=\"start\" x=\"3281\" y=\"-625.3\" font-family=\"Helvetica,sans-Serif\" font-size=\"14.00\" fill=\"#000000\">samples = 1584</text>\n<text text-anchor=\"start\" x=\"3271\" y=\"-610.3\" font-family=\"Helvetica,sans-Serif\" font-size=\"14.00\" fill=\"#000000\">value = [1288, 296]</text>\n<text text-anchor=\"start\" x=\"3298.5\" y=\"-595.3\" font-family=\"Helvetica,sans-Serif\" font-size=\"14.00\" fill=\"#000000\">class = No</text>\n</g>\n<!-- 90&#45;&gt;91 -->\n<g id=\"edge91\" class=\"edge\">\n<title>90&#45;&gt;91</title>\n<path fill=\"none\" stroke=\"#000000\" d=\"M3333,-698.8796C3333,-688.2134 3333,-676.7021 3333,-665.9015\"/>\n<polygon fill=\"#000000\" stroke=\"#000000\" points=\"3336.5001,-665.8149 3333,-655.8149 3329.5001,-665.815 3336.5001,-665.8149\"/>\n</g>\n<!-- 92 -->\n<g id=\"node93\" class=\"node\">\n<title>92</title>\n<path fill=\"#eca16c\" stroke=\"#000000\" d=\"M3581,-663C3581,-663 3433,-663 3433,-663 3427,-663 3421,-657 3421,-651 3421,-651 3421,-592 3421,-592 3421,-586 3427,-580 3433,-580 3433,-580 3581,-580 3581,-580 3587,-580 3593,-586 3593,-592 3593,-592 3593,-651 3593,-651 3593,-657 3587,-663 3581,-663\"/>\n<text text-anchor=\"start\" x=\"3429\" y=\"-647.8\" font-family=\"Helvetica,sans-Serif\" font-size=\"14.00\" fill=\"#000000\">ZoneAwaitingTime ≤ 3.5</text>\n<text text-anchor=\"start\" x=\"3456\" y=\"-632.8\" font-family=\"Helvetica,sans-Serif\" font-size=\"14.00\" fill=\"#000000\">entropy = 0.732</text>\n<text text-anchor=\"start\" x=\"3455\" y=\"-617.8\" font-family=\"Helvetica,sans-Serif\" font-size=\"14.00\" fill=\"#000000\">samples = 2040</text>\n<text text-anchor=\"start\" x=\"3445\" y=\"-602.8\" font-family=\"Helvetica,sans-Serif\" font-size=\"14.00\" fill=\"#000000\">value = [1622, 418]</text>\n<text text-anchor=\"start\" x=\"3472.5\" y=\"-587.8\" font-family=\"Helvetica,sans-Serif\" font-size=\"14.00\" fill=\"#000000\">class = No</text>\n</g>\n<!-- 90&#45;&gt;92 -->\n<g id=\"edge92\" class=\"edge\">\n<title>90&#45;&gt;92</title>\n<path fill=\"none\" stroke=\"#000000\" d=\"M3393.8568,-698.8796C3408.0294,-689.1868 3423.2225,-678.7961 3437.7288,-668.8752\"/>\n<polygon fill=\"#000000\" stroke=\"#000000\" points=\"3439.8992,-671.6311 3446.1776,-663.0969 3435.9475,-665.8531 3439.8992,-671.6311\"/>\n</g>\n<!-- 93 -->\n<g id=\"node94\" class=\"node\">\n<title>93</title>\n<path fill=\"#eca16b\" stroke=\"#000000\" d=\"M3539,-536.5C3539,-536.5 3423,-536.5 3423,-536.5 3417,-536.5 3411,-530.5 3411,-524.5 3411,-524.5 3411,-480.5 3411,-480.5 3411,-474.5 3417,-468.5 3423,-468.5 3423,-468.5 3539,-468.5 3539,-468.5 3545,-468.5 3551,-474.5 3551,-480.5 3551,-480.5 3551,-524.5 3551,-524.5 3551,-530.5 3545,-536.5 3539,-536.5\"/>\n<text text-anchor=\"start\" x=\"3430\" y=\"-521.3\" font-family=\"Helvetica,sans-Serif\" font-size=\"14.00\" fill=\"#000000\">entropy = 0.725</text>\n<text text-anchor=\"start\" x=\"3429\" y=\"-506.3\" font-family=\"Helvetica,sans-Serif\" font-size=\"14.00\" fill=\"#000000\">samples = 1673</text>\n<text text-anchor=\"start\" x=\"3419\" y=\"-491.3\" font-family=\"Helvetica,sans-Serif\" font-size=\"14.00\" fill=\"#000000\">value = [1336, 337]</text>\n<text text-anchor=\"start\" x=\"3446.5\" y=\"-476.3\" font-family=\"Helvetica,sans-Serif\" font-size=\"14.00\" fill=\"#000000\">class = No</text>\n</g>\n<!-- 92&#45;&gt;93 -->\n<g id=\"edge93\" class=\"edge\">\n<title>92&#45;&gt;93</title>\n<path fill=\"none\" stroke=\"#000000\" d=\"M3497.9065,-579.8796C3495.576,-569.2134 3493.061,-557.7021 3490.7012,-546.9015\"/>\n<polygon fill=\"#000000\" stroke=\"#000000\" points=\"3494.0513,-545.8374 3488.4974,-536.8149 3487.2126,-547.3316 3494.0513,-545.8374\"/>\n</g>\n<!-- 94 -->\n<g id=\"node95\" class=\"node\">\n<title>94</title>\n<path fill=\"#eca571\" stroke=\"#000000\" d=\"M3681,-536.5C3681,-536.5 3581,-536.5 3581,-536.5 3575,-536.5 3569,-530.5 3569,-524.5 3569,-524.5 3569,-480.5 3569,-480.5 3569,-474.5 3575,-468.5 3581,-468.5 3581,-468.5 3681,-468.5 3681,-468.5 3687,-468.5 3693,-474.5 3693,-480.5 3693,-480.5 3693,-524.5 3693,-524.5 3693,-530.5 3687,-536.5 3681,-536.5\"/>\n<text text-anchor=\"start\" x=\"3580\" y=\"-521.3\" font-family=\"Helvetica,sans-Serif\" font-size=\"14.00\" fill=\"#000000\">entropy = 0.761</text>\n<text text-anchor=\"start\" x=\"3583\" y=\"-506.3\" font-family=\"Helvetica,sans-Serif\" font-size=\"14.00\" fill=\"#000000\">samples = 367</text>\n<text text-anchor=\"start\" x=\"3577\" y=\"-491.3\" font-family=\"Helvetica,sans-Serif\" font-size=\"14.00\" fill=\"#000000\">value = [286, 81]</text>\n<text text-anchor=\"start\" x=\"3596.5\" y=\"-476.3\" font-family=\"Helvetica,sans-Serif\" font-size=\"14.00\" fill=\"#000000\">class = No</text>\n</g>\n<!-- 92&#45;&gt;94 -->\n<g id=\"edge94\" class=\"edge\">\n<title>92&#45;&gt;94</title>\n<path fill=\"none\" stroke=\"#000000\" d=\"M3550.3692,-579.8796C3562.5148,-568.2237 3575.7119,-555.5587 3587.8451,-543.9148\"/>\n<polygon fill=\"#000000\" stroke=\"#000000\" points=\"3590.4516,-546.2643 3595.2433,-536.8149 3585.6047,-541.2138 3590.4516,-546.2643\"/>\n</g>\n</g>\n</svg>\n"
          },
          "metadata": {
            "tags": []
          },
          "execution_count": 57
        }
      ]
    },
    {
      "cell_type": "code",
      "metadata": {
        "id": "eGwPOPfhSnP9",
        "colab_type": "code",
        "outputId": "01dc1ed1-5e5b-44e0-bf80-9283f3cf14fc",
        "colab": {
          "base_uri": "https://localhost:8080/",
          "height": 34
        }
      },
      "source": [
        "decision_tree_clf.predict([pacient_fake1_n, pacient_fake2_n])"
      ],
      "execution_count": 0,
      "outputs": [
        {
          "output_type": "execute_result",
          "data": {
            "text/plain": [
              "array([0, 1])"
            ]
          },
          "metadata": {
            "tags": []
          },
          "execution_count": 59
        }
      ]
    },
    {
      "cell_type": "markdown",
      "metadata": {
        "id": "np595TZf4M1v",
        "colab_type": "text"
      },
      "source": [
        "#### Árvore com poda"
      ]
    },
    {
      "cell_type": "markdown",
      "metadata": {
        "id": "5_LCrUXL5Fd6",
        "colab_type": "text"
      },
      "source": [
        "Retirando o valor ideal (ccp_alpha) da poda - [Prunning complexity](https://scikit-learn.org/dev/auto_examples/tree/plot_cost_complexity_pruning.html#sphx-glr-auto-examples-tree-plot-cost-complexity-pruning-py)"
      ]
    },
    {
      "cell_type": "code",
      "metadata": {
        "id": "-eG-czeD5ESc",
        "colab_type": "code",
        "outputId": "4cccc9d3-5d14-4657-9ac4-75f571f0e282",
        "colab": {
          "base_uri": "https://localhost:8080/",
          "height": 312
        }
      },
      "source": [
        "clf_pruning = DecisionTreeClassifier(criterion='entropy')\n",
        "path = clf_pruning.cost_complexity_pruning_path(x_train, y_train)\n",
        "ccp_alphas, impurities = path.ccp_alphas, path.impurities\n",
        "\n",
        "fig, ax = plt.subplots()\n",
        "ax.plot(ccp_alphas[:-1], impurities[:-1], marker='o', drawstyle=\"steps-post\")\n",
        "ax.set_xlabel(\"effective alpha\")\n",
        "ax.set_ylabel(\"total impurity of leaves\")\n",
        "ax.set_title(\"Total Impurity vs effective alpha for training set\")"
      ],
      "execution_count": 0,
      "outputs": [
        {
          "output_type": "execute_result",
          "data": {
            "text/plain": [
              "Text(0.5, 1.0, 'Total Impurity vs effective alpha for training set')"
            ]
          },
          "metadata": {
            "tags": []
          },
          "execution_count": 130
        },
        {
          "output_type": "display_data",
          "data": {
            "image/png": "[encoded data removed]",
            "text/plain": [
              "<Figure size 432x288 with 1 Axes>"
            ]
          },
          "metadata": {
            "tags": []
          }
        }
      ]
    },
    {
      "cell_type": "markdown",
      "metadata": {
        "id": "Bk5J5YBP6hxi",
        "colab_type": "text"
      },
      "source": [
        "---"
      ]
    },
    {
      "cell_type": "code",
      "metadata": {
        "id": "pAxCMyK2rzd_",
        "colab_type": "code",
        "outputId": "cfd8c101-531b-4e1f-97ac-b825515ae854",
        "colab": {
          "base_uri": "https://localhost:8080/",
          "height": 119
        }
      },
      "source": [
        "alpha = 0.001\n",
        "d_tree_prunning_clf = DecisionTreeClassifier(criterion='entropy', ccp_alpha=alpha)\n",
        "\n",
        "d_tree_prunning_clf.fit(x_train, y_train)"
      ],
      "execution_count": 0,
      "outputs": [
        {
          "output_type": "execute_result",
          "data": {
            "text/plain": [
              "DecisionTreeClassifier(ccp_alpha=0.001, class_weight=None, criterion='entropy',\n",
              "                       max_depth=None, max_features=None, max_leaf_nodes=None,\n",
              "                       min_impurity_decrease=0.0, min_impurity_split=None,\n",
              "                       min_samples_leaf=1, min_samples_split=2,\n",
              "                       min_weight_fraction_leaf=0.0, presort='deprecated',\n",
              "                       random_state=None, splitter='best')"
            ]
          },
          "metadata": {
            "tags": []
          },
          "execution_count": 52
        }
      ]
    },
    {
      "cell_type": "code",
      "metadata": {
        "id": "aa1kkPoO_obD",
        "colab_type": "code",
        "outputId": "8677ab69-6fcd-446f-f1af-54f235bdb1c1",
        "colab": {
          "base_uri": "https://localhost:8080/",
          "height": 708
        }
      },
      "source": [
        "pred_prunning = d_tree_prunning_clf.predict(x_test)\n",
        "\n",
        "print(classification_report(y_test, pred_prunning))\n",
        "print('\\n')\n",
        "print('Qtd nodes:', d_tree_prunning_clf.tree_.node_count)\n",
        "print('\\n')\n",
        "\n",
        "poda_tree_plt = plot_confusion_matrix(y_test, pred_prunning, classes=np.array(['No', 'Yes']),\n",
        "                      title='Matriz de confusão')\n",
        "\n",
        "poda_tree_plt.plot()"
      ],
      "execution_count": 0,
      "outputs": [
        {
          "output_type": "stream",
          "text": [
            "              precision    recall  f1-score   support\n",
            "\n",
            "           0       0.80      1.00      0.89     26387\n",
            "           1       0.00      0.00      0.00      6757\n",
            "\n",
            "    accuracy                           0.80     33144\n",
            "   macro avg       0.40      0.50      0.44     33144\n",
            "weighted avg       0.63      0.80      0.71     33144\n",
            "\n",
            "\n",
            "\n",
            "Qtd nodes: 7\n",
            "\n",
            "\n",
            "Confusion matrix, without normalization\n",
            "[[26387     0]\n",
            " [ 6757     0]]\n"
          ],
          "name": "stdout"
        },
        {
          "output_type": "stream",
          "text": [
            "/usr/local/lib/python3.6/dist-packages/sklearn/metrics/_classification.py:1252: UndefinedMetricWarning: Precision and F-score are ill-defined and being set to 0.0 in labels with no predicted samples. Use `zero_division` parameter to control this behavior.\n",
            "  _warn_prf(average, modifier, msg_start, len(result))\n"
          ],
          "name": "stderr"
        },
        {
          "output_type": "execute_result",
          "data": {
            "text/plain": [
              "[]"
            ]
          },
          "metadata": {
            "tags": []
          },
          "execution_count": 53
        },
        {
          "output_type": "display_data",
          "data": {
            "image/png": "[encoded data removed]",
            "text/plain": [
              "<Figure size 432x288 with 2 Axes>"
            ]
          },
          "metadata": {
            "tags": []
          }
        }
      ]
    },
    {
      "cell_type": "markdown",
      "metadata": {
        "id": "0xrHeG2b1jEg",
        "colab_type": "text"
      },
      "source": [
        "**Árvore gerada com poda**"
      ]
    },
    {
      "cell_type": "code",
      "metadata": {
        "id": "4de3wq1E5FqY",
        "colab_type": "code",
        "outputId": "0c22c452-168c-47d5-95bf-17193dff9031",
        "colab": {
          "base_uri": "https://localhost:8080/",
          "height": 450
        }
      },
      "source": [
        "import graphviz \n",
        "from sklearn import tree\n",
        "\n",
        "dot_data = tree.export_graphviz(d_tree_prunning_clf, out_file=None, \n",
        "                     feature_names=list(df_tree.columns),\n",
        "                     leaves_parallel=True,\n",
        "                     class_names=['No', 'Yes'],  \n",
        "                     filled=True, rounded=True,  \n",
        "                     special_characters=True)  \n",
        "\n",
        "graph = graphviz.Source(dot_data)  \n",
        "graph"
      ],
      "execution_count": 0,
      "outputs": [
        {
          "output_type": "execute_result",
          "data": {
            "text/plain": [
              "<graphviz.files.Source at 0x7f50b5ef2470>"
            ],
            "image/svg+xml": "<?xml version=\"1.0\" encoding=\"UTF-8\" standalone=\"no\"?>\n<!DOCTYPE svg PUBLIC \"-//W3C//DTD SVG 1.1//EN\"\n \"http://www.w3.org/Graphics/SVG/1.1/DTD/svg11.dtd\">\n<!-- Generated by graphviz version 2.40.1 (20161225.0304)\n -->\n<!-- Title: Tree Pages: 1 -->\n<svg width=\"672pt\" height=\"322pt\"\n viewBox=\"0.00 0.00 672.00 321.50\" xmlns=\"http://www.w3.org/2000/svg\" xmlns:xlink=\"http://www.w3.org/1999/xlink\">\n<g id=\"graph0\" class=\"graph\" transform=\"scale(1 1) rotate(0) translate(4 317.5)\">\n<title>Tree</title>\n<polygon fill=\"#ffffff\" stroke=\"transparent\" points=\"-4,4 -4,-317.5 668,-317.5 668,4 -4,4\"/>\n<!-- 0 -->\n<g id=\"node1\" class=\"node\">\n<title>0</title>\n<path fill=\"#eca16b\" stroke=\"#000000\" d=\"M405.5,-313.5C405.5,-313.5 257.5,-313.5 257.5,-313.5 251.5,-313.5 245.5,-307.5 245.5,-301.5 245.5,-301.5 245.5,-242.5 245.5,-242.5 245.5,-236.5 251.5,-230.5 257.5,-230.5 257.5,-230.5 405.5,-230.5 405.5,-230.5 411.5,-230.5 417.5,-236.5 417.5,-242.5 417.5,-242.5 417.5,-301.5 417.5,-301.5 417.5,-307.5 411.5,-313.5 405.5,-313.5\"/>\n<text text-anchor=\"start\" x=\"253.5\" y=\"-298.3\" font-family=\"Helvetica,sans-Serif\" font-size=\"14.00\" fill=\"#000000\">ZoneAwaitingTime ≤ 1.5</text>\n<text text-anchor=\"start\" x=\"280.5\" y=\"-283.3\" font-family=\"Helvetica,sans-Serif\" font-size=\"14.00\" fill=\"#000000\">entropy = 0.724</text>\n<text text-anchor=\"start\" x=\"275.5\" y=\"-268.3\" font-family=\"Helvetica,sans-Serif\" font-size=\"14.00\" fill=\"#000000\">samples = 77336</text>\n<text text-anchor=\"start\" x=\"257\" y=\"-253.3\" font-family=\"Helvetica,sans-Serif\" font-size=\"14.00\" fill=\"#000000\">value = [61781, 15555]</text>\n<text text-anchor=\"start\" x=\"297\" y=\"-238.3\" font-family=\"Helvetica,sans-Serif\" font-size=\"14.00\" fill=\"#000000\">class = No</text>\n</g>\n<!-- 1 -->\n<g id=\"node2\" class=\"node\">\n<title>1</title>\n<path fill=\"#e89253\" stroke=\"#000000\" d=\"M309,-194.5C309,-194.5 176,-194.5 176,-194.5 170,-194.5 164,-188.5 164,-182.5 164,-182.5 164,-123.5 164,-123.5 164,-117.5 170,-111.5 176,-111.5 176,-111.5 309,-111.5 309,-111.5 315,-111.5 321,-117.5 321,-123.5 321,-123.5 321,-182.5 321,-182.5 321,-188.5 315,-194.5 309,-194.5\"/>\n<text text-anchor=\"start\" x=\"177\" y=\"-179.3\" font-family=\"Helvetica,sans-Serif\" font-size=\"14.00\" fill=\"#000000\">SMS_received ≤ 0.5</text>\n<text text-anchor=\"start\" x=\"191.5\" y=\"-164.3\" font-family=\"Helvetica,sans-Serif\" font-size=\"14.00\" fill=\"#000000\">entropy = 0.523</text>\n<text text-anchor=\"start\" x=\"186.5\" y=\"-149.3\" font-family=\"Helvetica,sans-Serif\" font-size=\"14.00\" fill=\"#000000\">samples = 43413</text>\n<text text-anchor=\"start\" x=\"172\" y=\"-134.3\" font-family=\"Helvetica,sans-Serif\" font-size=\"14.00\" fill=\"#000000\">value = [38301, 5112]</text>\n<text text-anchor=\"start\" x=\"208\" y=\"-119.3\" font-family=\"Helvetica,sans-Serif\" font-size=\"14.00\" fill=\"#000000\">class = No</text>\n</g>\n<!-- 0&#45;&gt;1 -->\n<g id=\"edge1\" class=\"edge\">\n<title>0&#45;&gt;1</title>\n<path fill=\"none\" stroke=\"#000000\" d=\"M300.3721,-230.3796C293.771,-221.5534 286.7371,-212.1485 279.9298,-203.0466\"/>\n<polygon fill=\"#000000\" stroke=\"#000000\" points=\"282.5528,-200.7099 273.7607,-194.7981 276.9472,-204.9024 282.5528,-200.7099\"/>\n<text text-anchor=\"middle\" x=\"270.1919\" y=\"-215.842\" font-family=\"Helvetica,sans-Serif\" font-size=\"14.00\" fill=\"#000000\">True</text>\n</g>\n<!-- 4 -->\n<g id=\"node5\" class=\"node\">\n<title>4</title>\n<path fill=\"#f1b991\" stroke=\"#000000\" d=\"M492,-194.5C492,-194.5 351,-194.5 351,-194.5 345,-194.5 339,-188.5 339,-182.5 339,-182.5 339,-123.5 339,-123.5 339,-117.5 345,-111.5 351,-111.5 351,-111.5 492,-111.5 492,-111.5 498,-111.5 504,-117.5 504,-123.5 504,-123.5 504,-182.5 504,-182.5 504,-188.5 498,-194.5 492,-194.5\"/>\n<text text-anchor=\"start\" x=\"373.5\" y=\"-179.3\" font-family=\"Helvetica,sans-Serif\" font-size=\"14.00\" fill=\"#000000\">ZoneAge ≤ 5.5</text>\n<text text-anchor=\"start\" x=\"370.5\" y=\"-164.3\" font-family=\"Helvetica,sans-Serif\" font-size=\"14.00\" fill=\"#000000\">entropy = 0.891</text>\n<text text-anchor=\"start\" x=\"365.5\" y=\"-149.3\" font-family=\"Helvetica,sans-Serif\" font-size=\"14.00\" fill=\"#000000\">samples = 33923</text>\n<text text-anchor=\"start\" x=\"347\" y=\"-134.3\" font-family=\"Helvetica,sans-Serif\" font-size=\"14.00\" fill=\"#000000\">value = [23480, 10443]</text>\n<text text-anchor=\"start\" x=\"387\" y=\"-119.3\" font-family=\"Helvetica,sans-Serif\" font-size=\"14.00\" fill=\"#000000\">class = No</text>\n</g>\n<!-- 0&#45;&gt;4 -->\n<g id=\"edge4\" class=\"edge\">\n<title>0&#45;&gt;4</title>\n<path fill=\"none\" stroke=\"#000000\" d=\"M362.9776,-230.3796C369.6529,-221.5534 376.7658,-212.1485 383.6496,-203.0466\"/>\n<polygon fill=\"#000000\" stroke=\"#000000\" points=\"386.6474,-204.8852 389.888,-194.7981 381.0643,-200.6626 386.6474,-204.8852\"/>\n<text text-anchor=\"middle\" x=\"393.324\" y=\"-215.8608\" font-family=\"Helvetica,sans-Serif\" font-size=\"14.00\" fill=\"#000000\">False</text>\n</g>\n<!-- 2 -->\n<g id=\"node3\" class=\"node\">\n<title>2</title>\n<path fill=\"#e89050\" stroke=\"#000000\" d=\"M145,-68C145,-68 12,-68 12,-68 6,-68 0,-62 0,-56 0,-56 0,-12 0,-12 0,-6 6,0 12,0 12,0 145,0 145,0 151,0 157,-6 157,-12 157,-12 157,-56 157,-56 157,-62 151,-68 145,-68\"/>\n<text text-anchor=\"start\" x=\"27.5\" y=\"-52.8\" font-family=\"Helvetica,sans-Serif\" font-size=\"14.00\" fill=\"#000000\">entropy = 0.486</text>\n<text text-anchor=\"start\" x=\"22.5\" y=\"-37.8\" font-family=\"Helvetica,sans-Serif\" font-size=\"14.00\" fill=\"#000000\">samples = 39191</text>\n<text text-anchor=\"start\" x=\"8\" y=\"-22.8\" font-family=\"Helvetica,sans-Serif\" font-size=\"14.00\" fill=\"#000000\">value = [35062, 4129]</text>\n<text text-anchor=\"start\" x=\"44\" y=\"-7.8\" font-family=\"Helvetica,sans-Serif\" font-size=\"14.00\" fill=\"#000000\">class = No</text>\n</g>\n<!-- 1&#45;&gt;2 -->\n<g id=\"edge2\" class=\"edge\">\n<title>1&#45;&gt;2</title>\n<path fill=\"none\" stroke=\"#000000\" d=\"M185.1408,-111.3796C168.5439,-99.3368 150.4625,-86.2167 133.9824,-74.2586\"/>\n<polygon fill=\"#000000\" stroke=\"#000000\" points=\"135.676,-71.1632 125.5267,-68.123 131.5649,-76.8288 135.676,-71.1632\"/>\n</g>\n<!-- 3 -->\n<g id=\"node4\" class=\"node\">\n<title>3</title>\n<path fill=\"#eda775\" stroke=\"#000000\" d=\"M303.5,-68C303.5,-68 187.5,-68 187.5,-68 181.5,-68 175.5,-62 175.5,-56 175.5,-56 175.5,-12 175.5,-12 175.5,-6 181.5,0 187.5,0 187.5,0 303.5,0 303.5,0 309.5,0 315.5,-6 315.5,-12 315.5,-12 315.5,-56 315.5,-56 315.5,-62 309.5,-68 303.5,-68\"/>\n<text text-anchor=\"start\" x=\"194.5\" y=\"-52.8\" font-family=\"Helvetica,sans-Serif\" font-size=\"14.00\" fill=\"#000000\">entropy = 0.783</text>\n<text text-anchor=\"start\" x=\"193.5\" y=\"-37.8\" font-family=\"Helvetica,sans-Serif\" font-size=\"14.00\" fill=\"#000000\">samples = 4222</text>\n<text text-anchor=\"start\" x=\"183.5\" y=\"-22.8\" font-family=\"Helvetica,sans-Serif\" font-size=\"14.00\" fill=\"#000000\">value = [3239, 983]</text>\n<text text-anchor=\"start\" x=\"211\" y=\"-7.8\" font-family=\"Helvetica,sans-Serif\" font-size=\"14.00\" fill=\"#000000\">class = No</text>\n</g>\n<!-- 1&#45;&gt;3 -->\n<g id=\"edge3\" class=\"edge\">\n<title>1&#45;&gt;3</title>\n<path fill=\"none\" stroke=\"#000000\" d=\"M243.5493,-111.3796C243.8182,-100.7134 244.1084,-89.2021 244.3806,-78.4015\"/>\n<polygon fill=\"#000000\" stroke=\"#000000\" points=\"247.8817,-78.4 244.6349,-68.3149 240.8839,-78.2235 247.8817,-78.4\"/>\n</g>\n<!-- 5 -->\n<g id=\"node6\" class=\"node\">\n<title>5</title>\n<path fill=\"#f2be99\" stroke=\"#000000\" d=\"M485,-68C485,-68 352,-68 352,-68 346,-68 340,-62 340,-56 340,-56 340,-12 340,-12 340,-6 346,0 352,0 352,0 485,0 485,0 491,0 497,-6 497,-12 497,-12 497,-56 497,-56 497,-62 491,-68 485,-68\"/>\n<text text-anchor=\"start\" x=\"367.5\" y=\"-52.8\" font-family=\"Helvetica,sans-Serif\" font-size=\"14.00\" fill=\"#000000\">entropy = 0.912</text>\n<text text-anchor=\"start\" x=\"362.5\" y=\"-37.8\" font-family=\"Helvetica,sans-Serif\" font-size=\"14.00\" fill=\"#000000\">samples = 27785</text>\n<text text-anchor=\"start\" x=\"348\" y=\"-22.8\" font-family=\"Helvetica,sans-Serif\" font-size=\"14.00\" fill=\"#000000\">value = [18685, 9100]</text>\n<text text-anchor=\"start\" x=\"384\" y=\"-7.8\" font-family=\"Helvetica,sans-Serif\" font-size=\"14.00\" fill=\"#000000\">class = No</text>\n</g>\n<!-- 4&#45;&gt;5 -->\n<g id=\"edge5\" class=\"edge\">\n<title>4&#45;&gt;5</title>\n<path fill=\"none\" stroke=\"#000000\" d=\"M420.4507,-111.3796C420.1818,-100.7134 419.8916,-89.2021 419.6194,-78.4015\"/>\n<polygon fill=\"#000000\" stroke=\"#000000\" points=\"423.1161,-78.2235 419.3651,-68.3149 416.1183,-78.4 423.1161,-78.2235\"/>\n</g>\n<!-- 6 -->\n<g id=\"node7\" class=\"node\">\n<title>6</title>\n<path fill=\"#eca470\" stroke=\"#000000\" d=\"M652,-68C652,-68 527,-68 527,-68 521,-68 515,-62 515,-56 515,-56 515,-12 515,-12 515,-6 521,0 527,0 527,0 652,0 652,0 658,0 664,-6 664,-12 664,-12 664,-56 664,-56 664,-62 658,-68 652,-68\"/>\n<text text-anchor=\"start\" x=\"538.5\" y=\"-52.8\" font-family=\"Helvetica,sans-Serif\" font-size=\"14.00\" fill=\"#000000\">entropy = 0.758</text>\n<text text-anchor=\"start\" x=\"537.5\" y=\"-37.8\" font-family=\"Helvetica,sans-Serif\" font-size=\"14.00\" fill=\"#000000\">samples = 6138</text>\n<text text-anchor=\"start\" x=\"523\" y=\"-22.8\" font-family=\"Helvetica,sans-Serif\" font-size=\"14.00\" fill=\"#000000\">value = [4795, 1343]</text>\n<text text-anchor=\"start\" x=\"555\" y=\"-7.8\" font-family=\"Helvetica,sans-Serif\" font-size=\"14.00\" fill=\"#000000\">class = No</text>\n</g>\n<!-- 4&#45;&gt;6 -->\n<g id=\"edge6\" class=\"edge\">\n<title>4&#45;&gt;6</title>\n<path fill=\"none\" stroke=\"#000000\" d=\"M480.2582,-111.3796C497.4158,-99.2263 516.1223,-85.9759 533.1286,-73.9297\"/>\n<polygon fill=\"#000000\" stroke=\"#000000\" points=\"535.1891,-76.7593 541.3263,-68.123 531.143,-71.0472 535.1891,-76.7593\"/>\n</g>\n</g>\n</svg>\n"
          },
          "metadata": {
            "tags": []
          },
          "execution_count": 108
        }
      ]
    },
    {
      "cell_type": "code",
      "metadata": {
        "id": "yhxSTjMYV0Qx",
        "colab_type": "code",
        "outputId": "0b6f2af8-eaf9-463e-8e71-f390feadae04",
        "colab": {
          "base_uri": "https://localhost:8080/",
          "height": 34
        }
      },
      "source": [
        "d_tree_prunning_clf.predict([pacient_fake1, pacient_fake2])"
      ],
      "execution_count": 0,
      "outputs": [
        {
          "output_type": "execute_result",
          "data": {
            "text/plain": [
              "array([0, 0])"
            ]
          },
          "metadata": {
            "tags": []
          },
          "execution_count": 54
        }
      ]
    }
  ]
}